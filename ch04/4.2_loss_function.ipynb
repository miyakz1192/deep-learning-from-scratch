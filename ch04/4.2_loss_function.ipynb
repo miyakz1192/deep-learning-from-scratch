{
 "cells": [
  {
   "cell_type": "code",
   "execution_count": 1,
   "metadata": {},
   "outputs": [
    {
     "name": "stdout",
     "output_type": "stream",
     "text": [
      "0.09750000000000003\n",
      "0.5975\n"
     ]
    }
   ],
   "source": [
    "########################################\n",
    "#損失関数の各種練習など\n",
    "########################################\n",
    "\n",
    "import numpy as np\n",
    "import matplotlib.pyplot as plt\n",
    "\n",
    "#テキストP88あたり\n",
    "\n",
    "y = [0.1, 0.05, 0.6, 0.0, 0.05, 0.1, 0.0, 0.1, 0.0, 0.0]\n",
    "t = [0  , 0   ,   1,   0,    0,   0,   0,   0,   0,   0]\n",
    "\n",
    "def sum_squared_error(y, t):\n",
    "    return 0.5 * np.sum((y-t)**2) # **2を使うと、各要素にブロードキャストできる！numpyの便利な性質\n",
    "\n",
    "#試しに動かしてみる\n",
    "\n",
    "#[2]を正解とする\n",
    "#[2]の正解率が最も高い場合\n",
    "print(sum_squared_error(np.array(y), np.array(t)))\n",
    "\n",
    "#[7]の正解率が最も高い場合\n",
    "y = [0.1, 0.05, 0.1, 0.0, 0.05, 0.1, 0.0, 0.6, 0.0, 0.0]\n",
    "print(sum_squared_error(np.array(y), np.array(t)))\n",
    "\n",
    "#このように、２乗和誤差はニューラルネットと答えのズレが少なくなるほどに、数値が低くなっていく。\n"
   ]
  },
  {
   "cell_type": "code",
   "execution_count": 2,
   "metadata": {},
   "outputs": [],
   "source": [
    "####################################\n",
    "#交差エントロピーの学習\n",
    "####################################"
   ]
  },
  {
   "cell_type": "markdown",
   "metadata": {},
   "source": [
    "交差エントロピー誤差の数式\n",
    "(書き方はこのページが参考になった)\n",
    "\n",
    "https://qiita.com/namoshika/items/63db972bfd1030f8264a\n",
    "\n",
    "$$\n",
    "    E = - \\sum_{k}^{}t_klogy_k \\quad\n",
    "$$"
   ]
  },
  {
   "cell_type": "code",
   "execution_count": 3,
   "metadata": {},
   "outputs": [
    {
     "data": {
      "image/png": "[encoded data removed]",
      "text/plain": [
       "<Figure size 432x288 with 1 Axes>"
      ]
     },
     "metadata": {
      "needs_background": "light"
     },
     "output_type": "display_data"
    }
   ],
   "source": [
    "#まずは自然対数のグラフから\n",
    "\n",
    "x = np.arange(0.001, 1, 0.0001) # 0から6まで0.1刻みで生成\n",
    "y = np.log(x)\n",
    "\n",
    "# グラフの描画\n",
    "plt.plot(x, y)\n",
    "plt.show()"
   ]
  },
  {
   "cell_type": "code",
   "execution_count": 4,
   "metadata": {},
   "outputs": [
    {
     "name": "stdout",
     "output_type": "stream",
     "text": [
      "0.510825457099338\n",
      "2.302584092994546\n"
     ]
    }
   ],
   "source": [
    "##################################\n",
    "# 交差エントロピー関数の実装\n",
    "##################################\n",
    "\n",
    "def cross_entropy_error(y, t):\n",
    "    delta = 1e-7\n",
    "    return - np.sum(t*np.log(y+delta)) #deltaを足すのはnp.log(0)による無限大回避策\n",
    "\n",
    "#試しに動かしてみる\n",
    "y = [0.1, 0.05, 0.6, 0.0, 0.05, 0.1, 0.0, 0.1, 0.0, 0.0]\n",
    "t = [0  , 0   ,   1,   0,    0,   0,   0,   0,   0,   0]\n",
    "\n",
    "#[2]を正解とする\n",
    "#[2]の正解率が最も高い場合\n",
    "print(cross_entropy_error(np.array(y), np.array(t)))\n",
    "\n",
    "#[7]の正解率が最も高い場合\n",
    "y = [0.1, 0.05, 0.1, 0.0, 0.05, 0.1, 0.0, 0.6, 0.0, 0.0]\n",
    "print(cross_entropy_error(np.array(y), np.array(t)))\n",
    "\n",
    "#交差エントロピの場合も２乗誤差和の時と同じように、誤差が低い時に低い値がでる。\n"
   ]
  },
  {
   "cell_type": "code",
   "execution_count": 9,
   "metadata": {},
   "outputs": [
    {
     "name": "stdout",
     "output_type": "stream",
     "text": [
      "(60000, 784)\n",
      "(60000, 10)\n",
      "[0. 0. 0. 0. 0. 1. 0. 0. 0. 0.]\n",
      "ランダムチョイスのテスト\n",
      "[ 1  3  6 10]\n"
     ]
    }
   ],
   "source": [
    "#############################################################\n",
    "#「ミニバッチ学習」の学習\n",
    "#\n",
    "# 全ての訓練データに対して、損失関数を計算するのではなく、\n",
    "# 訓練データからランダムに取り出して、損失関数を計算することで、\n",
    "# 大体、全体を近似する考え方\n",
    "##############################################################\n",
    "\n",
    "#テキストのP92あたりからスタート\n",
    "\n",
    "import sys, os\n",
    "import numpy as np\n",
    "\n",
    "sys.path.append(os.pardir)\n",
    "\n",
    "from dataset.mnist import load_mnist\n",
    "\n",
    "(x_train, t_train), (x_test, t_test) = load_mnist(normalize=True, one_hot_label=True)\n",
    "\n",
    "print(x_train.shape)\n",
    "print(t_train.shape)\n",
    "\n",
    "#正解データはone hot表現になっている(one_hot_labelをTrueに指定したため)\n",
    "print(t_train[0])\n",
    "\n",
    "#ここで、おもむろにランダムチョイスのテストをしてみる\n",
    "print(\"ランダムチョイスのテスト\")\n",
    "a = np.array([1,2,3,4,5,6,7,8,9,10])\n",
    "print(a[[0,2,5,9]]) #想定どおり！\n",
    "\n",
    "#これを上記、訓練データに適用して、ミニバッチをするとこうなる。\n",
    "print(\"ミニバッチへのランダムチョイスの適用\")\n",
    "\n",
    "train_size = x_train.shape[0]\n",
    "batch_size = 10\n",
    "batch_mask = np.random.choice(train_size, batch_size) # 0~train_size未満の数字の中からランダムにbatch_size個の数字を選び出す\n",
    "#ランダムチョイスを使って、訓練データ（画像と、答え）を選び出す!\n",
    "x_batch    = x_train[batch_mask]\n",
    "t_batch    = t_train[batch_mask]\n",
    "\n"
   ]
  },
  {
   "cell_type": "code",
   "execution_count": null,
   "metadata": {},
   "outputs": [],
   "source": []
  }
 ],
 "metadata": {
  "kernelspec": {
   "display_name": "Python 3",
   "language": "python",
   "name": "python3"
  },
  "language_info": {
   "codemirror_mode": {
    "name": "ipython",
    "version": 3
   },
   "file_extension": ".py",
   "mimetype": "text/x-python",
   "name": "python",
   "nbconvert_exporter": "python",
   "pygments_lexer": "ipython3",
   "version": "3.8.5"
  }
 },
 "nbformat": 4,
 "nbformat_minor": 4
}
