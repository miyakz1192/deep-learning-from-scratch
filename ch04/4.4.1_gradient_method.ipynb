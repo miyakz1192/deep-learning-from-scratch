{
 "cells": [
  {
   "cell_type": "code",
   "execution_count": 1,
   "metadata": {},
   "outputs": [],
   "source": [
    "#######################################################\n",
    "#勾配法の練習\n",
    "#######################################################"
   ]
  },
  {
   "cell_type": "code",
   "execution_count": 2,
   "metadata": {},
   "outputs": [],
   "source": [
    "import sys, os\n",
    "sys.path.append(os.pardir)  # 親ディレクトリのファイルをインポートするための設定\n",
    "import common.gradient as g\n",
    "import numpy as np\n",
    "import matplotlib.pylab as plt\n",
    "\n",
    "#勾配法の関数を実装する。 テキストのP107を参考に\n",
    "#入力：ｆ・・・関数、　init_x・・・ベクトル、lr・・・学習係数、step_num・・・勾配法で繰り返す回数\n",
    "def gradient_descent_my(f, init_x, lr=0.01, step_num=100):\n",
    "    x = init_x\n",
    "    for i in range(step_num):\n",
    "        x -= lr * g.numerical_gradient(f, x)\n",
    "        \n",
    "    return x"
   ]
  },
  {
   "cell_type": "markdown",
   "metadata": {},
   "source": [
    "実際に試してみる。対象は以下の関数\n",
    "$$\n",
    "    y = x_0^2 + x_1^2\n",
    "$$"
   ]
  },
  {
   "cell_type": "code",
   "execution_count": 3,
   "metadata": {},
   "outputs": [
    {
     "name": "stdout",
     "output_type": "stream",
     "text": [
      "13\n"
     ]
    }
   ],
   "source": [
    "#実際に試してみる。\n",
    "def function2(x):\n",
    "    return np.sum(x**2)\n",
    "\n",
    "print(function2(np.array([2,3])))"
   ]
  },
  {
   "cell_type": "code",
   "execution_count": 4,
   "metadata": {},
   "outputs": [
    {
     "name": "stdout",
     "output_type": "stream",
     "text": [
      "[-6.11110793e-10  8.14814391e-10]\n"
     ]
    }
   ],
   "source": [
    "init_x = np.array([-3.0, 4.0])\n",
    "grad = gradient_descent_my(function2, init_x, lr=0.1)\n",
    "print(grad)"
   ]
  },
  {
   "cell_type": "markdown",
   "metadata": {},
   "source": [
    "テキストP108では、(0,0)が最小値ということで解説されているため、\n",
    "得られた結果は、ほぼ正解ということになる。\n",
    "ここで試しに、lrを大きくしたり、小さくしたりして実験してみる"
   ]
  },
  {
   "cell_type": "code",
   "execution_count": 5,
   "metadata": {},
   "outputs": [
    {
     "name": "stdout",
     "output_type": "stream",
     "text": [
      "[-2.58983747e+13 -1.29524862e+12]\n"
     ]
    }
   ],
   "source": [
    "#学習率が大きすぎる\n",
    "init_x = np.array([-3.0, 4.0])\n",
    "grad = gradient_descent_my(function2, init_x, lr=10)\n",
    "print(grad)"
   ]
  },
  {
   "cell_type": "markdown",
   "metadata": {},
   "source": [
    "テキストが示すように、大きな値に発散してしまっている。\n",
    "逆に学習率が小さすぎる例を試してみる。"
   ]
  },
  {
   "cell_type": "code",
   "execution_count": 6,
   "metadata": {},
   "outputs": [
    {
     "name": "stdout",
     "output_type": "stream",
     "text": [
      "[-2.99999994  3.99999992]\n"
     ]
    }
   ],
   "source": [
    "#学習率が大きすぎる\n",
    "init_x = np.array([-3.0, 4.0])\n",
    "grad = gradient_descent_my(function2, init_x, lr=1e-10)\n",
    "print(grad)"
   ]
  },
  {
   "cell_type": "markdown",
   "metadata": {},
   "source": [
    "テキストが示すように、ほとんど更新が終わらずに関数が終了してしまった。\n",
    "ここで、matplotlibを使って更新の様子を描画してみる。"
   ]
  },
  {
   "cell_type": "code",
   "execution_count": 8,
   "metadata": {},
   "outputs": [
    {
     "data": {
      "image/png": "[encoded data removed]",
      "text/plain": [
       "<Figure size 432x288 with 1 Axes>"
      ]
     },
     "metadata": {
      "needs_background": "light"
     },
     "output_type": "display_data"
    }
   ],
   "source": [
    "#軸を破線で描画する設定(ch04/gradient_method.pyから引用)\n",
    "plt.plot( [-5, 5], [0,0], '--b')\n",
    "plt.plot( [0,0], [-5, 5], '--b')\n",
    "\n",
    "#xとy軸の最大値を設定(ch04/gradient_method.pyから引用)\n",
    "plt.xlim(-3.5, 3.5)\n",
    "plt.ylim(-4.5, 4.5)\n",
    "\n",
    "plt.xlabel(\"x\")\n",
    "plt.ylabel(\"y\")\n",
    "\n",
    "init_x = np.array([-3.0, 4.0])\n",
    "for i in range(100):\n",
    "    grad_x, grad_y = gradient_descent_my(function2, init_x, lr=0.1, step_num=1)\n",
    "    plt.plot(grad_x,grad_y,\"o\")\n",
    "    init_x = np.array([grad_x, grad_y])\n",
    "    \n",
    "plt.show()"
   ]
  },
  {
   "cell_type": "markdown",
   "metadata": {},
   "source": [
    "結論として勾配法で最小値を求めることができるようになった。"
   ]
  }
 ],
 "metadata": {
  "kernelspec": {
   "display_name": "Python 3",
   "language": "python",
   "name": "python3"
  },
  "language_info": {
   "codemirror_mode": {
    "name": "ipython",
    "version": 3
   },
   "file_extension": ".py",
   "mimetype": "text/x-python",
   "name": "python",
   "nbconvert_exporter": "python",
   "pygments_lexer": "ipython3",
   "version": "3.8.8"
  }
 },
 "nbformat": 4,
 "nbformat_minor": 4
}
