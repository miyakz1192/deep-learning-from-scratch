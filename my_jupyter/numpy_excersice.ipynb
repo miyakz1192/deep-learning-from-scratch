{
 "cells": [
  {
   "cell_type": "markdown",
   "metadata": {},
   "source": [
    "# お約束の設定"
   ]
  },
  {
   "cell_type": "code",
   "execution_count": 1,
   "metadata": {},
   "outputs": [],
   "source": [
    "# coding: utf-8\n",
    "import numpy as np\n",
    "import matplotlib.pyplot as plt\n",
    "import sys, os\n",
    "sys.path.append(os.pardir)  # 親ディレクトリのファイルをインポートするための設定\n",
    "\n",
    "from my_common.util import init_sample_matrix"
   ]
  },
  {
   "cell_type": "markdown",
   "metadata": {},
   "source": [
    "# 乱数の生成"
   ]
  },
  {
   "cell_type": "code",
   "execution_count": 2,
   "metadata": {},
   "outputs": [
    {
     "data": {
      "text/plain": [
       "array([59.45452824, 66.67601328, 37.72320743, 40.09451764, 66.70529841,\n",
       "       47.42383462, 36.29880586, 46.1773335 , 53.54638425, 52.61687128,\n",
       "       31.83570381, 35.62870602, 34.39764064, 59.83991914, 46.5944544 ,\n",
       "       45.39451394, 31.21061801, 58.37618177, 33.52870485, 64.70776279,\n",
       "       55.53843378, 57.17547862, 52.22809148, 34.52820409, 42.41058977,\n",
       "       40.74512039, 30.75484352, 51.64836246, 43.48179621, 40.53392988,\n",
       "       36.55242555, 51.34770136, 40.76485686, 39.22901701, 41.36004196,\n",
       "       37.84435857, 50.64648384, 55.50016019, 59.41702098, 47.94850058,\n",
       "       62.33230724, 30.52723642, 51.55318508, 68.52481394, 50.12784604,\n",
       "       39.12055819, 37.56073823, 49.02391972, 51.70323948, 56.46064657,\n",
       "       58.51818766, 67.76379752, 57.2395879 , 48.41106645, 46.06738571,\n",
       "       40.24262028, 38.53515324, 68.29715476, 39.03049561, 30.48613037,\n",
       "       39.75600475, 48.89694284, 45.84016284, 64.681633  , 36.8017029 ,\n",
       "       31.35782352, 52.7822134 , 32.64202191, 31.68064777, 36.36318012,\n",
       "       65.5690952 , 63.67356517, 55.98751818, 58.46495347, 48.78647158,\n",
       "       41.33060079, 67.66472909, 36.97606137, 67.23811468, 30.51381721,\n",
       "       55.20173954, 31.95740298, 56.00517819, 57.4455767 , 39.89863506,\n",
       "       68.1262127 , 34.03368175, 65.7358528 , 35.73305447, 30.86264677,\n",
       "       52.66045767, 46.08271469, 48.15284016, 48.03000778, 61.65467726,\n",
       "       56.48793183, 69.28317729, 39.29696893, 53.49491987, 57.83174284])"
      ]
     },
     "execution_count": 2,
     "metadata": {},
     "output_type": "execute_result"
    }
   ],
   "source": [
    "from numpy.random import *\n",
    "\n",
    "rand()      # 0〜1の乱数を1個生成\n",
    "rand(100)   # 0〜1の乱数を100個生成\n",
    "rand(10,10) # 0〜1の乱数で 10x10 の行列を生成\n",
    "\n",
    "rand(100) * 40 + 30 # 30〜70の乱数を100個生成"
   ]
  },
  {
   "cell_type": "code",
   "execution_count": 3,
   "metadata": {},
   "outputs": [
    {
     "name": "stdout",
     "output_type": "stream",
     "text": [
      "-7.921018511397967\n"
     ]
    }
   ],
   "source": [
    "#numpy.random.uniformは、任意の範囲の連続一様分布から浮動小数点数の乱数を生成する関数です。\n",
    "#https://www.headboost.jp/numpy-random-uniform/\n",
    "print(np.random.uniform(-8, -4))"
   ]
  },
  {
   "cell_type": "markdown",
   "metadata": {},
   "source": [
    "# 配列の練習"
   ]
  },
  {
   "cell_type": "markdown",
   "metadata": {},
   "source": [
    "### 要素アクセス"
   ]
  },
  {
   "cell_type": "code",
   "execution_count": 4,
   "metadata": {},
   "outputs": [
    {
     "name": "stdout",
     "output_type": "stream",
     "text": [
      "データの準備\n",
      "出力画像の高さ=2 と 幅=2\n",
      "=== preparing of x===\n",
      "(2, 1, 4, 5)\n",
      "[[[[1111 1112 1113 1114 1115]\n",
      "   [1121 1122 1123 1124 1125]\n",
      "   [1131 1132 1133 1134 1135]\n",
      "   [1141 1142 1143 1144 1145]]]\n",
      "\n",
      "\n",
      " [[[2111 2112 2113 2114 2115]\n",
      "   [2121 2122 2123 2124 2125]\n",
      "   [2131 2132 2133 2134 2135]\n",
      "   [2141 2142 2143 2144 2145]]]]\n"
     ]
    }
   ],
   "source": [
    "print(\"データの準備\")\n",
    "\n",
    "#入力画像の高さ、幅、および、チャネル数。画像の枚数\n",
    "H  = 4\n",
    "W  = 5\n",
    "C  = 1 #mnistはチャンネル数1のようなので、このサンプルテストもそれに合わせる(7.4.2と同じ)\n",
    "N  = 2 #入力画像の枚数\n",
    "\n",
    "#poolingレイヤの基本パラメータ\n",
    "pool_h = 2\n",
    "pool_w = 2\n",
    "stride = 2\n",
    "pad    = 0\n",
    "\n",
    "#出力データ（画像）の高さと幅（自動的に計算される。）\n",
    "out_h = int(1 + (H - pool_h) / stride)\n",
    "out_w = int(1 + (W - pool_w) / stride)\n",
    "\n",
    "print(\"出力画像の高さ=%d と 幅=%d\" % (out_h ,out_w))\n",
    "\n",
    "#xの用意(mnistはチャンネル数1のようなので、このテストもそれに合わせる)\n",
    "print(\"=== preparing of x===\")\n",
    "x1 = init_sample_matrix(filter_num = 1, channel=C, height=H, width=W) #filter番号(=画像番号)を識別する数値を与える(1,2~)\n",
    "x2 = init_sample_matrix(filter_num = 2, channel=C, height=H, width=W)\n",
    "x = np.array([[x1],[x2]])\n",
    "print(x.shape)\n",
    "print(x)"
   ]
  },
  {
   "cell_type": "code",
   "execution_count": 5,
   "metadata": {},
   "outputs": [
    {
     "name": "stdout",
     "output_type": "stream",
     "text": [
      "データアクセスの練習\n",
      "[[[[1111 1112 1113 1114 1115]\n",
      "   [1121 1122 1123 1124 1125]\n",
      "   [1131 1132 1133 1134 1135]\n",
      "   [1141 1142 1143 1144 1145]]]\n",
      "\n",
      "\n",
      " [[[2111 2112 2113 2114 2115]\n",
      "   [2121 2122 2123 2124 2125]\n",
      "   [2131 2132 2133 2134 2135]\n",
      "   [2141 2142 2143 2144 2145]]]]\n",
      "(2, 1, 4, 5)\n",
      "すべての１次元と２次元目において、３次元目と４次元目が(0,0)の座標のものを取り出す。要するに、すべての画像とチャネルに対して座標が(0,0)のものを取り出す\n",
      "[[1111]\n",
      " [2111]]\n",
      "(2, 1)\n",
      "範囲指定(start:endで、endは範囲に含まない)\n",
      "[[[[1111]]]\n",
      "\n",
      "\n",
      " [[[2111]]]]\n",
      "(2, 1, 1, 1)\n",
      "範囲指定\n",
      "[[[[1111 1112]\n",
      "   [1121 1122]]]\n",
      "\n",
      "\n",
      " [[[2111 2112]\n",
      "   [2121 2122]]]]\n",
      "(2, 1, 2, 2)\n",
      "範囲指定\n",
      "[[[[1111 1112]\n",
      "   [1121 1122]]]\n",
      "\n",
      "\n",
      " [[[2111 2112]\n",
      "   [2121 2122]]]]\n",
      "(2, 1, 2, 2)\n",
      "範囲指定\n",
      "[[[[1111 1113]\n",
      "   [1131 1133]]]\n",
      "\n",
      "\n",
      " [[[2111 2113]\n",
      "   [2131 2133]]]]\n",
      "(2, 1, 2, 2)\n",
      "[0 1 2 3 4 5 6 7 8 9]\n",
      "[2 3 4 5 6]\n",
      "[0 1 2 3 4 5 6]\n",
      "[2 3 4 5 6 7 8 9]\n",
      "[2 4 6]\n",
      "[2 3 4 5 6]\n"
     ]
    }
   ],
   "source": [
    "print(\"データアクセスの練習\")\n",
    "print(x)\n",
    "print(x.shape)\n",
    "print(\"すべての１次元と２次元目において、３次元目と４次元目が(0,0)の座標のものを取り出す。要するに、すべての画像とチャネルに対して座標が(0,0)のものを取り出す\")\n",
    "print(x[:,:,0,0])\n",
    "print(x[:,:,0,0].shape)\n",
    "\n",
    "print(\"範囲指定(start:endで、endは範囲に含まない)\")\n",
    "print(x[:,:,0:1,0:1])\n",
    "print(x[:,:,0:1,0:1].shape)\n",
    "\n",
    "print(\"範囲指定\")\n",
    "print(x[:,:,0:2,0:2])\n",
    "print(x[:,:,0:2,0:2].shape)\n",
    "\n",
    "print(\"範囲指定\")\n",
    "print(x[:,:,0:2:1,0:2:1])\n",
    "print(x[:,:,0:2:1,0:2:1].shape)\n",
    "\n",
    "print(\"範囲指定\")\n",
    "print(x[:,:,0:4:2,0:4:2])\n",
    "print(x[:,:,0:4:2,0:4:2].shape)\n",
    "\n",
    "\n",
    "a_1d = np.arange(10)\n",
    "print(a_1d)\n",
    "# [0 1 2 3 4 5 6 7 8 9]\n",
    "\n",
    "print(a_1d[2:7])\n",
    "# [2 3 4 5 6]\n",
    "\n",
    "print(a_1d[:7])\n",
    "# [0 1 2 3 4 5 6]\n",
    "\n",
    "print(a_1d[2:])\n",
    "# [2 3 4 5 6 7 8 9]\n",
    "\n",
    "print(a_1d[2:7:2])\n",
    "# [2 4 6] #1つとばし\n",
    "\n",
    "print(a_1d[2:7:1])\n",
    "# [2 3 4 5 6] #0つとばし、つまり飛ばさない。\n",
    "\n"
   ]
  },
  {
   "cell_type": "markdown",
   "metadata": {},
   "source": [
    "### パック/アンパック"
   ]
  },
  {
   "cell_type": "code",
   "execution_count": 6,
   "metadata": {},
   "outputs": [
    {
     "name": "stdout",
     "output_type": "stream",
     "text": [
      "[[11 12]\n",
      " [21 22]]\n",
      "2 2\n"
     ]
    }
   ],
   "source": [
    "#アンパック\n",
    "x = np.array([[11,12],[21,22]])\n",
    "print(x)\n",
    "\n",
    "print(*x.shape)"
   ]
  },
  {
   "cell_type": "code",
   "execution_count": 7,
   "metadata": {},
   "outputs": [
    {
     "name": "stdout",
     "output_type": "stream",
     "text": [
      "[[0.01862232 0.27793109]\n",
      " [0.92120845 0.81203712]]\n",
      "[[False False]\n",
      " [ True  True]]\n",
      "5\n",
      "0\n",
      "[[0.         0.        ]\n",
      " [0.92120845 0.81203712]]\n"
     ]
    }
   ],
   "source": [
    "#アンパックを使ったランダム値の要素を持つ行列の生成\n",
    "y = np.random.rand(*x.shape)\n",
    "print(y)\n",
    "\n",
    "dropout_ratio = 0.5\n",
    "mask = y > dropout_ratio #dropout_ratio以上のものを得る。\n",
    "print(mask)\n",
    "\n",
    "#数値にTrueを掛けるとそのままに、Falseを掛けると0になる性質がある。\n",
    "print(5*True)\n",
    "print(10*False)\n",
    "\n",
    "#maskを掛けると、dropout_ratio以上の要素のみが残ることになる。\n",
    "print(y * mask)"
   ]
  },
  {
   "cell_type": "markdown",
   "metadata": {},
   "source": [
    "### データのシャッフルと順列"
   ]
  },
  {
   "cell_type": "markdown",
   "metadata": {},
   "source": [
    "#### shuffle_dataset関数で使っているnumpyのテクニック"
   ]
  },
  {
   "cell_type": "code",
   "execution_count": 8,
   "metadata": {},
   "outputs": [
    {
     "name": "stdout",
     "output_type": "stream",
     "text": [
      "[[11 12]\n",
      " [21 22]]\n",
      "2\n",
      "[0 1]\n",
      "[[11 12]\n",
      " [21 22]]\n",
      "次元数が2の場合\n",
      "permutation=[1 0]\n",
      "[[21 22]\n",
      " [11 12]]\n",
      "以下はnumpy配列へのアクセス方法について\n",
      "[21 22]\n",
      "[[11 12]\n",
      " [21 22]]\n",
      "[12 22]\n",
      "[21 22]\n",
      "[11 12]\n",
      "こんなふうにアクセスの仕方を配列で指定できる\n",
      "[[21 22]\n",
      " [11 12]]\n"
     ]
    }
   ],
   "source": [
    "#https://www.headboost.jp/numpy-random-permutation/\n",
    "#numpy.random.permutationは、渡した配列の要素をランダムに並べ替える関数です。多次元配列を渡した場合は最初の軸だけを並べ替えます。\n",
    "x = np.array([[11,12],[21,22]])\n",
    "print(x)\n",
    "#[[11 12]\n",
    "#[21 22]]\n",
    "\n",
    "print(x.shape[0])\n",
    "#[0 1]\n",
    "print(np.random.permutation(x.shape[0]))\n",
    "#ランダムに並べ替えるので、以下のようになる場合がある\n",
    "#[1 0]\n",
    "\n",
    "print(np.random.permutation(x))\n",
    "#ランダムに並べ替えるので、以下のようになる場合がある\n",
    "#[[21 22]\n",
    "# [11 12]]\n",
    "\n",
    "#次元数が2の場合\n",
    "print(\"次元数が2の場合\")\n",
    "permutation = np.random.permutation(x.shape[0])\n",
    "print(\"permutation=%s\" % (permutation))\n",
    "print(x[permutation,:] ) #以下のようになる場合がある\n",
    "#permutation=[1 0]\n",
    "#array([[21, 22],\n",
    "#       [11, 12]])\n",
    "\n",
    "#以下はnumpy配列へのアクセス方法について\n",
    "#スライスを使っている。スライスについては、以下のＵＲＬが良くわかる\n",
    "#https://www.headboost.jp/python-numpy-array-how-to-handle/\n",
    "print(\"以下はnumpy配列へのアクセス方法について\")\n",
    "print(x[1])\n",
    "print(x[:]) #すべての要素\n",
    "print(x[:,1]) #2列目　→　[12 22]　※２列目が抜き出されて１次元配列になってくる。\n",
    "print(x[1,:]) #2行目　→　[21, 22]\n",
    "print(x[0,:]) #1行目　→　[11, 12]\n",
    "\n",
    "print(\"こんなふうにアクセスの仕方を配列で指定できる\")\n",
    "print(x[[1,0],:])"
   ]
  },
  {
   "cell_type": "markdown",
   "metadata": {},
   "source": [
    "ここまでわかったので、shuffle_datasetについて理解した。コメントを入れておく。"
   ]
  },
  {
   "cell_type": "code",
   "execution_count": 9,
   "metadata": {},
   "outputs": [],
   "source": [
    "def shuffle_dataset(x, t):\n",
    "    \"\"\"データセットのシャッフルを行う\n",
    "\n",
    "    Parameters\n",
    "    ----------\n",
    "    x : 訓練データ\n",
    "    t : 教師データ\n",
    "\n",
    "    Returns\n",
    "    -------\n",
    "    x, t : シャッフルを行った訓練データと教師データ\n",
    "    \"\"\"\n",
    "    permutation = np.random.permutation(x.shape[0]) #入力データの最初の次元について配列化する。例えば、2*2行列ならx.shape[0]は[0, 1]\n",
    "    x = x[permutation,:] if x.ndim == 2 else x[permutation,:,:,:] #2次元配列であれば、行だけを並び替えて、後の列はそのまま。２次元を超える配列場合、例えば、畳み込み演算で使う４次元配列の場合も同じ考え方で並び替え\n",
    "    t = t[permutation] #正解ラベルは１次元なので、permutationで並び替えるだけ。\n",
    "\n",
    "    return x, t"
   ]
  },
  {
   "cell_type": "markdown",
   "metadata": {},
   "source": [
    "### reshape"
   ]
  },
  {
   "cell_type": "markdown",
   "metadata": {},
   "source": [
    "# transpose"
   ]
  },
  {
   "cell_type": "code",
   "execution_count": 10,
   "metadata": {},
   "outputs": [],
   "source": [
    "from my_common.util import init_sample_matrix"
   ]
  },
  {
   "cell_type": "code",
   "execution_count": 11,
   "metadata": {},
   "outputs": [
    {
     "name": "stdout",
     "output_type": "stream",
     "text": [
      "=== preparing of x===\n",
      "(3, 2, 2)\n",
      "[[[111 112]\n",
      "  [121 122]]\n",
      "\n",
      " [[211 212]\n",
      "  [221 222]]\n",
      "\n",
      " [[311 312]\n",
      "  [321 322]]]\n",
      "x.transpose(2,1,0)\n",
      "https://deepage.net/features/numpy-transpose.htmlの解説にあるとおり、x(i,j,k)→x'(k,j,i)に変換する処理\n",
      "直感的には行１つ飛ばしで見つけた要素を、新しい行ベクトルにしている\n",
      "[[[111 211 311]\n",
      "  [121 221 321]]\n",
      "\n",
      " [[112 212 312]\n",
      "  [122 222 322]]]\n"
     ]
    }
   ],
   "source": [
    "#入力画像の高さ、幅、および、チャネル数。画像の枚数\n",
    "H  = 2\n",
    "W  = 2 \n",
    "C  = 2 \n",
    "N  = 2 #入力画像の枚数\n",
    "#xの用意\n",
    "print(\"=== preparing of x===\")\n",
    "x1 = init_sample_matrix(filter_num = 0, channel=1, height=H, width=W) #filter番号(=画像番号)を識別する数値を与える(1,2~)\n",
    "x2 = init_sample_matrix(filter_num = 0, channel=2, height=H, width=W) #filter番号(=画像番号)を識別する数値を与える(1,2~)\n",
    "x3 = init_sample_matrix(filter_num = 0, channel=3, height=H, width=W) #filter番号(=画像番号)を識別する数値を与える(1,2~)\n",
    "\n",
    "x = np.array([x1,x2,x3])\n",
    "print(x.shape)\n",
    "print(x)\n",
    "\n",
    "print(\"x.transpose(2,1,0)\")\n",
    "print(\"https://deepage.net/features/numpy-transpose.htmlの解説にあるとおり、x(i,j,k)→x'(k,j,i)に変換する処理\")\n",
    "print(\"直感的には行１つ飛ばしで見つけた要素を、新しい行ベクトルにしている\")\n",
    "print(x.transpose(2,1,0))"
   ]
  },
  {
   "cell_type": "markdown",
   "metadata": {},
   "source": [
    "# np.pad\n",
    "参考URL[3]が秀逸だったので、あえて説明的な記事はここには記載していない。"
   ]
  },
  {
   "cell_type": "code",
   "execution_count": 12,
   "metadata": {},
   "outputs": [
    {
     "name": "stdout",
     "output_type": "stream",
     "text": [
      "[1 2 3]\n"
     ]
    }
   ],
   "source": [
    "import numpy as np\n",
    "\n",
    "\n",
    "x_1d = np.arange(1, 3 + 1) #startが1、stopが4。arangeはstop未満なので、よって1~3までの数値を生成する。\n",
    "print(x_1d)"
   ]
  },
  {
   "cell_type": "code",
   "execution_count": 13,
   "metadata": {},
   "outputs": [
    {
     "name": "stdout",
     "output_type": "stream",
     "text": [
      "[0 1 2 3 0]\n",
      "[0 0 1 2 3 0]\n",
      "[0 1 2 3 0 0]\n"
     ]
    }
   ],
   "source": [
    "print(np.pad(x_1d, ((1, 1))))\n",
    "print(np.pad(x_1d, ((2, 1))))\n",
    "print(np.pad(x_1d, ((1, 2))))"
   ]
  },
  {
   "cell_type": "markdown",
   "metadata": {},
   "source": [
    "これならなんとなくわかりますよね？1次元ですので指定可能なtupleは1つだけで、before_1で指定している数だけ配列の左に、after_1で指定している数だけ配列の右に、それぞれ00でパディングされていますね。\n",
    "ちなみに二重タプルで書いているつもりですが、実はPythonでは単タプルと同様の扱いをされています。"
   ]
  },
  {
   "cell_type": "code",
   "execution_count": 14,
   "metadata": {},
   "outputs": [
    {
     "name": "stdout",
     "output_type": "stream",
     "text": [
      "[0 1 2 3 0]\n",
      "[0 0 1 2 3 0]\n",
      "[0 1 2 3 0 0]\n"
     ]
    }
   ],
   "source": [
    "print(np.pad(x_1d, ((1, 1),)))\n",
    "print(np.pad(x_1d, ((2, 1),)))\n",
    "print(np.pad(x_1d, ((1, 2),)))"
   ]
  },
  {
   "cell_type": "markdown",
   "metadata": {},
   "source": [
    "はい、結果は一緒ですね。こちらでは明示的に二重タプルとして引数を送っています。"
   ]
  },
  {
   "cell_type": "code",
   "execution_count": 15,
   "metadata": {},
   "outputs": [
    {
     "name": "stdout",
     "output_type": "stream",
     "text": [
      "[0 1 2 3 0]\n",
      "[0 0 1 2 3 0 0]\n",
      "[0 1 2 3 0]\n",
      "[0 0 1 2 3 0 0]\n"
     ]
    }
   ],
   "source": [
    "print(np.pad(x_1d, (1,)))\n",
    "print(np.pad(x_1d, (2,)))\n",
    "print(np.pad(x_1d, 1))\n",
    "print(np.pad(x_1d, 2))"
   ]
  },
  {
   "cell_type": "markdown",
   "metadata": {},
   "source": [
    "両端に指定した数だけ00が埋められていますね。この指定方法だと両端とも同じ数だけパディングされます。"
   ]
  },
  {
   "cell_type": "code",
   "execution_count": 16,
   "metadata": {},
   "outputs": [
    {
     "name": "stdout",
     "output_type": "stream",
     "text": [
      "[[1 2 3]\n",
      " [4 5 6]\n",
      " [7 8 9]]\n",
      "[[0 0 0 0 0 0 0]\n",
      " [0 0 1 2 3 0 0]\n",
      " [0 0 4 5 6 0 0]\n",
      " [0 0 7 8 9 0 0]\n",
      " [0 0 0 0 0 0 0]]\n"
     ]
    }
   ],
   "source": [
    "x_2d = np.arange(1, 3*3 + 1).reshape(3, 3)\n",
    "print(x_2d)\n",
    "\n",
    "print(np.pad(x_2d, ((1, 1), (2, 2))))"
   ]
  },
  {
   "cell_type": "markdown",
   "metadata": {},
   "source": [
    "さて、2次元の場合は1次元目である行(上下)にまずパディングされ、その次に2次元目の列(左右)にパディングされています。それ以外は1次元の時と同じですね。\n",
    "\n",
    "これ以上の詳しい説明は[3]を参照"
   ]
  },
  {
   "cell_type": "markdown",
   "metadata": {},
   "source": [
    "# 参考URL\n",
    "1. 乱数の生成\n",
    "https://qiita.com/yubais/items/bf9ce0a8fefdcc0b0c97\n",
    "    \n",
    "2. パック/アンパック\n",
    "https://docs.python.org/ja/3.7/tutorial/controlflow.html#unpacking-argument-lists\n",
    "\n",
    "3. 配列のスライスについて\n",
    "https://www.headboost.jp/python-numpy-array-how-to-handle/\n",
    "\n",
    "4. np.padについて、詳しく具体例がありわかりやすい(numpy.pad関数完全理解)\n",
    "https://qiita.com/kuroitu/items/51f4c867c8a44de739ec"
   ]
  }
 ],
 "metadata": {
  "kernelspec": {
   "display_name": "Python 3",
   "language": "python",
   "name": "python3"
  },
  "language_info": {
   "codemirror_mode": {
    "name": "ipython",
    "version": 3
   },
   "file_extension": ".py",
   "mimetype": "text/x-python",
   "name": "python",
   "nbconvert_exporter": "python",
   "pygments_lexer": "ipython3",
   "version": "3.8.5"
  }
 },
 "nbformat": 4,
 "nbformat_minor": 4
}
