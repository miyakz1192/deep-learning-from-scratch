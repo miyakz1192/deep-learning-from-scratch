{
 "cells": [
  {
   "cell_type": "markdown",
   "metadata": {},
   "source": [
    "# お約束の設定"
   ]
  },
  {
   "cell_type": "code",
   "execution_count": 1,
   "metadata": {},
   "outputs": [],
   "source": [
    "# coding: utf-8\n",
    "import numpy as np\n",
    "import matplotlib.pyplot as plt\n",
    "import sys, os\n",
    "sys.path.append(os.pardir)  # 親ディレクトリのファイルをインポートするための設定"
   ]
  },
  {
   "cell_type": "markdown",
   "metadata": {},
   "source": [
    "# 乱数の生成"
   ]
  },
  {
   "cell_type": "code",
   "execution_count": 2,
   "metadata": {},
   "outputs": [
    {
     "data": {
      "text/plain": [
       "array([58.60428159, 60.24901169, 45.50763436, 48.38015454, 36.76959582,\n",
       "       67.86968564, 40.65055564, 41.92995387, 35.42820129, 36.29642875,\n",
       "       56.90605609, 61.96567585, 50.59132453, 43.67546599, 55.87983585,\n",
       "       61.71078782, 55.73068746, 67.36976242, 34.76505229, 35.01111412,\n",
       "       59.44009754, 56.7921052 , 52.65649051, 32.07114549, 34.03763275,\n",
       "       68.15452018, 47.82761016, 39.15453202, 51.70930514, 48.99848771,\n",
       "       35.56656272, 64.72539414, 53.03650314, 48.329098  , 36.42652793,\n",
       "       37.22944461, 60.3367437 , 62.76108157, 63.85244856, 63.35204414,\n",
       "       46.05538734, 37.1494832 , 36.40247363, 31.87641925, 33.95903656,\n",
       "       62.65594801, 42.17579192, 41.49339825, 57.11409876, 31.55755494,\n",
       "       62.49143883, 50.00158929, 69.99151019, 68.12788217, 66.50701888,\n",
       "       39.39911012, 52.27489137, 68.15684362, 43.27199806, 47.45742202,\n",
       "       61.58595303, 49.15775716, 31.81396029, 50.17786689, 43.86811672,\n",
       "       34.07456417, 63.87337822, 59.92218121, 60.93313   , 62.23268325,\n",
       "       37.00404034, 47.66475535, 55.47829112, 46.39681896, 48.39830289,\n",
       "       43.62868113, 43.24442425, 57.41613759, 53.5862882 , 48.59181041,\n",
       "       65.17713008, 37.33322602, 38.84712081, 62.55711065, 54.05336673,\n",
       "       40.82222966, 44.86577076, 62.23206687, 67.06794921, 53.86800222,\n",
       "       67.53805828, 47.71347464, 53.46256492, 36.80931294, 35.18300939,\n",
       "       69.02955998, 56.74149846, 66.07956664, 65.41787003, 49.7363257 ])"
      ]
     },
     "execution_count": 2,
     "metadata": {},
     "output_type": "execute_result"
    }
   ],
   "source": [
    "from numpy.random import *\n",
    "\n",
    "rand()      # 0〜1の乱数を1個生成\n",
    "rand(100)   # 0〜1の乱数を100個生成\n",
    "rand(10,10) # 0〜1の乱数で 10x10 の行列を生成\n",
    "\n",
    "rand(100) * 40 + 30 # 30〜70の乱数を100個生成"
   ]
  },
  {
   "cell_type": "code",
   "execution_count": 3,
   "metadata": {},
   "outputs": [
    {
     "name": "stdout",
     "output_type": "stream",
     "text": [
      "-4.952923282380889\n"
     ]
    }
   ],
   "source": [
    "#numpy.random.uniformは、任意の範囲の連続一様分布から浮動小数点数の乱数を生成する関数です。\n",
    "#https://www.headboost.jp/numpy-random-uniform/\n",
    "print(np.random.uniform(-8, -4))"
   ]
  },
  {
   "cell_type": "markdown",
   "metadata": {},
   "source": [
    "# 配列の練習"
   ]
  },
  {
   "cell_type": "markdown",
   "metadata": {},
   "source": [
    "### パック/アンパック"
   ]
  },
  {
   "cell_type": "code",
   "execution_count": 4,
   "metadata": {},
   "outputs": [
    {
     "name": "stdout",
     "output_type": "stream",
     "text": [
      "[[11 12]\n",
      " [21 22]]\n",
      "2 2\n"
     ]
    }
   ],
   "source": [
    "#アンパック\n",
    "x = np.array([[11,12],[21,22]])\n",
    "print(x)\n",
    "\n",
    "print(*x.shape)"
   ]
  },
  {
   "cell_type": "code",
   "execution_count": 5,
   "metadata": {},
   "outputs": [
    {
     "name": "stdout",
     "output_type": "stream",
     "text": [
      "[[0.42459475 0.12598878]\n",
      " [0.79339768 0.95141657]]\n",
      "[[False False]\n",
      " [ True  True]]\n",
      "5\n",
      "0\n",
      "[[0.         0.        ]\n",
      " [0.79339768 0.95141657]]\n"
     ]
    }
   ],
   "source": [
    "#アンパックを使ったランダム値の要素を持つ行列の生成\n",
    "y = np.random.rand(*x.shape)\n",
    "print(y)\n",
    "\n",
    "dropout_ratio = 0.5\n",
    "mask = y > dropout_ratio #dropout_ratio以上のものを得る。\n",
    "print(mask)\n",
    "\n",
    "#数値にTrueを掛けるとそのままに、Falseを掛けると0になる性質がある。\n",
    "print(5*True)\n",
    "print(10*False)\n",
    "\n",
    "#maskを掛けると、dropout_ratio以上の要素のみが残ることになる。\n",
    "print(y * mask)"
   ]
  },
  {
   "cell_type": "markdown",
   "metadata": {},
   "source": [
    "### データのシャッフルと順列"
   ]
  },
  {
   "cell_type": "markdown",
   "metadata": {},
   "source": [
    "#### shuffle_dataset関数で使っているnumpyのテクニック"
   ]
  },
  {
   "cell_type": "code",
   "execution_count": 6,
   "metadata": {},
   "outputs": [
    {
     "name": "stdout",
     "output_type": "stream",
     "text": [
      "[[11 12]\n",
      " [21 22]]\n",
      "2\n",
      "[0 1]\n",
      "[[21 22]\n",
      " [11 12]]\n",
      "次元数が2の場合\n",
      "permutation=[1 0]\n",
      "[[21 22]\n",
      " [11 12]]\n",
      "以下はnumpy配列へのアクセス方法について\n",
      "[21 22]\n",
      "[[11 12]\n",
      " [21 22]]\n",
      "[12 22]\n",
      "[21 22]\n",
      "[11 12]\n",
      "こんなふうにアクセスの仕方を配列で指定できる\n",
      "[[21 22]\n",
      " [11 12]]\n"
     ]
    }
   ],
   "source": [
    "#https://www.headboost.jp/numpy-random-permutation/\n",
    "#numpy.random.permutationは、渡した配列の要素をランダムに並べ替える関数です。多次元配列を渡した場合は最初の軸だけを並べ替えます。\n",
    "x = np.array([[11,12],[21,22]])\n",
    "print(x)\n",
    "#[[11 12]\n",
    "#[21 22]]\n",
    "\n",
    "print(x.shape[0])\n",
    "#[0 1]\n",
    "print(np.random.permutation(x.shape[0]))\n",
    "#ランダムに並べ替えるので、以下のようになる場合がある\n",
    "#[1 0]\n",
    "\n",
    "print(np.random.permutation(x))\n",
    "#ランダムに並べ替えるので、以下のようになる場合がある\n",
    "#[[21 22]\n",
    "# [11 12]]\n",
    "\n",
    "#次元数が2の場合\n",
    "print(\"次元数が2の場合\")\n",
    "permutation = np.random.permutation(x.shape[0])\n",
    "print(\"permutation=%s\" % (permutation))\n",
    "print(x[permutation,:] ) #以下のようになる場合がある\n",
    "#permutation=[1 0]\n",
    "#array([[21, 22],\n",
    "#       [11, 12]])\n",
    "\n",
    "#以下はnumpy配列へのアクセス方法について\n",
    "#スライスを使っている。スライスについては、以下のＵＲＬが良くわかる\n",
    "#https://www.headboost.jp/python-numpy-array-how-to-handle/\n",
    "print(\"以下はnumpy配列へのアクセス方法について\")\n",
    "print(x[1])\n",
    "print(x[:]) #すべての要素\n",
    "print(x[:,1]) #2列目　→　[12 22]　※２列目が抜き出されて１次元配列になってくる。\n",
    "print(x[1,:]) #2行目　→　[21, 22]\n",
    "print(x[0,:]) #1行目　→　[11, 12]\n",
    "\n",
    "print(\"こんなふうにアクセスの仕方を配列で指定できる\")\n",
    "print(x[[1,0],:])"
   ]
  },
  {
   "cell_type": "markdown",
   "metadata": {},
   "source": [
    "ここまでわかったので、shuffle_datasetについて理解した。コメントを入れておく。"
   ]
  },
  {
   "cell_type": "code",
   "execution_count": 7,
   "metadata": {},
   "outputs": [],
   "source": [
    "def shuffle_dataset(x, t):\n",
    "    \"\"\"データセットのシャッフルを行う\n",
    "\n",
    "    Parameters\n",
    "    ----------\n",
    "    x : 訓練データ\n",
    "    t : 教師データ\n",
    "\n",
    "    Returns\n",
    "    -------\n",
    "    x, t : シャッフルを行った訓練データと教師データ\n",
    "    \"\"\"\n",
    "    permutation = np.random.permutation(x.shape[0]) #入力データの最初の次元について配列化する。例えば、2*2行列ならx.shape[0]は[0, 1]\n",
    "    x = x[permutation,:] if x.ndim == 2 else x[permutation,:,:,:] #2次元配列であれば、行だけを並び替えて、後の列はそのまま。２次元を超える配列場合、例えば、畳み込み演算で使う４次元配列の場合も同じ考え方で並び替え\n",
    "    t = t[permutation] #正解ラベルは１次元なので、permutationで並び替えるだけ。\n",
    "\n",
    "    return x, t"
   ]
  },
  {
   "cell_type": "markdown",
   "metadata": {},
   "source": [
    "### reshape"
   ]
  },
  {
   "cell_type": "markdown",
   "metadata": {},
   "source": [
    "# transpose"
   ]
  },
  {
   "cell_type": "code",
   "execution_count": 8,
   "metadata": {},
   "outputs": [],
   "source": [
    "from my_common.util import init_sample_matrix"
   ]
  },
  {
   "cell_type": "code",
   "execution_count": 12,
   "metadata": {},
   "outputs": [
    {
     "name": "stdout",
     "output_type": "stream",
     "text": [
      "=== preparing of x===\n",
      "(3, 2, 2)\n",
      "[[[111 112]\n",
      "  [121 122]]\n",
      "\n",
      " [[211 212]\n",
      "  [221 222]]\n",
      "\n",
      " [[311 312]\n",
      "  [321 322]]]\n",
      "x.transpose(2,1,0)\n",
      "[[[111 211 311]\n",
      "  [121 221 321]]\n",
      "\n",
      " [[112 212 312]\n",
      "  [122 222 322]]]\n"
     ]
    }
   ],
   "source": [
    "#入力画像の高さ、幅、および、チャネル数。画像の枚数\n",
    "H  = 2\n",
    "W  = 2 \n",
    "C  = 2 \n",
    "N  = 2 #入力画像の枚数\n",
    "#xの用意\n",
    "print(\"=== preparing of x===\")\n",
    "x1 = init_sample_matrix(filter_num = 0, channel=1, height=H, width=W) #filter番号(=画像番号)を識別する数値を与える(1,2~)\n",
    "x2 = init_sample_matrix(filter_num = 0, channel=2, height=H, width=W) #filter番号(=画像番号)を識別する数値を与える(1,2~)\n",
    "x3 = init_sample_matrix(filter_num = 0, channel=3, height=H, width=W) #filter番号(=画像番号)を識別する数値を与える(1,2~)\n",
    "\n",
    "x = np.array([x1,x2,x3])\n",
    "print(x.shape)\n",
    "print(x)\n",
    "\n",
    "print(\"x.transpose(2,1,0)\")\n",
    "print(\"https://deepage.net/features/numpy-transpose.htmlの解説にあるとおり、x(i,j,k)→x'(k,j,i)に変換する処理\")\n",
    "print(\"直感的には行１つ飛ばしで見つけた要素を、新しい行ベクトルにしている\")\n",
    "print(x.transpose(2,1,0))"
   ]
  },
  {
   "cell_type": "markdown",
   "metadata": {},
   "source": [
    "# 参考URL\n",
    "1. 乱数の生成\n",
    "https://qiita.com/yubais/items/bf9ce0a8fefdcc0b0c97\n",
    "    \n",
    "2. パック/アンパック\n",
    "https://docs.python.org/ja/3.7/tutorial/controlflow.html#unpacking-argument-lists\n",
    "\n",
    "3. 配列のスライスについて\n",
    "https://www.headboost.jp/python-numpy-array-how-to-handle/"
   ]
  },
  {
   "cell_type": "code",
   "execution_count": null,
   "metadata": {},
   "outputs": [],
   "source": []
  },
  {
   "cell_type": "code",
   "execution_count": null,
   "metadata": {},
   "outputs": [],
   "source": []
  }
 ],
 "metadata": {
  "kernelspec": {
   "display_name": "Python 3",
   "language": "python",
   "name": "python3"
  },
  "language_info": {
   "codemirror_mode": {
    "name": "ipython",
    "version": 3
   },
   "file_extension": ".py",
   "mimetype": "text/x-python",
   "name": "python",
   "nbconvert_exporter": "python",
   "pygments_lexer": "ipython3",
   "version": "3.8.5"
  }
 },
 "nbformat": 4,
 "nbformat_minor": 4
}
