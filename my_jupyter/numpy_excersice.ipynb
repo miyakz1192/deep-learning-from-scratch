{
 "cells": [
  {
   "cell_type": "markdown",
   "metadata": {},
   "source": [
    "# お約束の設定"
   ]
  },
  {
   "cell_type": "code",
   "execution_count": 1,
   "metadata": {},
   "outputs": [],
   "source": [
    "import numpy as np\n",
    "import matplotlib.pyplot as plt"
   ]
  },
  {
   "cell_type": "markdown",
   "metadata": {},
   "source": [
    "# 乱数の生成"
   ]
  },
  {
   "cell_type": "code",
   "execution_count": 2,
   "metadata": {},
   "outputs": [
    {
     "data": {
      "text/plain": [
       "array([40.83070491, 54.1500143 , 49.19062348, 67.93343242, 55.74131277,\n",
       "       47.37134057, 44.86557409, 47.09230769, 68.54907832, 60.57965048,\n",
       "       68.48638394, 47.28741584, 46.45504356, 34.12363942, 51.10311778,\n",
       "       38.85983687, 59.46023191, 66.89851937, 57.69690838, 59.22442859,\n",
       "       66.19148807, 37.47242696, 69.7783993 , 69.75419917, 39.08214164,\n",
       "       42.99885271, 60.95753959, 40.29445133, 42.95956657, 44.69802711,\n",
       "       38.59529903, 55.53208804, 53.26244786, 66.38433947, 44.88237639,\n",
       "       61.67561111, 33.33361408, 47.20397122, 68.38178876, 61.5274469 ,\n",
       "       56.31002454, 43.81683775, 55.53099251, 56.9059643 , 32.66094701,\n",
       "       65.24274741, 63.72838561, 51.85650892, 31.44760869, 66.10387254,\n",
       "       33.53278596, 59.27122489, 53.79532256, 47.6010565 , 49.23405672,\n",
       "       69.8689789 , 66.57952661, 40.37662689, 53.0017214 , 32.44244177,\n",
       "       62.24755201, 36.60877983, 32.89429537, 37.02931509, 45.5402673 ,\n",
       "       36.17228405, 54.18517243, 66.97269851, 36.54811203, 62.10718006,\n",
       "       42.23170199, 69.50509943, 53.70416053, 41.35345763, 62.25819189,\n",
       "       35.92585412, 69.79141986, 39.59720786, 31.52737331, 63.51462639,\n",
       "       60.93763415, 56.65670044, 32.78702602, 61.56649178, 31.22273046,\n",
       "       44.97251911, 37.82559491, 39.54823392, 60.93492116, 69.36709434,\n",
       "       50.1033724 , 67.03929836, 33.10846041, 32.42496853, 31.43236326,\n",
       "       35.33273815, 38.68672204, 36.57162899, 57.1140598 , 46.28627154])"
      ]
     },
     "execution_count": 2,
     "metadata": {},
     "output_type": "execute_result"
    }
   ],
   "source": [
    "from numpy.random import *\n",
    "\n",
    "rand()      # 0〜1の乱数を1個生成\n",
    "rand(100)   # 0〜1の乱数を100個生成\n",
    "rand(10,10) # 0〜1の乱数で 10x10 の行列を生成\n",
    "\n",
    "rand(100) * 40 + 30 # 30〜70の乱数を100個生成"
   ]
  },
  {
   "cell_type": "markdown",
   "metadata": {},
   "source": [
    "# 配列の練習"
   ]
  },
  {
   "cell_type": "markdown",
   "metadata": {},
   "source": [
    "### パック/アンパック"
   ]
  },
  {
   "cell_type": "code",
   "execution_count": 4,
   "metadata": {},
   "outputs": [
    {
     "name": "stdout",
     "output_type": "stream",
     "text": [
      "[[11 12]\n",
      " [21 22]]\n",
      "2 2\n"
     ]
    }
   ],
   "source": [
    "#アンパック\n",
    "x = np.array([[11,12],[21,22]])\n",
    "print(x)\n",
    "\n",
    "print(*x.shape)"
   ]
  },
  {
   "cell_type": "code",
   "execution_count": 10,
   "metadata": {},
   "outputs": [
    {
     "name": "stdout",
     "output_type": "stream",
     "text": [
      "[[0.6459997  0.96034386]\n",
      " [0.7483538  0.44606977]]\n",
      "[[ True  True]\n",
      " [ True False]]\n",
      "5\n",
      "0\n",
      "[[0.6459997  0.96034386]\n",
      " [0.7483538  0.        ]]\n"
     ]
    }
   ],
   "source": [
    "#アンパックを使ったランダム値の要素を持つ行列の生成\n",
    "y = np.random.rand(*x.shape)\n",
    "print(y)\n",
    "\n",
    "dropout_ratio = 0.5\n",
    "mask = y > dropout_ratio #dropout_ratio以上のものを得る。\n",
    "print(mask)\n",
    "\n",
    "#数値にTrueを掛けるとそのままに、Falseを掛けると0になる性質がある。\n",
    "print(5*True)\n",
    "print(10*False)\n",
    "\n",
    "#maskを掛けると、dropout_ratio以上の要素のみが残ることになる。\n",
    "print(y * mask)"
   ]
  },
  {
   "cell_type": "markdown",
   "metadata": {},
   "source": [
    "# 参考URL\n",
    "1. 乱数の生成\n",
    "https://qiita.com/yubais/items/bf9ce0a8fefdcc0b0c97\n",
    "    \n",
    "2. パック/アンパック\n",
    "https://docs.python.org/ja/3.7/tutorial/controlflow.html#unpacking-argument-lists"
   ]
  },
  {
   "cell_type": "code",
   "execution_count": null,
   "metadata": {},
   "outputs": [],
   "source": []
  }
 ],
 "metadata": {
  "kernelspec": {
   "display_name": "Python 3",
   "language": "python",
   "name": "python3"
  },
  "language_info": {
   "codemirror_mode": {
    "name": "ipython",
    "version": 3
   },
   "file_extension": ".py",
   "mimetype": "text/x-python",
   "name": "python",
   "nbconvert_exporter": "python",
   "pygments_lexer": "ipython3",
   "version": "3.8.5"
  }
 },
 "nbformat": 4,
 "nbformat_minor": 4
}
