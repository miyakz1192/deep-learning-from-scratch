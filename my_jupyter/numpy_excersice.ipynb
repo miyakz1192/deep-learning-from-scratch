{
 "cells": [
  {
   "cell_type": "markdown",
   "metadata": {},
   "source": [
    "# お約束の設定"
   ]
  },
  {
   "cell_type": "code",
   "execution_count": 1,
   "metadata": {},
   "outputs": [],
   "source": [
    "import numpy as np\n",
    "import matplotlib.pyplot as plt"
   ]
  },
  {
   "cell_type": "markdown",
   "metadata": {},
   "source": [
    "# 乱数の生成"
   ]
  },
  {
   "cell_type": "code",
   "execution_count": 2,
   "metadata": {},
   "outputs": [
    {
     "data": {
      "text/plain": [
       "array([48.52523637, 60.57060898, 69.14201634, 65.42239085, 60.96711142,\n",
       "       44.22894311, 31.52709557, 40.64494946, 58.39729264, 38.6801577 ,\n",
       "       63.4761644 , 50.49751718, 53.24870856, 45.65335628, 35.0210837 ,\n",
       "       58.55208043, 43.58707238, 35.9097444 , 47.82958991, 67.3984736 ,\n",
       "       63.4829392 , 57.84190334, 65.80874604, 61.7822718 , 39.99902499,\n",
       "       46.56499387, 34.75636759, 59.67780727, 46.0057947 , 46.09500445,\n",
       "       37.22605543, 69.92225512, 61.12412256, 51.09972197, 37.1845757 ,\n",
       "       69.10806062, 43.56354391, 67.12167633, 69.77075916, 35.87718946,\n",
       "       46.84209464, 53.78398851, 50.40496122, 52.44288953, 58.09488335,\n",
       "       53.43576021, 65.24907282, 58.76697947, 55.34900818, 54.94553802,\n",
       "       60.32930066, 57.32243988, 64.79222462, 49.11004456, 47.6605458 ,\n",
       "       38.70081406, 36.95271052, 59.90189741, 54.28951295, 64.05128094,\n",
       "       32.36035689, 53.83237068, 54.295761  , 46.32738956, 50.01702305,\n",
       "       49.60367578, 47.00809925, 63.9452177 , 32.73897816, 39.21104462,\n",
       "       34.67580194, 57.33027634, 63.56064716, 50.49839933, 53.36201603,\n",
       "       42.6987089 , 52.5581286 , 58.93162808, 66.11642948, 38.11206346,\n",
       "       46.6327783 , 57.58258876, 48.53898961, 66.9274172 , 55.18597444,\n",
       "       64.17805522, 40.8137302 , 47.43519938, 39.27425622, 59.25280483,\n",
       "       63.37778654, 55.0421416 , 52.59010595, 39.13438646, 45.45694072,\n",
       "       42.38857115, 62.00765007, 38.37537038, 39.21209742, 37.52383697])"
      ]
     },
     "execution_count": 2,
     "metadata": {},
     "output_type": "execute_result"
    }
   ],
   "source": [
    "from numpy.random import *\n",
    "\n",
    "rand()      # 0〜1の乱数を1個生成\n",
    "rand(100)   # 0〜1の乱数を100個生成\n",
    "rand(10,10) # 0〜1の乱数で 10x10 の行列を生成\n",
    "\n",
    "rand(100) * 40 + 30 # 30〜70の乱数を100個生成"
   ]
  },
  {
   "cell_type": "code",
   "execution_count": 3,
   "metadata": {},
   "outputs": [
    {
     "name": "stdout",
     "output_type": "stream",
     "text": [
      "-5.502026008880998\n"
     ]
    }
   ],
   "source": [
    "#numpy.random.uniformは、任意の範囲の連続一様分布から浮動小数点数の乱数を生成する関数です。\n",
    "#https://www.headboost.jp/numpy-random-uniform/\n",
    "print(np.random.uniform(-8, -4))"
   ]
  },
  {
   "cell_type": "markdown",
   "metadata": {},
   "source": [
    "# 配列の練習"
   ]
  },
  {
   "cell_type": "markdown",
   "metadata": {},
   "source": [
    "### パック/アンパック"
   ]
  },
  {
   "cell_type": "code",
   "execution_count": 4,
   "metadata": {},
   "outputs": [
    {
     "name": "stdout",
     "output_type": "stream",
     "text": [
      "[[11 12]\n",
      " [21 22]]\n",
      "2 2\n"
     ]
    }
   ],
   "source": [
    "#アンパック\n",
    "x = np.array([[11,12],[21,22]])\n",
    "print(x)\n",
    "\n",
    "print(*x.shape)"
   ]
  },
  {
   "cell_type": "code",
   "execution_count": 5,
   "metadata": {},
   "outputs": [
    {
     "name": "stdout",
     "output_type": "stream",
     "text": [
      "[[0.89075655 0.91505058]\n",
      " [0.03860913 0.2336657 ]]\n",
      "[[ True  True]\n",
      " [False False]]\n",
      "5\n",
      "0\n",
      "[[0.89075655 0.91505058]\n",
      " [0.         0.        ]]\n"
     ]
    }
   ],
   "source": [
    "#アンパックを使ったランダム値の要素を持つ行列の生成\n",
    "y = np.random.rand(*x.shape)\n",
    "print(y)\n",
    "\n",
    "dropout_ratio = 0.5\n",
    "mask = y > dropout_ratio #dropout_ratio以上のものを得る。\n",
    "print(mask)\n",
    "\n",
    "#数値にTrueを掛けるとそのままに、Falseを掛けると0になる性質がある。\n",
    "print(5*True)\n",
    "print(10*False)\n",
    "\n",
    "#maskを掛けると、dropout_ratio以上の要素のみが残ることになる。\n",
    "print(y * mask)"
   ]
  },
  {
   "cell_type": "markdown",
   "metadata": {},
   "source": [
    "### データのシャッフルと順列"
   ]
  },
  {
   "cell_type": "markdown",
   "metadata": {},
   "source": [
    "#### shuffle_dataset関数で使っているnumpyのテクニック"
   ]
  },
  {
   "cell_type": "code",
   "execution_count": 6,
   "metadata": {},
   "outputs": [
    {
     "name": "stdout",
     "output_type": "stream",
     "text": [
      "[[11 12]\n",
      " [21 22]]\n",
      "2\n",
      "[0 1]\n",
      "[[21 22]\n",
      " [11 12]]\n",
      "次元数が2の場合\n",
      "permutation=[1 0]\n",
      "[[21 22]\n",
      " [11 12]]\n",
      "以下はnumpy配列へのアクセス方法について\n",
      "[21 22]\n",
      "[[11 12]\n",
      " [21 22]]\n",
      "[12 22]\n",
      "[21 22]\n",
      "[11 12]\n",
      "こんなふうにアクセスの仕方を配列で指定できる\n",
      "[[21 22]\n",
      " [11 12]]\n"
     ]
    }
   ],
   "source": [
    "#https://www.headboost.jp/numpy-random-permutation/\n",
    "#numpy.random.permutationは、渡した配列の要素をランダムに並べ替える関数です。多次元配列を渡した場合は最初の軸だけを並べ替えます。\n",
    "x = np.array([[11,12],[21,22]])\n",
    "print(x)\n",
    "#[[11 12]\n",
    "#[21 22]]\n",
    "\n",
    "print(x.shape[0])\n",
    "#[0 1]\n",
    "print(np.random.permutation(x.shape[0]))\n",
    "#ランダムに並べ替えるので、以下のようになる場合がある\n",
    "#[1 0]\n",
    "\n",
    "print(np.random.permutation(x))\n",
    "#ランダムに並べ替えるので、以下のようになる場合がある\n",
    "#[[21 22]\n",
    "# [11 12]]\n",
    "\n",
    "#次元数が2の場合\n",
    "print(\"次元数が2の場合\")\n",
    "permutation = np.random.permutation(x.shape[0])\n",
    "print(\"permutation=%s\" % (permutation))\n",
    "print(x[permutation,:] ) #以下のようになる場合がある\n",
    "#permutation=[1 0]\n",
    "#array([[21, 22],\n",
    "#       [11, 12]])\n",
    "\n",
    "#以下はnumpy配列へのアクセス方法について\n",
    "#スライスを使っている。スライスについては、以下のＵＲＬが良くわかる\n",
    "#https://www.headboost.jp/python-numpy-array-how-to-handle/\n",
    "print(\"以下はnumpy配列へのアクセス方法について\")\n",
    "print(x[1])\n",
    "print(x[:]) #すべての要素\n",
    "print(x[:,1]) #2列目　→　[12 22]　※２列目が抜き出されて１次元配列になってくる。\n",
    "print(x[1,:]) #2行目　→　[21, 22]\n",
    "print(x[0,:]) #1行目　→　[11, 12]\n",
    "\n",
    "print(\"こんなふうにアクセスの仕方を配列で指定できる\")\n",
    "print(x[[1,0],:])"
   ]
  },
  {
   "cell_type": "markdown",
   "metadata": {},
   "source": [
    "ここまでわかったので、shuffle_datasetについて理解した。コメントを入れておく。"
   ]
  },
  {
   "cell_type": "code",
   "execution_count": 7,
   "metadata": {},
   "outputs": [],
   "source": [
    "def shuffle_dataset(x, t):\n",
    "    \"\"\"データセットのシャッフルを行う\n",
    "\n",
    "    Parameters\n",
    "    ----------\n",
    "    x : 訓練データ\n",
    "    t : 教師データ\n",
    "\n",
    "    Returns\n",
    "    -------\n",
    "    x, t : シャッフルを行った訓練データと教師データ\n",
    "    \"\"\"\n",
    "    permutation = np.random.permutation(x.shape[0]) #入力データの最初の次元について配列化する。例えば、2*2行列ならx.shape[0]は[0, 1]\n",
    "    x = x[permutation,:] if x.ndim == 2 else x[permutation,:,:,:] #2次元配列であれば、行だけを並び替えて、後の列はそのまま。２次元を超える配列場合、例えば、畳み込み演算で使う４次元配列の場合も同じ考え方で並び替え\n",
    "    t = t[permutation] #正解ラベルは１次元なので、permutationで並び替えるだけ。\n",
    "\n",
    "    return x, t"
   ]
  },
  {
   "cell_type": "markdown",
   "metadata": {},
   "source": [
    "### reshape"
   ]
  },
  {
   "cell_type": "markdown",
   "metadata": {},
   "source": [
    "# 参考URL\n",
    "1. 乱数の生成\n",
    "https://qiita.com/yubais/items/bf9ce0a8fefdcc0b0c97\n",
    "    \n",
    "2. パック/アンパック\n",
    "https://docs.python.org/ja/3.7/tutorial/controlflow.html#unpacking-argument-lists\n",
    "\n",
    "3. 配列のスライスについて\n",
    "https://www.headboost.jp/python-numpy-array-how-to-handle/"
   ]
  },
  {
   "cell_type": "code",
   "execution_count": null,
   "metadata": {},
   "outputs": [],
   "source": []
  },
  {
   "cell_type": "code",
   "execution_count": null,
   "metadata": {},
   "outputs": [],
   "source": []
  }
 ],
 "metadata": {
  "kernelspec": {
   "display_name": "Python 3",
   "language": "python",
   "name": "python3"
  },
  "language_info": {
   "codemirror_mode": {
    "name": "ipython",
    "version": 3
   },
   "file_extension": ".py",
   "mimetype": "text/x-python",
   "name": "python",
   "nbconvert_exporter": "python",
   "pygments_lexer": "ipython3",
   "version": "3.8.5"
  }
 },
 "nbformat": 4,
 "nbformat_minor": 4
}
