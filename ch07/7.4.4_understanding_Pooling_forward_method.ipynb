{
 "cells": [
  {
   "cell_type": "markdown",
   "metadata": {},
   "source": [
    "# 1.Poolingレイヤのforwardの理解 "
   ]
  },
  {
   "cell_type": "markdown",
   "metadata": {},
   "source": [
    "##  1-1. 実装コードを観察する\n",
    "Poolingクラスの行数は多くないので、全体をのせる。"
   ]
  },
  {
   "cell_type": "code",
   "execution_count": 1,
   "metadata": {},
   "outputs": [],
   "source": [
    "# coding: utf-8\n",
    "import sys, os\n",
    "sys.path.append(os.pardir)  # 親ディレクトリのファイルをインポートするための設定\n",
    "import numpy as np\n",
    "import matplotlib.pyplot as plt\n",
    "from common.util import *\n",
    "\n",
    "#from common/layers.py\n",
    "class Pooling:\n",
    "    def __init__(self, pool_h, pool_w, stride=2, pad=0):\n",
    "        self.pool_h = pool_h\n",
    "        self.pool_w = pool_w\n",
    "        self.stride = stride\n",
    "        self.pad = pad\n",
    "        \n",
    "        self.x = None\n",
    "        self.arg_max = None\n",
    "\n",
    "    def forward(self, x):\n",
    "        N, C, H, W = x.shape\n",
    "        out_h = int(1 + (H - self.pool_h) / self.stride)\n",
    "        out_w = int(1 + (W - self.pool_w) / self.stride)\n",
    "\n",
    "        col = im2col(x, self.pool_h, self.pool_w, self.stride, self.pad)\n",
    "        col = col.reshape(-1, self.pool_h*self.pool_w)\n",
    "\n",
    "        arg_max = np.argmax(col, axis=1)\n",
    "        out = np.max(col, axis=1)\n",
    "        out = out.reshape(N, out_h, out_w, C).transpose(0, 3, 1, 2)\n",
    "\n",
    "        self.x = x\n",
    "        self.arg_max = arg_max\n",
    "\n",
    "        return out\n",
    "\n",
    "    def backward(self, dout):\n",
    "        dout = dout.transpose(0, 2, 3, 1)\n",
    "        \n",
    "        pool_size = self.pool_h * self.pool_w\n",
    "        dmax = np.zeros((dout.size, pool_size))\n",
    "        dmax[np.arange(self.arg_max.size), self.arg_max.flatten()] = dout.flatten()\n",
    "        dmax = dmax.reshape(dout.shape + (pool_size,)) \n",
    "        \n",
    "        dcol = dmax.reshape(dmax.shape[0] * dmax.shape[1] * dmax.shape[2], -1)\n",
    "        dx = col2im(dcol, self.x.shape, self.pool_h, self.pool_w, self.stride, self.pad)\n",
    "        \n",
    "        return dx\n"
   ]
  },
  {
   "cell_type": "markdown",
   "metadata": {},
   "source": [
    "## 1-2. forwardでは何をやっているのか？概要をざっくりと理解する"
   ]
  },
  {
   "cell_type": "markdown",
   "metadata": {},
   "source": [
    "(im2colを一度理解してしまえば、）概念理解的にはそれほど難解なことをやっていないようである。\n",
    "テキストのＰ２２８〜Ｐ２２９の解説にあるとおり、以下になる。\n",
    "1. プールフィルタのサイズ（高さ、幅）で、im2colする。結果は行ベクトルからなる行列ができる\n",
    "2. 行ベクトル毎に最大の大きさとなる要素を取り出す　→　一本の列ベクトルが出来上がる\n",
    "3. 列ベクトルを並び替えて、画像の枚数だけ行列をつくる\n",
    "\n",
    "それでは、forwardの動作をサンプルを作りながらステップバイステップで確認していく。"
   ]
  },
  {
   "cell_type": "markdown",
   "metadata": {},
   "source": [
    "## 1-3. 全体をサンプル作って試していく"
   ]
  },
  {
   "cell_type": "code",
   "execution_count": 2,
   "metadata": {},
   "outputs": [],
   "source": [
    "from my_common.util import init_sample_matrix"
   ]
  },
  {
   "cell_type": "markdown",
   "metadata": {},
   "source": [
    "### 全体のパラメータ\n",
    "単純のため、strideを2、padを0に設定する(ch07/simple_convnet.pyの実装を見ると、strideは2で、padは0である)"
   ]
  },
  {
   "cell_type": "code",
   "execution_count": 3,
   "metadata": {},
   "outputs": [
    {
     "name": "stdout",
     "output_type": "stream",
     "text": [
      "出力画像の高さ=2 と 幅=2\n"
     ]
    }
   ],
   "source": [
    "#入力画像の高さ、幅、および、チャネル数。画像の枚数\n",
    "H  = 4\n",
    "W  = 5\n",
    "C  = 1 #mnistはチャンネル数1のようなので、このサンプルテストもそれに合わせる(7.4.2と同じ)\n",
    "N  = 2 #入力画像の枚数\n",
    "\n",
    "#poolingレイヤの基本パラメータ\n",
    "pool_h = 2\n",
    "pool_w = 2\n",
    "stride = 2\n",
    "pad    = 0\n",
    "\n",
    "#出力データ（画像）の高さと幅（自動的に計算される。）\n",
    "out_h = int(1 + (H - pool_h) / stride)\n",
    "out_w = int(1 + (W - pool_w) / stride)\n",
    "\n",
    "print(\"出力画像の高さ=%d と 幅=%d\" % (out_h ,out_w))"
   ]
  },
  {
   "cell_type": "markdown",
   "metadata": {},
   "source": [
    "### 入力画像(x)を作る"
   ]
  },
  {
   "cell_type": "code",
   "execution_count": 4,
   "metadata": {},
   "outputs": [
    {
     "name": "stdout",
     "output_type": "stream",
     "text": [
      "=== preparing of x===\n",
      "(2, 1, 4, 5)\n",
      "[[[[1111 1112 1113 1114 1115]\n",
      "   [1121 1122 1123 1124 1125]\n",
      "   [1131 1132 1133 1134 1135]\n",
      "   [1141 1142 1143 1144 1145]]]\n",
      "\n",
      "\n",
      " [[[2111 2112 2113 2114 2115]\n",
      "   [2121 2122 2123 2124 2125]\n",
      "   [2131 2132 2133 2134 2135]\n",
      "   [2141 2142 2143 2144 2145]]]]\n"
     ]
    }
   ],
   "source": [
    "#xの用意(mnistはチャンネル数1のようなので、このテストもそれに合わせる)\n",
    "print(\"=== preparing of x===\")\n",
    "x1 = init_sample_matrix(filter_num = 1, channel=C, height=H, width=W) #filter番号(=画像番号)を識別する数値を与える(1,2~)\n",
    "x2 = init_sample_matrix(filter_num = 2, channel=C, height=H, width=W)\n",
    "x = np.array([[x1],[x2]])\n",
    "print(x.shape)\n",
    "print(x)"
   ]
  },
  {
   "cell_type": "markdown",
   "metadata": {},
   "source": [
    "### xに対してim2colを行う"
   ]
  },
  {
   "cell_type": "code",
   "execution_count": 5,
   "metadata": {},
   "outputs": [
    {
     "name": "stdout",
     "output_type": "stream",
     "text": [
      "[[1111. 1112. 1121. 1122.]\n",
      " [1113. 1114. 1123. 1124.]\n",
      " [1131. 1132. 1141. 1142.]\n",
      " [1133. 1134. 1143. 1144.]\n",
      " [2111. 2112. 2121. 2122.]\n",
      " [2113. 2114. 2123. 2124.]\n",
      " [2131. 2132. 2141. 2142.]\n",
      " [2133. 2134. 2143. 2144.]]\n"
     ]
    }
   ],
   "source": [
    "col = im2col(x, pool_h, pool_w, stride, pad)\n",
    "print(col)"
   ]
  },
  {
   "cell_type": "markdown",
   "metadata": {},
   "source": [
    "テキストのＰ２２８の説明にあるとおり、プーリングの大きさで行ベクトルが切り出されていることがわかる。\n",
    "次にreshapeを行う。行は自動で決定して、列をpool_h * pool_wの大きさで指定する"
   ]
  },
  {
   "cell_type": "code",
   "execution_count": 6,
   "metadata": {},
   "outputs": [
    {
     "name": "stdout",
     "output_type": "stream",
     "text": [
      "[[1111. 1112. 1121. 1122.]\n",
      " [1113. 1114. 1123. 1124.]\n",
      " [1131. 1132. 1141. 1142.]\n",
      " [1133. 1134. 1143. 1144.]\n",
      " [2111. 2112. 2121. 2122.]\n",
      " [2113. 2114. 2123. 2124.]\n",
      " [2131. 2132. 2141. 2142.]\n",
      " [2133. 2134. 2143. 2144.]]\n"
     ]
    }
   ],
   "source": [
    "col = col.reshape(-1, pool_h * pool_w)\n",
    "print(col)"
   ]
  },
  {
   "cell_type": "markdown",
   "metadata": {},
   "source": [
    "結果は変わらなかった(おそらくこのreshapeは画像とチャンネル数が複数の時にＰ２２８の図で説明しているような並びにするためのものであると思う。一応、このnote bookの最後に参考として、複数枚数、チャンネルの場合の実行結果を乗せておく。)"
   ]
  },
  {
   "cell_type": "markdown",
   "metadata": {},
   "source": [
    "### 要素の最大値を求める\n",
    "np.argmax,np.maxにそれぞれaxis=1(行毎の演算)を仕掛ける。なお、argmaxはbackwardの計算時に使うもの。"
   ]
  },
  {
   "cell_type": "code",
   "execution_count": 7,
   "metadata": {},
   "outputs": [
    {
     "name": "stdout",
     "output_type": "stream",
     "text": [
      "[3 3 3 3 3 3 3 3]\n",
      "[1122. 1124. 1142. 1144. 2122. 2124. 2142. 2144.]\n"
     ]
    }
   ],
   "source": [
    "arg_max = np.argmax(col, axis=1)\n",
    "print(arg_max)\n",
    "out = np.max(col, axis=1)\n",
    "print(out)"
   ]
  },
  {
   "cell_type": "markdown",
   "metadata": {},
   "source": [
    "### transposeを行い、結果を整形する\n",
    "綺麗に、画像毎、チャネル毎にデータがまとまっている。"
   ]
  },
  {
   "cell_type": "code",
   "execution_count": 8,
   "metadata": {},
   "outputs": [
    {
     "name": "stdout",
     "output_type": "stream",
     "text": [
      "[[[[1122. 1124.]\n",
      "   [1142. 1144.]]]\n",
      "\n",
      "\n",
      " [[[2122. 2124.]\n",
      "   [2142. 2144.]]]]\n"
     ]
    }
   ],
   "source": [
    "out = out.reshape(N, out_h, out_w, C).transpose(0, 3, 1, 2)\n",
    "print(out)"
   ]
  },
  {
   "cell_type": "markdown",
   "metadata": {},
   "source": [
    "## 1-4. [参考]  複数画像枚、複数チャンネルの場合"
   ]
  },
  {
   "cell_type": "code",
   "execution_count": 9,
   "metadata": {},
   "outputs": [
    {
     "name": "stdout",
     "output_type": "stream",
     "text": [
      "出力画像の高さ=2 と 幅=2\n",
      "=== preparing of x===\n",
      "(2, 2, 4, 5)\n",
      "[[[[1111 1112 1113 1114 1115]\n",
      "   [1121 1122 1123 1124 1125]\n",
      "   [1131 1132 1133 1134 1135]\n",
      "   [1141 1142 1143 1144 1145]]\n",
      "\n",
      "  [[1211 1212 1213 1214 1215]\n",
      "   [1221 1222 1223 1224 1225]\n",
      "   [1231 1232 1233 1234 1235]\n",
      "   [1241 1242 1243 1244 1245]]]\n",
      "\n",
      "\n",
      " [[[2111 2112 2113 2114 2115]\n",
      "   [2121 2122 2123 2124 2125]\n",
      "   [2131 2132 2133 2134 2135]\n",
      "   [2141 2142 2143 2144 2145]]\n",
      "\n",
      "  [[2211 2212 2213 2214 2215]\n",
      "   [2221 2222 2223 2224 2225]\n",
      "   [2231 2232 2233 2234 2235]\n",
      "   [2241 2242 2243 2244 2245]]]]\n"
     ]
    }
   ],
   "source": [
    "#入力画像の高さ、幅、および、チャネル数。画像の枚数\n",
    "H  = 4 \n",
    "W  = 5 \n",
    "C  = 2 \n",
    "N  = 2 #入力画像の枚数\n",
    "\n",
    "#poolingレイヤの基本パラメータ\n",
    "pool_h = 2\n",
    "pool_w = 2\n",
    "stride = 2\n",
    "pad    = 0\n",
    "\n",
    "#出力データ（画像）の高さと幅（自動的に計算される。）\n",
    "out_h = int(1 + (H - pool_h) / stride)\n",
    "out_w = int(1 + (W - pool_w) / stride)\n",
    "\n",
    "print(\"出力画像の高さ=%d と 幅=%d\" % (out_h ,out_w))\n",
    "\n",
    "#xの用意\n",
    "print(\"=== preparing of x===\")\n",
    "x11 = init_sample_matrix(filter_num = 1, channel=1, height=H, width=W) #filter番号(=画像番号)を識別する数値を与える(1,2~)\n",
    "x12 = init_sample_matrix(filter_num = 1, channel=2, height=H, width=W)\n",
    "x21 = init_sample_matrix(filter_num = 2, channel=1, height=H, width=W) #filter番号(=画像番号)を識別する数値を与える(1,2~)\n",
    "x22 = init_sample_matrix(filter_num = 2, channel=2, height=H, width=W)\n",
    "x = np.array([[x11,x12],[x21,x22]])\n",
    "print(x.shape)\n",
    "print(x)"
   ]
  },
  {
   "cell_type": "code",
   "execution_count": 10,
   "metadata": {},
   "outputs": [
    {
     "name": "stdout",
     "output_type": "stream",
     "text": [
      "[[1111. 1112. 1121. 1122. 1211. 1212. 1221. 1222.]\n",
      " [1113. 1114. 1123. 1124. 1213. 1214. 1223. 1224.]\n",
      " [1131. 1132. 1141. 1142. 1231. 1232. 1241. 1242.]\n",
      " [1133. 1134. 1143. 1144. 1233. 1234. 1243. 1244.]\n",
      " [2111. 2112. 2121. 2122. 2211. 2212. 2221. 2222.]\n",
      " [2113. 2114. 2123. 2124. 2213. 2214. 2223. 2224.]\n",
      " [2131. 2132. 2141. 2142. 2231. 2232. 2241. 2242.]\n",
      " [2133. 2134. 2143. 2144. 2233. 2234. 2243. 2244.]]\n"
     ]
    }
   ],
   "source": [
    "col = im2col(x, pool_h, pool_w, stride, pad)\n",
    "print(col)"
   ]
  },
  {
   "cell_type": "markdown",
   "metadata": {},
   "source": [
    "im2colしただけでは、複数チャネルのデータが同じ行ベクトルに入ってしまい、この後のnp.max(col,axis=1)で一発で最大値を計算できない。\n",
    "このため、チャンネル毎に並べ替える必要がある。\n",
    "以下の処理で並び替えができるらしい。\n",
    "（numpyの自動指定の仕様を熟知しないと、この辺の処理の理由はわからないだろうが。。。）"
   ]
  },
  {
   "cell_type": "code",
   "execution_count": 11,
   "metadata": {},
   "outputs": [
    {
     "name": "stdout",
     "output_type": "stream",
     "text": [
      "[[1111. 1112. 1121. 1122.]\n",
      " [1211. 1212. 1221. 1222.]\n",
      " [1113. 1114. 1123. 1124.]\n",
      " [1213. 1214. 1223. 1224.]\n",
      " [1131. 1132. 1141. 1142.]\n",
      " [1231. 1232. 1241. 1242.]\n",
      " [1133. 1134. 1143. 1144.]\n",
      " [1233. 1234. 1243. 1244.]\n",
      " [2111. 2112. 2121. 2122.]\n",
      " [2211. 2212. 2221. 2222.]\n",
      " [2113. 2114. 2123. 2124.]\n",
      " [2213. 2214. 2223. 2224.]\n",
      " [2131. 2132. 2141. 2142.]\n",
      " [2231. 2232. 2241. 2242.]\n",
      " [2133. 2134. 2143. 2144.]\n",
      " [2233. 2234. 2243. 2244.]]\n"
     ]
    }
   ],
   "source": [
    "col = col.reshape(-1, pool_h * pool_w)\n",
    "print(col)"
   ]
  },
  {
   "cell_type": "code",
   "execution_count": 12,
   "metadata": {},
   "outputs": [
    {
     "name": "stdout",
     "output_type": "stream",
     "text": [
      "[3 3 3 3 3 3 3 3 3 3 3 3 3 3 3 3]\n"
     ]
    }
   ],
   "source": [
    "arg_max = np.argmax(col, axis=1)\n",
    "print(arg_max)"
   ]
  },
  {
   "cell_type": "code",
   "execution_count": 13,
   "metadata": {},
   "outputs": [
    {
     "name": "stdout",
     "output_type": "stream",
     "text": [
      "[1122. 1222. 1124. 1224. 1142. 1242. 1144. 1244. 2122. 2222. 2124. 2224.\n",
      " 2142. 2242. 2144. 2244.]\n"
     ]
    }
   ],
   "source": [
    "out = np.max(col, axis=1)\n",
    "print(out)"
   ]
  },
  {
   "cell_type": "code",
   "execution_count": 14,
   "metadata": {},
   "outputs": [
    {
     "name": "stdout",
     "output_type": "stream",
     "text": [
      "はじめから、out.reshape(N,C,out_h, out_w)と指定してしまうと、以下のように、１つのチャネルに別のチャネルのデータが混じってしまう。上の結果を観察すると、同じチャンネルは飛び飛びで存在しているようなので、これを上手くまとめる必要がある\n",
      "[[[[1122. 1222.]\n",
      "   [1124. 1224.]]\n",
      "\n",
      "  [[1142. 1242.]\n",
      "   [1144. 1244.]]]\n",
      "\n",
      "\n",
      " [[[2122. 2222.]\n",
      "   [2124. 2224.]]\n",
      "\n",
      "  [[2142. 2242.]\n",
      "   [2144. 2244.]]]]\n",
      "out.reshape(N,out_h, out_w,C)　おもむろにこのように指定してあげると。。。まぁ、結果は変わらん？\n",
      "[[[[1122. 1222.]\n",
      "   [1124. 1224.]]\n",
      "\n",
      "  [[1142. 1242.]\n",
      "   [1144. 1244.]]]\n",
      "\n",
      "\n",
      " [[[2122. 2222.]\n",
      "   [2124. 2224.]]\n",
      "\n",
      "  [[2142. 2242.]\n",
      "   [2144. 2244.]]]]\n",
      "out.reshape(N, out_h, out_w, C).transpose(0, 3, 1, 2)、つまり、(N,out_h, out_w,C)　→　(N,C,out_h,out_w)\n",
      "[[[[1122. 1124.]\n",
      "   [1142. 1144.]]\n",
      "\n",
      "  [[1222. 1224.]\n",
      "   [1242. 1244.]]]\n",
      "\n",
      "\n",
      " [[[2122. 2124.]\n",
      "   [2142. 2144.]]\n",
      "\n",
      "  [[2222. 2224.]\n",
      "   [2242. 2244.]]]]\n"
     ]
    }
   ],
   "source": [
    "print(\"はじめから、out.reshape(N,C,out_h, out_w)と指定してしまうと、以下のように、１つのチャネルに別のチャネルのデータが混じってしまう。上の結果を観察すると、同じチャンネルは飛び飛びで存在しているようなので、これを上手くまとめる必要がある\")\n",
    "print(out.reshape(N,C,out_h, out_w))\n",
    "\n",
    "print(\"out.reshape(N,out_h, out_w,C)　おもむろにこのように指定してあげると。。。まぁ、結果は変わらん？\")\n",
    "print(out.reshape(N,out_h, out_w,C))\n",
    "\n",
    "print(\"out.reshape(N, out_h, out_w, C).transpose(0, 3, 1, 2)、つまり、(N,out_h, out_w,C)　→　(N,C,out_h,out_w)\")\n",
    "print(out.reshape(N, out_h, out_w, C).transpose(0, 3, 1, 2))\n",
    "\n",
    "#out = out.reshape(N, out_h, out_w, C).transpose(0, 3, 1, 2)\n",
    "#print(out)"
   ]
  },
  {
   "cell_type": "markdown",
   "metadata": {},
   "source": [
    "最後に画像毎、チャネル毎に整列される。\n",
    "transposeは所見だとどの軸がどのように変換されたのかがわかりにくい。この辺の素朴な理解をmy_jupyer/numpy_excersiceにまとめた（理解の参考に）。このtransposeはたとえば、(0,0,0,1)→(0,1,0,0)に変換されるので、2列目を次のチャネルに移すような動作をしていることがわかる。このような変形になるため、チャネル毎に整列されることになるようだ。\n",
    "\n",
    "transposeは添字がどのように変換されるか（例：３次元の場合、transpose(2,1,0)ならx(i,j,k)→x'(k,j.i)というふうに）１つずつ理解しながらどのように要素が移動するのかをトレースすると一発でわかる（素朴な方法だが。。。これしかないのかな？）\n",
    "\n",
    "ただ、このtransposeの動作（というかＮ次元の転置の動作）を頭に叩き込んでおかないと、機械学習のアルゴリズムなんて考えられないだろうなぁ"
   ]
  },
  {
   "cell_type": "code",
   "execution_count": null,
   "metadata": {},
   "outputs": [],
   "source": []
  }
 ],
 "metadata": {
  "kernelspec": {
   "display_name": "Python 3",
   "language": "python",
   "name": "python3"
  },
  "language_info": {
   "codemirror_mode": {
    "name": "ipython",
    "version": 3
   },
   "file_extension": ".py",
   "mimetype": "text/x-python",
   "name": "python",
   "nbconvert_exporter": "python",
   "pygments_lexer": "ipython3",
   "version": "3.8.5"
  }
 },
 "nbformat": 4,
 "nbformat_minor": 4
}
