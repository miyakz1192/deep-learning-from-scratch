{
 "cells": [
  {
   "cell_type": "markdown",
   "metadata": {},
   "source": [
    "# im2colとcol2imの理解"
   ]
  },
  {
   "cell_type": "code",
   "execution_count": 1,
   "metadata": {},
   "outputs": [],
   "source": [
    "# coding: utf-8\n",
    "import sys, os\n",
    "sys.path.append(os.pardir)  # 親ディレクトリのファイルをインポートするための設定\n",
    "import numpy as np\n",
    "import matplotlib.pyplot as plt\n",
    "from common.util import *"
   ]
  },
  {
   "cell_type": "code",
   "execution_count": 2,
   "metadata": {},
   "outputs": [],
   "source": [
    "#サンプル行列の初期化\n",
    "def init_sample_matrix(filter_num=0, channel=0, height=6, width = 8):\n",
    "    matrix = []\n",
    "\n",
    "    for row in range(height):\n",
    "        temp_row = []\n",
    "        for col in range(width):\n",
    "            elem = (row+1)*10 + col+1\n",
    "            elem += channel * 100\n",
    "            elem += filter_num * 1000\n",
    "            temp_row.append(elem)\n",
    "        matrix.append(temp_row)\n",
    "\n",
    "    return np.array(matrix)"
   ]
  },
  {
   "cell_type": "code",
   "execution_count": 3,
   "metadata": {},
   "outputs": [
    {
     "name": "stdout",
     "output_type": "stream",
     "text": [
      "[[11 12 13 14 15 16 17 18]\n",
      " [21 22 23 24 25 26 27 28]\n",
      " [31 32 33 34 35 36 37 38]\n",
      " [41 42 43 44 45 46 47 48]\n",
      " [51 52 53 54 55 56 57 58]\n",
      " [61 62 63 64 65 66 67 68]]\n"
     ]
    }
   ],
   "source": [
    "m = init_sample_matrix()\n",
    "print(m)"
   ]
  },
  {
   "cell_type": "markdown",
   "metadata": {},
   "source": [
    "init_sample_matrixは指定したサイズの行列を生成する。各要素の十の位が行番号を示し、一の位が列番号を示す。"
   ]
  },
  {
   "cell_type": "code",
   "execution_count": 4,
   "metadata": {},
   "outputs": [],
   "source": [
    "filter_size_x = 3\n",
    "filter_size_y = 3\n",
    "stride        = 1\n",
    "pad           = 0"
   ]
  },
  {
   "cell_type": "code",
   "execution_count": 5,
   "metadata": {},
   "outputs": [
    {
     "name": "stdout",
     "output_type": "stream",
     "text": [
      "(1, 1, 6, 8)\n",
      "[[11. 12. 13. 21. 22. 23. 31. 32. 33.]\n",
      " [12. 13. 14. 22. 23. 24. 32. 33. 34.]\n",
      " [13. 14. 15. 23. 24. 25. 33. 34. 35.]\n",
      " [14. 15. 16. 24. 25. 26. 34. 35. 36.]\n",
      " [15. 16. 17. 25. 26. 27. 35. 36. 37.]\n",
      " [16. 17. 18. 26. 27. 28. 36. 37. 38.]\n",
      " [21. 22. 23. 31. 32. 33. 41. 42. 43.]\n",
      " [22. 23. 24. 32. 33. 34. 42. 43. 44.]\n",
      " [23. 24. 25. 33. 34. 35. 43. 44. 45.]\n",
      " [24. 25. 26. 34. 35. 36. 44. 45. 46.]\n",
      " [25. 26. 27. 35. 36. 37. 45. 46. 47.]\n",
      " [26. 27. 28. 36. 37. 38. 46. 47. 48.]\n",
      " [31. 32. 33. 41. 42. 43. 51. 52. 53.]\n",
      " [32. 33. 34. 42. 43. 44. 52. 53. 54.]\n",
      " [33. 34. 35. 43. 44. 45. 53. 54. 55.]\n",
      " [34. 35. 36. 44. 45. 46. 54. 55. 56.]\n",
      " [35. 36. 37. 45. 46. 47. 55. 56. 57.]\n",
      " [36. 37. 38. 46. 47. 48. 56. 57. 58.]\n",
      " [41. 42. 43. 51. 52. 53. 61. 62. 63.]\n",
      " [42. 43. 44. 52. 53. 54. 62. 63. 64.]\n",
      " [43. 44. 45. 53. 54. 55. 63. 64. 65.]\n",
      " [44. 45. 46. 54. 55. 56. 64. 65. 66.]\n",
      " [45. 46. 47. 55. 56. 57. 65. 66. 67.]\n",
      " [46. 47. 48. 56. 57. 58. 66. 67. 68.]]\n"
     ]
    }
   ],
   "source": [
    "img = np.array([[m]])\n",
    "print(img.shape)\n",
    "col = im2col(img, filter_size_x, filter_size_y, stride, pad)\n",
    "print(col)"
   ]
  },
  {
   "cell_type": "markdown",
   "metadata": {},
   "source": [
    "参考URL1の説明に合ったように、フィルターの範囲の要素を並べて各行としていき、col展開する（参考URLの用語を流用)。\n",
    "col2imも同様。ただし、こちらはimage表現に直した際に各ピクセルの値を加算していく所が特色的。"
   ]
  },
  {
   "cell_type": "code",
   "execution_count": 6,
   "metadata": {},
   "outputs": [
    {
     "name": "stdout",
     "output_type": "stream",
     "text": [
      "(1, 1, 6, 8)\n",
      "(1, 1, 6, 8)\n",
      "[[[[ 11.  24.  39.  42.  45.  48.  34.  18.]\n",
      "   [ 42.  88. 138. 144. 150. 156. 108.  56.]\n",
      "   [ 93. 192. 297. 306. 315. 324. 222. 114.]\n",
      "   [123. 252. 387. 396. 405. 414. 282. 144.]\n",
      "   [102. 208. 318. 324. 330. 336. 228. 116.]\n",
      "   [ 61. 124. 189. 192. 195. 198. 134.  68.]]]]\n"
     ]
    }
   ],
   "source": [
    "print(img.shape)\n",
    "\n",
    "img_ret = col2im(col, img.shape, filter_size_x, filter_size_y, stride, pad)\n",
    "print(img_ret.shape)\n",
    "print(img_ret)"
   ]
  },
  {
   "cell_type": "markdown",
   "metadata": {},
   "source": [
    "## col展開でなぜ畳み込み演算が実現できるか、重みとフィルターの関係性は\n",
    "### コード上での重み演算の観察"
   ]
  },
  {
   "cell_type": "code",
   "execution_count": 7,
   "metadata": {},
   "outputs": [],
   "source": [
    "#common/layers.pyより関係する所のみを抜粋\n",
    "class Convolution:\n",
    "    #(中略)\n",
    "    def forward(self, x):\n",
    "        FN, C, FH, FW = self.W.shape\n",
    "        N, C, H, W = x.shape\n",
    "        out_h = 1 + int((H + 2*self.pad - FH) / self.stride)\n",
    "        out_w = 1 + int((W + 2*self.pad - FW) / self.stride)\n",
    "\n",
    "        col = im2col(x, FH, FW, self.stride, self.pad)\n",
    "        col_W = self.W.reshape(FN, -1).T\n",
    "\n",
    "        out = np.dot(col, col_W) + self.b\n",
    "        out = out.reshape(N, out_h, out_w, -1).transpose(0, 3, 1, 2)\n",
    "\n",
    "        self.x = x\n",
    "        self.col = col\n",
    "        self.col_W = col_W\n",
    "\n",
    "        return out\n"
   ]
  },
  {
   "cell_type": "markdown",
   "metadata": {},
   "source": [
    "入力行列xをim2colでcol展開した後、加工したW(col_W)と行列colで行列積(col * colW)をとっている。\n",
    "上記col展開の具体的な観察を踏まえ、なぜ、colとcol_W(すなわちcol_W = self.W.reshape(FN, -1).T)の行列積を取るコトが、畳み込み演算に繋がるのかを考察する。"
   ]
  },
  {
   "cell_type": "markdown",
   "metadata": {},
   "source": [
    "### \"self.W.reshape(FN, -1).T\"って何やっているのか？"
   ]
  },
  {
   "cell_type": "markdown",
   "metadata": {},
   "source": [
    "字面上は重みWをreshapeで変形したものの転置をとっている。テキストP217を見ると、入力データ、フィルター（重み）、出力データはそれぞれ以下の次元だった。\n",
    "\n",
    "1. 入力データ：(C,H,W)。Cはチャンネル数、Hは高さ、Wは幅\n",
    "2. フィルター：(FN,C,FH,FW)。FNはフィルターの数、Cはチャンネル数(入力のチャンネル数と同一値）、FH、FWはそれぞれフィルターの高さと幅\n",
    "3. 出力データ：(FN,OH,OW)。FNはフィルターの数、OH、OWはそれぞれ、出力データの高さと幅。\n",
    "\n",
    "ここで、W(フィルータ)は(FN,C,FH,FW)の4次元配列になっている。また、この時、Wに対してreshape(FN, -1)を施すとどうなるのか？\n",
    "試していく。まずは、xとWを適当に用意する。なお、思考を簡略化するために、まずは、padding0、strideが1の場合で単純に考えてみる。\n",
    "なお、テキストで用意されているSimpleConvNetおよび、im2colは入力データが4次元(N,C,H,W)になることを前提としている。\n",
    "load_mnistのflatten引数によって、挙動が変わる。この辺を頭に入れておく必要がある。\n",
    "以下、参考動作。"
   ]
  },
  {
   "cell_type": "markdown",
   "metadata": {},
   "source": [
    "### 参考動作(load_mnist)"
   ]
  },
  {
   "cell_type": "code",
   "execution_count": 8,
   "metadata": {},
   "outputs": [
    {
     "name": "stdout",
     "output_type": "stream",
     "text": [
      "(60000, 1, 28, 28)\n",
      "(1, 28, 28)\n",
      "(60000, 784)\n",
      "(784,)\n"
     ]
    }
   ],
   "source": [
    "# coding: utf-8\n",
    "import sys, os\n",
    "sys.path.append(os.pardir)  # 親ディレクトリのファイルをインポートするための設定\n",
    "import numpy as np\n",
    "import matplotlib.pyplot as plt\n",
    "from dataset.mnist import load_mnist\n",
    "from simple_convnet import SimpleConvNet\n",
    "from common.trainer import Trainer\n",
    "\n",
    "# データの読み込み(flatten=Falseであって、SimpleConvNet用途の場合)\n",
    "(x_train, t_train), (x_test, t_test) = load_mnist(flatten=False)\n",
    "\n",
    "print(x_train.shape)\n",
    "print(x_train[0].shape)\n",
    "\n",
    "# データの読み込み(flatten=Trueであって、その他用途の場合)\n",
    "(x_train, t_train), (x_test, t_test) = load_mnist(flatten=True)\n",
    "\n",
    "print(x_train.shape)\n",
    "print(x_train[0].shape)"
   ]
  },
  {
   "cell_type": "code",
   "execution_count": 9,
   "metadata": {},
   "outputs": [
    {
     "name": "stdout",
     "output_type": "stream",
     "text": [
      "=== preparing of x===\n",
      "(2, 1, 4, 5)\n",
      "[[[[1111 1112 1113 1114 1115]\n",
      "   [1121 1122 1123 1124 1125]\n",
      "   [1131 1132 1133 1134 1135]\n",
      "   [1141 1142 1143 1144 1145]]]\n",
      "\n",
      "\n",
      " [[[2111 2112 2113 2114 2115]\n",
      "   [2121 2122 2123 2124 2125]\n",
      "   [2131 2132 2133 2134 2135]\n",
      "   [2141 2142 2143 2144 2145]]]]\n",
      "=== preparing of W===\n",
      "(2, 1, 3, 3)\n",
      "[[[[1111 1112 1113]\n",
      "   [1121 1122 1123]\n",
      "   [1131 1132 1133]]]\n",
      "\n",
      "\n",
      " [[[2111 2112 2113]\n",
      "   [2121 2122 2123]\n",
      "   [2131 2132 2133]]]]\n"
     ]
    }
   ],
   "source": [
    "pad = 0\n",
    "stride = 1\n",
    "#xの用意(mnistはチャンネル数1のようなので、このテストもそれに合わせる)\n",
    "print(\"=== preparing of x===\")\n",
    "H = 4\n",
    "W = 5\n",
    "x1 = init_sample_matrix(filter_num = 1, channel=1, height=H, width=W)\n",
    "x2 = init_sample_matrix(filter_num = 2, channel=1, height=H, width=W)\n",
    "x = np.array([[x1],[x2]])\n",
    "print(x.shape)\n",
    "print(x)\n",
    "#Wの用意(mnistはチャンネル数1のようなので、このテストもそれに合わせる)\n",
    "print(\"=== preparing of W===\")\n",
    "FH=3\n",
    "FW=3\n",
    "w1 = init_sample_matrix(filter_num = 1, channel=1, height=FH, width=FW)\n",
    "w2 = init_sample_matrix(filter_num = 2, channel=1, height=FH, width=FW)\n",
    "#w3 = init_sample_matrix(filter_num = 2, channel=1, height=FH, width=FW)\n",
    "#w4 = init_sample_matrix(filter_num = 2, channel=2, height=FH, width=FW)\n",
    "#W = np.array([[w1,w2],[w3,w4]])\n",
    "W = np.array([[w1],[w2]])\n",
    "FN = W.shape[0]\n",
    "print(W.shape)\n",
    "print(W)"
   ]
  },
  {
   "cell_type": "markdown",
   "metadata": {},
   "source": [
    "reshape(FN, -1)をかましてみる"
   ]
  },
  {
   "cell_type": "code",
   "execution_count": 12,
   "metadata": {},
   "outputs": [
    {
     "name": "stdout",
     "output_type": "stream",
     "text": [
      "FNの値2\n",
      "(2, 9)\n",
      "[[1111 1112 1113 1121 1122 1123 1131 1132 1133]\n",
      " [2111 2112 2113 2121 2122 2123 2131 2132 2133]]\n",
      "(9, 2)\n",
      "[[1111 2111]\n",
      " [1112 2112]\n",
      " [1113 2113]\n",
      " [1121 2121]\n",
      " [1122 2122]\n",
      " [1123 2123]\n",
      " [1131 2131]\n",
      " [1132 2132]\n",
      " [1133 2133]]\n",
      "1111\n"
     ]
    }
   ],
   "source": [
    "print(\"FNの値%d\" % (FN))\n",
    "\n",
    "temp = W.reshape(FN, -1) #最初の次元だけをFNにして、あとは自動設定(-1)\n",
    "print(temp.shape)  #結果として、2行18列の配列になる。\n",
    "print(temp)\n",
    "\n",
    "col_W = temp.T\n",
    "print(col_W.shape)\n",
    "print(col_W)\n",
    "print(col_W[0,0])"
   ]
  },
  {
   "cell_type": "code",
   "execution_count": 11,
   "metadata": {},
   "outputs": [
    {
     "name": "stdout",
     "output_type": "stream",
     "text": [
      "入力xのcol展開\n",
      "(2, 1, 4, 5)\n",
      "(12, 9)\n",
      "[[1111. 1112. 1113. 1121. 1122. 1123. 1131. 1132. 1133.]\n",
      " [1112. 1113. 1114. 1122. 1123. 1124. 1132. 1133. 1134.]\n",
      " [1113. 1114. 1115. 1123. 1124. 1125. 1133. 1134. 1135.]\n",
      " [1121. 1122. 1123. 1131. 1132. 1133. 1141. 1142. 1143.]\n",
      " [1122. 1123. 1124. 1132. 1133. 1134. 1142. 1143. 1144.]\n",
      " [1123. 1124. 1125. 1133. 1134. 1135. 1143. 1144. 1145.]\n",
      " [2111. 2112. 2113. 2121. 2122. 2123. 2131. 2132. 2133.]\n",
      " [2112. 2113. 2114. 2122. 2123. 2124. 2132. 2133. 2134.]\n",
      " [2113. 2114. 2115. 2123. 2124. 2125. 2133. 2134. 2135.]\n",
      " [2121. 2122. 2123. 2131. 2132. 2133. 2141. 2142. 2143.]\n",
      " [2122. 2123. 2124. 2132. 2133. 2134. 2142. 2143. 2144.]\n",
      " [2123. 2124. 2125. 2133. 2134. 2135. 2143. 2144. 2145.]]\n"
     ]
    }
   ],
   "source": [
    "#入力xをcol展開する\n",
    "print(\"入力xのcol展開\")\n",
    "print(x.shape)\n",
    "col = im2col(x, FW, FH, stride, pad)\n",
    "print(col.shape)\n",
    "print(col)"
   ]
  },
  {
   "cell_type": "markdown",
   "metadata": {},
   "source": [
    "入力をcol展開した後は12行9列の行列になっている。画像毎に、畳込み演算対象のデータが列ベクトルとして並んでいることがよくわかる。画像の境界なしに、延べたんに展開しているのがポイントか。"
   ]
  },
  {
   "cell_type": "markdown",
   "metadata": {},
   "source": [
    "# 参考URL\n",
    "1. 基本的な理解(im2col/col2imの図解がわかりやすい)　https://qiita.com/t-tkd3a/items/6b17f296d61d14e12953\n",
    "2. 行列積による畳込み(im2colした後の行列サイズやフィルターの解説についてわかりやすい) https://www.youtube.com/watch?v=PWPJVws7l0M"
   ]
  },
  {
   "cell_type": "code",
   "execution_count": null,
   "metadata": {},
   "outputs": [],
   "source": []
  }
 ],
 "metadata": {
  "kernelspec": {
   "display_name": "Python 3",
   "language": "python",
   "name": "python3"
  },
  "language_info": {
   "codemirror_mode": {
    "name": "ipython",
    "version": 3
   },
   "file_extension": ".py",
   "mimetype": "text/x-python",
   "name": "python",
   "nbconvert_exporter": "python",
   "pygments_lexer": "ipython3",
   "version": "3.8.5"
  }
 },
 "nbformat": 4,
 "nbformat_minor": 4
}
