{
 "cells": [
  {
   "cell_type": "markdown",
   "metadata": {},
   "source": [
    "# im2colとcol2imの理解"
   ]
  },
  {
   "cell_type": "code",
   "execution_count": 1,
   "metadata": {},
   "outputs": [],
   "source": [
    "# coding: utf-8\n",
    "import sys, os\n",
    "sys.path.append(os.pardir)  # 親ディレクトリのファイルをインポートするための設定\n",
    "import numpy as np\n",
    "import matplotlib.pyplot as plt\n",
    "from common.util import *"
   ]
  },
  {
   "cell_type": "code",
   "execution_count": 2,
   "metadata": {},
   "outputs": [],
   "source": [
    "#サンプル行列の初期化\n",
    "def init_sample_matrix(row_size=6, col_size = 8):\n",
    "    matrix = []\n",
    "\n",
    "    for row in range(row_size):\n",
    "        temp_row = []\n",
    "        for col in range(col_size):\n",
    "            elem = (row+1)*10 + col+1\n",
    "            temp_row.append(elem)\n",
    "        matrix.append(temp_row)\n",
    "\n",
    "    return np.array(matrix)"
   ]
  },
  {
   "cell_type": "code",
   "execution_count": 3,
   "metadata": {},
   "outputs": [
    {
     "name": "stdout",
     "output_type": "stream",
     "text": [
      "[[11 12 13 14 15 16 17 18]\n",
      " [21 22 23 24 25 26 27 28]\n",
      " [31 32 33 34 35 36 37 38]\n",
      " [41 42 43 44 45 46 47 48]\n",
      " [51 52 53 54 55 56 57 58]\n",
      " [61 62 63 64 65 66 67 68]]\n"
     ]
    }
   ],
   "source": [
    "m = init_sample_matrix()\n",
    "print(m)"
   ]
  },
  {
   "cell_type": "markdown",
   "metadata": {},
   "source": [
    "init_sample_matrixは指定したサイズの行列を生成する。各要素の十の位が行番号を示し、一の位が列番号を示す。"
   ]
  },
  {
   "cell_type": "code",
   "execution_count": null,
   "metadata": {},
   "outputs": [],
   "source": [
    "filter_size_x = 3\n",
    "filter_size_y = 3\n",
    "stride        = 1\n",
    "pad           = 0"
   ]
  },
  {
   "cell_type": "code",
   "execution_count": 4,
   "metadata": {},
   "outputs": [
    {
     "name": "stdout",
     "output_type": "stream",
     "text": [
      "(1, 1, 6, 8)\n",
      "[[11. 12. 13. 21. 22. 23. 31. 32. 33.]\n",
      " [12. 13. 14. 22. 23. 24. 32. 33. 34.]\n",
      " [13. 14. 15. 23. 24. 25. 33. 34. 35.]\n",
      " [14. 15. 16. 24. 25. 26. 34. 35. 36.]\n",
      " [15. 16. 17. 25. 26. 27. 35. 36. 37.]\n",
      " [16. 17. 18. 26. 27. 28. 36. 37. 38.]\n",
      " [21. 22. 23. 31. 32. 33. 41. 42. 43.]\n",
      " [22. 23. 24. 32. 33. 34. 42. 43. 44.]\n",
      " [23. 24. 25. 33. 34. 35. 43. 44. 45.]\n",
      " [24. 25. 26. 34. 35. 36. 44. 45. 46.]\n",
      " [25. 26. 27. 35. 36. 37. 45. 46. 47.]\n",
      " [26. 27. 28. 36. 37. 38. 46. 47. 48.]\n",
      " [31. 32. 33. 41. 42. 43. 51. 52. 53.]\n",
      " [32. 33. 34. 42. 43. 44. 52. 53. 54.]\n",
      " [33. 34. 35. 43. 44. 45. 53. 54. 55.]\n",
      " [34. 35. 36. 44. 45. 46. 54. 55. 56.]\n",
      " [35. 36. 37. 45. 46. 47. 55. 56. 57.]\n",
      " [36. 37. 38. 46. 47. 48. 56. 57. 58.]\n",
      " [41. 42. 43. 51. 52. 53. 61. 62. 63.]\n",
      " [42. 43. 44. 52. 53. 54. 62. 63. 64.]\n",
      " [43. 44. 45. 53. 54. 55. 63. 64. 65.]\n",
      " [44. 45. 46. 54. 55. 56. 64. 65. 66.]\n",
      " [45. 46. 47. 55. 56. 57. 65. 66. 67.]\n",
      " [46. 47. 48. 56. 57. 58. 66. 67. 68.]]\n"
     ]
    }
   ],
   "source": [
    "img = np.array([[m]])\n",
    "print(img.shape)\n",
    "col = im2col(img, filter_size_x, filter_size_y, stride, pad)\n",
    "print(col)"
   ]
  },
  {
   "cell_type": "markdown",
   "metadata": {},
   "source": [
    "参考URL1の説明に合ったように、フィルターの範囲の要素を並べて各行としていき、col展開する（参考URLの用語を流用)。\n",
    "col2imも同様。ただし、こちらはimage表現に直した際に各ピクセルの値を加算していく所が特色的。"
   ]
  },
  {
   "cell_type": "code",
   "execution_count": 7,
   "metadata": {},
   "outputs": [
    {
     "name": "stdout",
     "output_type": "stream",
     "text": [
      "(1, 1, 6, 8)\n",
      "(1, 1, 6, 8)\n",
      "[[[[ 11.  24.  39.  42.  45.  48.  34.  18.]\n",
      "   [ 42.  88. 138. 144. 150. 156. 108.  56.]\n",
      "   [ 93. 192. 297. 306. 315. 324. 222. 114.]\n",
      "   [123. 252. 387. 396. 405. 414. 282. 144.]\n",
      "   [102. 208. 318. 324. 330. 336. 228. 116.]\n",
      "   [ 61. 124. 189. 192. 195. 198. 134.  68.]]]]\n"
     ]
    }
   ],
   "source": [
    "print(img.shape)\n",
    "\n",
    "img_ret = col2im(col, img.shape, filter_size_x, filter_size_y, stride, pad)\n",
    "print(img_ret.shape)\n",
    "print(img_ret)"
   ]
  },
  {
   "cell_type": "markdown",
   "metadata": {},
   "source": [
    "# col展開でなぜ畳み込み演算が実現できるか、重みとフィルターの関係性は"
   ]
  },
  {
   "cell_type": "markdown",
   "metadata": {},
   "source": [
    "# 参考URL\n",
    "1. 基本的な理解(im2col/col2imの図解がわかりやすい)　https://qiita.com/t-tkd3a/items/6b17f296d61d14e12953\n",
    "2. 行列積による畳込み(im2colした後の行列サイズやフィルターの解説についてわかりやすい) https://www.youtube.com/watch?v=PWPJVws7l0M"
   ]
  },
  {
   "cell_type": "code",
   "execution_count": null,
   "metadata": {},
   "outputs": [],
   "source": []
  }
 ],
 "metadata": {
  "kernelspec": {
   "display_name": "Python 3",
   "language": "python",
   "name": "python3"
  },
  "language_info": {
   "codemirror_mode": {
    "name": "ipython",
    "version": 3
   },
   "file_extension": ".py",
   "mimetype": "text/x-python",
   "name": "python",
   "nbconvert_exporter": "python",
   "pygments_lexer": "ipython3",
   "version": "3.8.5"
  }
 },
 "nbformat": 4,
 "nbformat_minor": 4
}
