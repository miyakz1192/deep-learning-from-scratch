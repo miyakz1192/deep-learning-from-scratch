{
 "cells": [
  {
   "cell_type": "markdown",
   "metadata": {},
   "source": [
    "# Convolutionクラスのforwardメソッドの理解(im2colを含む)\n",
    "掲題の件について、テキストの実装を参考に自分自身でサンプルコードを作り追体験をすることで、畳込み演算について理解を深める。自分の実力的にここは難関なので、forward内で行われているim2colとreshapeを中心に調査してみる。\n",
    "1. まずはim2colを動作させてみる\n",
    "2. col展開でなぜ畳み込み演算が実現できるか、重みとフィルターの関係性について調べる"
   ]
  },
  {
   "cell_type": "markdown",
   "metadata": {},
   "source": [
    "## 1. まずはim2colを動作させてみよう"
   ]
  },
  {
   "cell_type": "code",
   "execution_count": 1,
   "metadata": {},
   "outputs": [],
   "source": [
    "# coding: utf-8\n",
    "import sys, os\n",
    "sys.path.append(os.pardir)  # 親ディレクトリのファイルをインポートするための設定\n",
    "import numpy as np\n",
    "import matplotlib.pyplot as plt\n",
    "from common.util import *"
   ]
  },
  {
   "cell_type": "markdown",
   "metadata": {},
   "source": [
    "まずは、サンプル行列を生成する汎用的な関数を用意しておこう。以下のinit_sample_matrixは指定したサイズの行列を生成する。各要素の数字の位には意味がある。\n",
    "\n",
    "1. 千の位：画像番号、または、フィルタ番号\n",
    "2. 百の位：チャネル番号\n",
    "3. 十の位：行番号\n",
    "4. 一の位：列番号\n",
    "\n",
    "なお、1スタートする(プログラミング上の配列は0スタートだが、この関数では1スタートを採用)"
   ]
  },
  {
   "cell_type": "code",
   "execution_count": 2,
   "metadata": {},
   "outputs": [],
   "source": [
    "#サンプル行列の初期化\n",
    "#init_sample_matrixは指定したサイズの行列を生成する。各要素の十の位が行番号を示し、一の位が列番号を示す。\n",
    "def init_sample_matrix(filter_num=0, channel=0, height=6, width = 8):\n",
    "    matrix = []\n",
    "\n",
    "    for row in range(height):\n",
    "        temp_row = []\n",
    "        for col in range(width):\n",
    "            elem = (row+1)*10 + col+1\n",
    "            elem += channel * 100\n",
    "            elem += filter_num * 1000\n",
    "            temp_row.append(elem)\n",
    "        matrix.append(temp_row)\n",
    "\n",
    "    return np.array(matrix)"
   ]
  },
  {
   "cell_type": "code",
   "execution_count": 3,
   "metadata": {},
   "outputs": [
    {
     "name": "stdout",
     "output_type": "stream",
     "text": [
      "[[11 12 13 14 15 16 17 18]\n",
      " [21 22 23 24 25 26 27 28]\n",
      " [31 32 33 34 35 36 37 38]\n",
      " [41 42 43 44 45 46 47 48]\n",
      " [51 52 53 54 55 56 57 58]\n",
      " [61 62 63 64 65 66 67 68]]\n"
     ]
    }
   ],
   "source": [
    "m = init_sample_matrix()\n",
    "print(m)"
   ]
  },
  {
   "cell_type": "markdown",
   "metadata": {},
   "source": [
    "次に以下のパラメータにて、im2colを動作させてみよう。"
   ]
  },
  {
   "cell_type": "code",
   "execution_count": 4,
   "metadata": {},
   "outputs": [],
   "source": [
    "filter_size_x = 3\n",
    "filter_size_y = 3\n",
    "stride        = 1\n",
    "pad           = 0"
   ]
  },
  {
   "cell_type": "code",
   "execution_count": 5,
   "metadata": {},
   "outputs": [
    {
     "name": "stdout",
     "output_type": "stream",
     "text": [
      "(1, 1, 6, 8)\n",
      "[[11. 12. 13. 21. 22. 23. 31. 32. 33.]\n",
      " [12. 13. 14. 22. 23. 24. 32. 33. 34.]\n",
      " [13. 14. 15. 23. 24. 25. 33. 34. 35.]\n",
      " [14. 15. 16. 24. 25. 26. 34. 35. 36.]\n",
      " [15. 16. 17. 25. 26. 27. 35. 36. 37.]\n",
      " [16. 17. 18. 26. 27. 28. 36. 37. 38.]\n",
      " [21. 22. 23. 31. 32. 33. 41. 42. 43.]\n",
      " [22. 23. 24. 32. 33. 34. 42. 43. 44.]\n",
      " [23. 24. 25. 33. 34. 35. 43. 44. 45.]\n",
      " [24. 25. 26. 34. 35. 36. 44. 45. 46.]\n",
      " [25. 26. 27. 35. 36. 37. 45. 46. 47.]\n",
      " [26. 27. 28. 36. 37. 38. 46. 47. 48.]\n",
      " [31. 32. 33. 41. 42. 43. 51. 52. 53.]\n",
      " [32. 33. 34. 42. 43. 44. 52. 53. 54.]\n",
      " [33. 34. 35. 43. 44. 45. 53. 54. 55.]\n",
      " [34. 35. 36. 44. 45. 46. 54. 55. 56.]\n",
      " [35. 36. 37. 45. 46. 47. 55. 56. 57.]\n",
      " [36. 37. 38. 46. 47. 48. 56. 57. 58.]\n",
      " [41. 42. 43. 51. 52. 53. 61. 62. 63.]\n",
      " [42. 43. 44. 52. 53. 54. 62. 63. 64.]\n",
      " [43. 44. 45. 53. 54. 55. 63. 64. 65.]\n",
      " [44. 45. 46. 54. 55. 56. 64. 65. 66.]\n",
      " [45. 46. 47. 55. 56. 57. 65. 66. 67.]\n",
      " [46. 47. 48. 56. 57. 58. 66. 67. 68.]]\n"
     ]
    }
   ],
   "source": [
    "img = np.array([[m]])\n",
    "print(img.shape)\n",
    "col = im2col(img, filter_size_x, filter_size_y, stride, pad)\n",
    "print(col)"
   ]
  },
  {
   "cell_type": "markdown",
   "metadata": {},
   "source": [
    "参考URL1の記事で説明されているように、畳み込みのフィルターの範囲の要素を並べて各行(行ベクトル)としていき、それぞstride幅ずつストライドしていき、col展開する（参考URLの用語を流用)（なお、col2imも同様どのこと。ただし、こちらはimage表現に直した際に各ピクセルの値を加算していく所が特色的。)\n",
    "例を用いて少し詳しく補足する。まず、上記のinit_sample_matrixで生成した行列mは以下の内容だった。"
   ]
  },
  {
   "cell_type": "code",
   "execution_count": 6,
   "metadata": {},
   "outputs": [],
   "source": [
    "#[[11 12 13 14 15 16 17 18]\n",
    "# [21 22 23 24 25 26 27 28]\n",
    "# [31 32 33 34 35 36 37 38]\n",
    "# [41 42 43 44 45 46 47 48]\n",
    "# [51 52 53 54 55 56 57 58]\n",
    "# [61 62 63 64 65 66 67 68]]"
   ]
  },
  {
   "cell_type": "markdown",
   "metadata": {},
   "source": [
    "フィルタサイズは3×3のため最初の畳み込み演算の範囲（一部）は以下になる。"
   ]
  },
  {
   "cell_type": "code",
   "execution_count": 7,
   "metadata": {},
   "outputs": [],
   "source": [
    "#[[11 12 13 ]\n",
    "# [21 22 23 ]\n",
    "# [31 32 33 ]]"
   ]
  },
  {
   "cell_type": "markdown",
   "metadata": {},
   "source": [
    "im2colの出力結果は上記範囲を１つの行ベクトルにまとめたものが並んでいることがわかる。"
   ]
  },
  {
   "cell_type": "code",
   "execution_count": 8,
   "metadata": {},
   "outputs": [],
   "source": [
    "# [11. 12. 13. 21. 22. 23. 31. 32. 33.]"
   ]
  },
  {
   "cell_type": "markdown",
   "metadata": {},
   "source": [
    "あとは同様といった動作である。"
   ]
  },
  {
   "cell_type": "code",
   "execution_count": 9,
   "metadata": {},
   "outputs": [
    {
     "name": "stdout",
     "output_type": "stream",
     "text": [
      "(1, 1, 6, 8)\n",
      "(1, 1, 6, 8)\n",
      "[[[[ 11.  24.  39.  42.  45.  48.  34.  18.]\n",
      "   [ 42.  88. 138. 144. 150. 156. 108.  56.]\n",
      "   [ 93. 192. 297. 306. 315. 324. 222. 114.]\n",
      "   [123. 252. 387. 396. 405. 414. 282. 144.]\n",
      "   [102. 208. 318. 324. 330. 336. 228. 116.]\n",
      "   [ 61. 124. 189. 192. 195. 198. 134.  68.]]]]\n"
     ]
    }
   ],
   "source": [
    "#※読み飛ばしても構わない\n",
    "#参考：col2imを試しに少し動作してみる。詳しい解析、解説記事は別途作成する。\n",
    "print(img.shape)\n",
    "\n",
    "img_ret = col2im(col, img.shape, filter_size_x, filter_size_y, stride, pad)\n",
    "print(img_ret.shape)\n",
    "print(img_ret)"
   ]
  },
  {
   "cell_type": "markdown",
   "metadata": {},
   "source": [
    "## 2. col展開でなぜ畳み込み演算が実現できるか、重みとフィルターの関係性について調べる\n",
    "入力行列をim2colを実施してcol展開すると、畳込み演算が行列の積で済むということだが、正直ピンと来ない。そこで、もう少し詳しく解析をすすめるため、テキストのConvolutionクラスを参考にしてみる。この辺は数式がテキストで紹介されていないため、コードを直接解析して理解をすすめる必要がある。\n",
    "### 重み込演算コードの観察(common/layers.pyより)"
   ]
  },
  {
   "cell_type": "code",
   "execution_count": 10,
   "metadata": {},
   "outputs": [],
   "source": [
    "#common/layers.pyより関係する所のみを抜粋\n",
    "class Convolution:\n",
    "    #(中略)\n",
    "    def forward(self, x):\n",
    "        FN, C, FH, FW = self.W.shape\n",
    "        N, C, H, W = x.shape\n",
    "        out_h = 1 + int((H + 2*self.pad - FH) / self.stride)\n",
    "        out_w = 1 + int((W + 2*self.pad - FW) / self.stride)\n",
    "\n",
    "        col = im2col(x, FH, FW, self.stride, self.pad)\n",
    "        col_W = self.W.reshape(FN, -1).T\n",
    "\n",
    "        out = np.dot(col, col_W) + self.b\n",
    "        out = out.reshape(N, out_h, out_w, -1).transpose(0, 3, 1, 2)\n",
    "\n",
    "        self.x = x\n",
    "        self.col = col\n",
    "        self.col_W = col_W\n",
    "\n",
    "        return out\n"
   ]
  },
  {
   "cell_type": "markdown",
   "metadata": {},
   "source": [
    "入力行列xをim2colでcol展開した後、加工したW(col_W)と行列colで行列積(col * colW)をとっている。\n",
    "上記col展開の具体的な観察を踏まえ、なぜ、colとcol_W(すなわちcol_W = self.W.reshape(FN, -1).T)の行列積を取るコトが、畳み込み演算に繋がるのかを考察する。im2colで実施している内容はすでにわかったため、self.W.reshape(FN, -1).Tについて解析をすすめる。"
   ]
  },
  {
   "cell_type": "markdown",
   "metadata": {},
   "source": [
    "### \"self.W.reshape(FN, -1).T\"って何やっているのか？ステップバイステップで動作を追う"
   ]
  },
  {
   "cell_type": "markdown",
   "metadata": {},
   "source": [
    "字面上は重みWをreshapeで変形したものの転置をとっている。テキストP217を見ると、入力データ、フィルター（重み）、出力データはそれぞれ以下の次元だった。\n",
    "\n",
    "1. 入力データ：(C,H,W)。Cはチャンネル数、Hは高さ、Wは幅\n",
    "2. フィルター：(FN,C,FH,FW)。FNはフィルターの数、Cはチャンネル数(入力のチャンネル数と同一値）、FH、FWはそれぞれフィルターの高さと幅\n",
    "3. 出力データ：(FN,OH,OW)。FNはフィルターの数、OH、OWはそれぞれ、出力データの高さと幅。\n",
    "\n",
    "ここで、W(フィルータ)は(FN,C,FH,FW)の4次元配列になっている。また、この時、Wに対してreshape(FN, -1)を施すとどうなるのか？\n",
    "実際にサンプルコードを作りながら試していく。まずは、xとWを適当に用意してみよう。なお、思考を簡略化するために、まずは、paddingが0、strideが1の場合で単純に考えてみる。\n",
    "なお、テキストで用意されているSimpleConvNetおよび、im2colは入力データが4次元(N,C,H,W)になることを前提としているため、今から作るコードもそれに合わせたデータ構造とする。なお、load_mnistではこの辺のクラスの仕様との整合性をflatten引数によって、挙動を調整している。参考までに動作を乗せておく。"
   ]
  },
  {
   "cell_type": "markdown",
   "metadata": {},
   "source": [
    "### 参考動作(load_mnistのflatten引数)：※読み飛ばしても構わない"
   ]
  },
  {
   "cell_type": "code",
   "execution_count": 11,
   "metadata": {},
   "outputs": [
    {
     "name": "stdout",
     "output_type": "stream",
     "text": [
      "(60000, 1, 28, 28)\n",
      "(1, 28, 28)\n",
      "(60000, 784)\n",
      "(784,)\n"
     ]
    }
   ],
   "source": [
    "# coding: utf-8\n",
    "import sys, os\n",
    "sys.path.append(os.pardir)  # 親ディレクトリのファイルをインポートするための設定\n",
    "import numpy as np\n",
    "import matplotlib.pyplot as plt\n",
    "from dataset.mnist import load_mnist\n",
    "from simple_convnet import SimpleConvNet\n",
    "from common.trainer import Trainer\n",
    "\n",
    "# データの読み込み(flatten=Falseであって、SimpleConvNet用途の場合)\n",
    "(x_train, t_train), (x_test, t_test) = load_mnist(flatten=False)\n",
    "\n",
    "print(x_train.shape)\n",
    "print(x_train[0].shape)\n",
    "\n",
    "# データの読み込み(flatten=Trueであって、その他用途の場合)\n",
    "(x_train, t_train), (x_test, t_test) = load_mnist(flatten=True)\n",
    "\n",
    "print(x_train.shape)\n",
    "print(x_train[0].shape)"
   ]
  },
  {
   "cell_type": "markdown",
   "metadata": {},
   "source": [
    "### サンプルの全体的なパラメータ\n",
    "今後のために定めておく\n",
    "1. パディング、ストライド(pad,stride)\n",
    "2. 入力画像の高さ、幅、および、チャネル数。画像の枚数　※理解/説明の便宜上、ここでデータは画像を想定するが、もちろん、データは画像かどうかは問わない。\n",
    "3. フィルタの高さ、幅\n",
    "4. フィルタの枚数(=画像の枚数)\n",
    "5. 出力データ（画像）の高さと幅（1.~4.から自動的に計算される。）"
   ]
  },
  {
   "cell_type": "code",
   "execution_count": 12,
   "metadata": {},
   "outputs": [
    {
     "name": "stdout",
     "output_type": "stream",
     "text": [
      "出力画像の高さ=2 と 幅=3\n"
     ]
    }
   ],
   "source": [
    "#1. パディング、ストライド(pad,stride)\n",
    "pad    = 0\n",
    "stride = 1\n",
    "#2. 入力画像の高さ、幅、および、チャネル数。画像の枚数\n",
    "H  = 4\n",
    "W  = 5\n",
    "C  = 1 #上記参考にも合ったが、mnistはチャンネル数1のようなので、このサンプルテストもそれに合わせる\n",
    "N  = 2 #入力画像の枚数\n",
    "#3. フィルタの高さ、幅\n",
    "FH = 3\n",
    "FW = 3\n",
    "#4. フィルタの枚数(=画像の枚数)\n",
    "FN = 2 #フィルタの枚数\n",
    "# 5. 出力データ（画像）の高さと幅（1.~4.から自動的に計算される。）\n",
    "out_h = 1 + int((H + 2*pad - FH) / stride)\n",
    "out_w = 1 + int((W + 2*pad - FW) / stride)\n",
    "\n",
    "print(\"出力画像の高さ=%d と 幅=%d\" % (out_h ,out_w))"
   ]
  },
  {
   "cell_type": "markdown",
   "metadata": {},
   "source": [
    "### 入力データ(x)と重み(W)を用意する"
   ]
  },
  {
   "cell_type": "code",
   "execution_count": 13,
   "metadata": {},
   "outputs": [
    {
     "name": "stdout",
     "output_type": "stream",
     "text": [
      "=== preparing of x===\n",
      "(2, 1, 4, 5)\n",
      "[[[[1111 1112 1113 1114 1115]\n",
      "   [1121 1122 1123 1124 1125]\n",
      "   [1131 1132 1133 1134 1135]\n",
      "   [1141 1142 1143 1144 1145]]]\n",
      "\n",
      "\n",
      " [[[2111 2112 2113 2114 2115]\n",
      "   [2121 2122 2123 2124 2125]\n",
      "   [2131 2132 2133 2134 2135]\n",
      "   [2141 2142 2143 2144 2145]]]]\n",
      "=== preparing of W===\n",
      "(2, 1, 3, 3)\n",
      "[[[[3111 3112 3113]\n",
      "   [3121 3122 3123]\n",
      "   [3131 3132 3133]]]\n",
      "\n",
      "\n",
      " [[[4111 4112 4113]\n",
      "   [4121 4122 4123]\n",
      "   [4131 4132 4133]]]]\n"
     ]
    }
   ],
   "source": [
    "#xの用意(mnistはチャンネル数1のようなので、このテストもそれに合わせる)\n",
    "print(\"=== preparing of x===\")\n",
    "x1 = init_sample_matrix(filter_num = 1, channel=C, height=H, width=W) #filter番号(=画像番号)を識別する数値を与える(1,2~)\n",
    "x2 = init_sample_matrix(filter_num = 2, channel=C, height=H, width=W)\n",
    "x = np.array([[x1],[x2]])\n",
    "print(x.shape)\n",
    "print(x)\n",
    "#Wの用意(mnistはチャンネル数1のようなので、このテストもそれに合わせる)\n",
    "print(\"=== preparing of W===\")\n",
    "\n",
    "w1 = init_sample_matrix(filter_num = 3, channel=C, height=FH, width=FW) #フィルタの枚数が3枚という訳ではないが、入力と重みの数値を区別するためにあえて3に設定\n",
    "w2 = init_sample_matrix(filter_num = 4, channel=C, height=FH, width=FW) #同様の理由で4に設定\n",
    "W = np.array([[w1],[w2]])\n",
    "assert FN == W.shape[0], \"FN ERROR\"\n",
    "print(W.shape)\n",
    "print(W)"
   ]
  },
  {
   "cell_type": "markdown",
   "metadata": {},
   "source": [
    "### 入力xをcol展開する(変数colに結果を格納)"
   ]
  },
  {
   "cell_type": "code",
   "execution_count": 14,
   "metadata": {},
   "outputs": [
    {
     "name": "stdout",
     "output_type": "stream",
     "text": [
      "入力xのcol展開　★1\n",
      "(2, 1, 4, 5)\n",
      "(12, 9)\n",
      "[[1111. 1112. 1113. 1121. 1122. 1123. 1131. 1132. 1133.]\n",
      " [1112. 1113. 1114. 1122. 1123. 1124. 1132. 1133. 1134.]\n",
      " [1113. 1114. 1115. 1123. 1124. 1125. 1133. 1134. 1135.]\n",
      " [1121. 1122. 1123. 1131. 1132. 1133. 1141. 1142. 1143.]\n",
      " [1122. 1123. 1124. 1132. 1133. 1134. 1142. 1143. 1144.]\n",
      " [1123. 1124. 1125. 1133. 1134. 1135. 1143. 1144. 1145.]\n",
      " [2111. 2112. 2113. 2121. 2122. 2123. 2131. 2132. 2133.]\n",
      " [2112. 2113. 2114. 2122. 2123. 2124. 2132. 2133. 2134.]\n",
      " [2113. 2114. 2115. 2123. 2124. 2125. 2133. 2134. 2135.]\n",
      " [2121. 2122. 2123. 2131. 2132. 2133. 2141. 2142. 2143.]\n",
      " [2122. 2123. 2124. 2132. 2133. 2134. 2142. 2143. 2144.]\n",
      " [2123. 2124. 2125. 2133. 2134. 2135. 2143. 2144. 2145.]]\n"
     ]
    }
   ],
   "source": [
    "#入力xをcol展開する\n",
    "print(\"入力xのcol展開　★1\")\n",
    "print(x.shape)\n",
    "col = im2col(x, FW, FH, stride, pad)\n",
    "print(col.shape)\n",
    "print(col)"
   ]
  },
  {
   "cell_type": "markdown",
   "metadata": {},
   "source": [
    "入力をcol展開した後は12行9列の行列になっている。画像毎に、畳込み演算対象のデータが列ベクトルとして並んでいることがよくわかる。画像の境界なしに、延べたんに展開しているのがポイントか。im2colはある意味単純。それでは、Wのreshapeについてはどうか。"
   ]
  },
  {
   "cell_type": "markdown",
   "metadata": {},
   "source": [
    "### reshape(FN, -1)をかましてみる(変数col_Wに結果を格納)"
   ]
  },
  {
   "cell_type": "code",
   "execution_count": 15,
   "metadata": {},
   "outputs": [
    {
     "name": "stdout",
     "output_type": "stream",
     "text": [
      "FNの値2\n",
      "元のWの値\n",
      "[[[[3111 3112 3113]\n",
      "   [3121 3122 3123]\n",
      "   [3131 3132 3133]]]\n",
      "\n",
      "\n",
      " [[[4111 4112 4113]\n",
      "   [4121 4122 4123]\n",
      "   [4131 4132 4133]]]]\n",
      "reshape(FN,-1)\n",
      "(2, 9)\n",
      "[[3111 3112 3113 3121 3122 3123 3131 3132 3133]\n",
      " [4111 4112 4113 4121 4122 4123 4131 4132 4133]]\n",
      "さらにそれを転置 ★2\n",
      "(9, 2)\n",
      "[[3111 4111]\n",
      " [3112 4112]\n",
      " [3113 4113]\n",
      " [3121 4121]\n",
      " [3122 4122]\n",
      " [3123 4123]\n",
      " [3131 4131]\n",
      " [3132 4132]\n",
      " [3133 4133]]\n",
      "3111\n"
     ]
    }
   ],
   "source": [
    "print(\"FNの値%d\" % (FN))\n",
    "\n",
    "print(\"元のWの値\")\n",
    "print(W)\n",
    "print(\"reshape(FN,-1)\")\n",
    "temp = W.reshape(FN, -1) #最初の次元だけをFNにして、あとは自動設定(-1)\n",
    "print(temp.shape)  #結果として、2行18列の配列になる。\n",
    "print(temp)\n",
    "\n",
    "print(\"さらにそれを転置 ★2\")\n",
    "col_W = temp.T\n",
    "print(col_W.shape)\n",
    "print(col_W)\n",
    "print(col_W[0,0])"
   ]
  },
  {
   "cell_type": "markdown",
   "metadata": {},
   "source": [
    "### ここまでの理解\n",
    "まず、入力xと重みWの畳み込み演算について触れておく。まず、xとWのデータである。"
   ]
  },
  {
   "cell_type": "code",
   "execution_count": 16,
   "metadata": {},
   "outputs": [],
   "source": [
    "#=== preparing of x===\n",
    "#(2, 1, 4, 5)\n",
    "#[[[[1111 1112 1113 1114 1115]\n",
    "#   [1121 1122 1123 1124 1125]\n",
    "#   [1131 1132 1133 1134 1135]\n",
    "#   [1141 1142 1143 1144 1145]]]\n",
    "# \n",
    "# \n",
    "# === preparing of W===\n",
    "#(2, 1, 3, 3)\n",
    "#[[[[3111 3112 3113]\n",
    "#   [3121 3122 3123]\n",
    "#   [3131 3132 3133]]]\n",
    "#\n",
    "#\n",
    "# [[[4111 4112 4113]\n",
    "#   [4121 4122 4123]\n",
    "#   [4131 4132 4133]]]]"
   ]
  },
  {
   "cell_type": "markdown",
   "metadata": {},
   "source": [
    "ここで、xの一部分((1,1)~(3,3)の部分)についてWで畳み込みをしようとすると、畳み込み演算結果は以下になる。\n",
    "$$\n",
    "    \\begin{align}\n",
    "    y = 1111 * 3111 + 1112 * 3112 + 1113 * 3113 + \\\\\n",
    "        1121 * 3121 + 1122 * 3122 + 1123 * 3123 + \\\\\n",
    "        1131 * 3131 + 1132 * 3132 + 1133 * 3133   \n",
    "    \\end{align}\n",
    "$$\n",
    "なるほど、この結果と★1(col)と★2(col_W)の行列積の結果を見比べると、確かに畳み込み演算が行列積で実現できていることがわかる。\n",
    "ただ、一枚目の画像と２枚目のフィルタについても行列積をとっているのが気になる。これってテキストではこう説明されていたっけ？"
   ]
  },
  {
   "cell_type": "markdown",
   "metadata": {},
   "source": [
    "### 出力画像(データ）の取得処理。最後の軸の入れ替え"
   ]
  },
  {
   "cell_type": "code",
   "execution_count": 17,
   "metadata": {},
   "outputs": [
    {
     "name": "stdout",
     "output_type": "stream",
     "text": [
      ">>> col * col_W\n",
      "(12, 2)\n",
      "[[31526562. 41624562.]\n",
      " [31554660. 41661660.]\n",
      " [31582758. 41698758.]\n",
      " [31807542. 41995542.]\n",
      " [31835640. 42032640.]\n",
      " [31863738. 42069738.]\n",
      " [59624562. 78722562.]\n",
      " [59652660. 78759660.]\n",
      " [59680758. 78796758.]\n",
      " [59905542. 79093542.]\n",
      " [59933640. 79130640.]\n",
      " [59961738. 79167738.]]\n",
      ">>> out.reshape(N, out_h=2, out_w=3,-1)\n",
      "(2, 2, 3, 2)\n",
      "[[[[31526562. 41624562.]\n",
      "   [31554660. 41661660.]\n",
      "   [31582758. 41698758.]]\n",
      "\n",
      "  [[31807542. 41995542.]\n",
      "   [31835640. 42032640.]\n",
      "   [31863738. 42069738.]]]\n",
      "\n",
      "\n",
      " [[[59624562. 78722562.]\n",
      "   [59652660. 78759660.]\n",
      "   [59680758. 78796758.]]\n",
      "\n",
      "  [[59905542. 79093542.]\n",
      "   [59933640. 79130640.]\n",
      "   [59961738. 79167738.]]]]\n",
      ">>> out.transpose(0,3,1,2)\n",
      "(2, 2, 2, 3)\n",
      "[[[[31526562. 31554660. 31582758.]\n",
      "   [31807542. 31835640. 31863738.]]\n",
      "\n",
      "  [[41624562. 41661660. 41698758.]\n",
      "   [41995542. 42032640. 42069738.]]]\n",
      "\n",
      "\n",
      " [[[59624562. 59652660. 59680758.]\n",
      "   [59905542. 59933640. 59961738.]]\n",
      "\n",
      "  [[78722562. 78759660. 78796758.]\n",
      "   [79093542. 79130640. 79167738.]]]]\n"
     ]
    }
   ],
   "source": [
    "out = np.dot(col, col_W) # この辺の処理の理解のためには、バイアスはあえて省いても良いかと思われ\n",
    "print(\">>> col * col_W\")\n",
    "print(out.shape)\n",
    "print(out)\n",
    "out = out.reshape(N, out_h, out_w, -1)\n",
    "print(\">>> out.reshape(N, out_h=%d, out_w=%d,-1)\"%(out_h, out_w))\n",
    "print(out.shape)\n",
    "print(out)\n",
    "out = out.transpose(0, 3, 1, 2)\n",
    "print(\">>> out.transpose(0,3,1,2)\")\n",
    "print(out.shape)\n",
    "print(out)\n",
    "#このtransposeはもともとの軸(N,H,W,C)を(N,C,H,W)となるように変更する\n",
    "#      もとものindex->       0 1 2 3 => 0 3 1 2"
   ]
  },
  {
   "cell_type": "markdown",
   "metadata": {},
   "source": [
    "## 終わりに\n",
    "ここまでで、Convolutionクラスのforwardが何をやっているのかについて、概要レベルで学ぶことができた。\n",
    "だが、transposeする前の演算でなぜ軸が(N,H,W,C)に変わったのかが良くわからない。また、backwardについても理解するべきだろうが、Convolutionレイヤの微分については見た感じ情報量が少ない感じで（まともに探していないだけ）、理解が出来ない。こういった状態であるが、あえて深追いはしないでおく。この辺は原論文を見ればわかるのだろうか。\n",
    "画像認識関連、機械学習エンジニアのプロになるのであれば、より深い学習が必要だと思われるので、TODOリストに乗せて、必要性があれば追加学習していくとする。"
   ]
  },
  {
   "cell_type": "markdown",
   "metadata": {},
   "source": [
    "# 参考URL\n",
    "1. 基本的な理解(im2col/col2imの図解がわかりやすい)　https://qiita.com/t-tkd3a/items/6b17f296d61d14e12953\n",
    "2. 行列積による畳込み(im2colした後の行列サイズやフィルターの解説についてわかりやすい) https://www.youtube.com/watch?v=PWPJVws7l0M"
   ]
  },
  {
   "cell_type": "code",
   "execution_count": null,
   "metadata": {},
   "outputs": [],
   "source": []
  }
 ],
 "metadata": {
  "kernelspec": {
   "display_name": "Python 3",
   "language": "python",
   "name": "python3"
  },
  "language_info": {
   "codemirror_mode": {
    "name": "ipython",
    "version": 3
   },
   "file_extension": ".py",
   "mimetype": "text/x-python",
   "name": "python",
   "nbconvert_exporter": "python",
   "pygments_lexer": "ipython3",
   "version": "3.8.5"
  }
 },
 "nbformat": 4,
 "nbformat_minor": 4
}
