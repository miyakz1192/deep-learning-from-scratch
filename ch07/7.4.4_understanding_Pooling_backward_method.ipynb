{
 "cells": [
  {
   "cell_type": "markdown",
   "metadata": {},
   "source": [
    "# 1.Poolingレイヤのbackwardの理解 "
   ]
  },
  {
   "cell_type": "markdown",
   "metadata": {},
   "source": [
    "##  1-1. 実装コードを観察する\n",
    "Poolingクラスの行数は多くないので、全体をのせる。"
   ]
  },
  {
   "cell_type": "code",
   "execution_count": 1,
   "metadata": {},
   "outputs": [],
   "source": [
    "# coding: utf-8\n",
    "import sys, os\n",
    "sys.path.append(os.pardir)  # 親ディレクトリのファイルをインポートするための設定\n",
    "import numpy as np\n",
    "import matplotlib.pyplot as plt\n",
    "from common.util import *\n",
    "\n",
    "#from common/layers.py\n",
    "class Pooling:\n",
    "    def __init__(self, pool_h, pool_w, stride=2, pad=0):\n",
    "        self.pool_h = pool_h\n",
    "        self.pool_w = pool_w\n",
    "        self.stride = stride\n",
    "        self.pad = pad\n",
    "        \n",
    "        self.x = None\n",
    "        self.arg_max = None\n",
    "\n",
    "    def forward(self, x):\n",
    "        N, C, H, W = x.shape\n",
    "        out_h = int(1 + (H - self.pool_h) / self.stride)\n",
    "        out_w = int(1 + (W - self.pool_w) / self.stride)\n",
    "\n",
    "        col = im2col(x, self.pool_h, self.pool_w, self.stride, self.pad)\n",
    "        col = col.reshape(-1, self.pool_h*self.pool_w)\n",
    "\n",
    "        arg_max = np.argmax(col, axis=1)\n",
    "        out = np.max(col, axis=1)\n",
    "        out = out.reshape(N, out_h, out_w, C).transpose(0, 3, 1, 2)\n",
    "\n",
    "        self.x = x\n",
    "        self.arg_max = arg_max\n",
    "\n",
    "        return out\n",
    "\n",
    "    def backward(self, dout):\n",
    "        dout = dout.transpose(0, 2, 3, 1)\n",
    "        \n",
    "        pool_size = self.pool_h * self.pool_w\n",
    "        dmax = np.zeros((dout.size, pool_size))\n",
    "        dmax[np.arange(self.arg_max.size), self.arg_max.flatten()] = dout.flatten()\n",
    "        dmax = dmax.reshape(dout.shape + (pool_size,)) \n",
    "        \n",
    "        dcol = dmax.reshape(dmax.shape[0] * dmax.shape[1] * dmax.shape[2], -1)\n",
    "        dx = col2im(dcol, self.x.shape, self.pool_h, self.pool_w, self.stride, self.pad)\n",
    "        \n",
    "        return dx\n"
   ]
  },
  {
   "cell_type": "markdown",
   "metadata": {},
   "source": [
    "## 1-2. backwardでは何をやっているのか？概要をざっくりと理解する"
   ]
  },
  {
   "cell_type": "markdown",
   "metadata": {},
   "source": [
    "(im2colを一度理解してしまえば、）概念理解的にはそれほど難解なことをやっていないようである。\n",
    "テキストのＰ２２８〜Ｐ２２９の解説にあるとおり、以下になる。\n",
    "1. 次層からの逆伝搬の入力(dout)のサイズ×プールサイズ(pool_h*pool_w)の要素が0の行列を生成する\n",
    "2. っっｘ\n",
    "3. っっｘ\n",
    "\n",
    "それでは、backwardの動作をサンプルを作りながらステップバイステップで確認していく。"
   ]
  },
  {
   "cell_type": "markdown",
   "metadata": {},
   "source": [
    "## 1-3. 全体をサンプル作って試していく"
   ]
  },
  {
   "cell_type": "code",
   "execution_count": 2,
   "metadata": {},
   "outputs": [],
   "source": [
    "from my_common.util import init_sample_matrix"
   ]
  },
  {
   "cell_type": "markdown",
   "metadata": {},
   "source": [
    "### 複数画像枚、複数チャンネルの場合\n",
    "単純のため、strideを2、padを0に設定する(ch07/simple_convnet.pyの実装を見ると、strideは2で、padは0である)"
   ]
  },
  {
   "cell_type": "code",
   "execution_count": 3,
   "metadata": {},
   "outputs": [
    {
     "name": "stdout",
     "output_type": "stream",
     "text": [
      "出力画像の高さ=2 と 幅=2\n",
      "=== preparing of x===\n",
      "(2, 2, 4, 5)\n",
      "[[[[1111 1112 1113 1114 1115]\n",
      "   [1121 1122 1123 1124 1125]\n",
      "   [1131 1132 1133 1134 1135]\n",
      "   [1141 1142 1143 1144 1145]]\n",
      "\n",
      "  [[1211 1212 1213 1214 1215]\n",
      "   [1221 1222 1223 1224 1225]\n",
      "   [1231 1232 1233 1234 1235]\n",
      "   [1241 1242 1243 1244 1245]]]\n",
      "\n",
      "\n",
      " [[[2111 2112 2113 2114 2115]\n",
      "   [2121 2122 2123 2124 2125]\n",
      "   [2131 2132 2133 2134 2135]\n",
      "   [2141 2142 2143 2144 2145]]\n",
      "\n",
      "  [[2211 2212 2213 2214 2215]\n",
      "   [2221 2222 2223 2224 2225]\n",
      "   [2231 2232 2233 2234 2235]\n",
      "   [2241 2242 2243 2244 2245]]]]\n"
     ]
    }
   ],
   "source": [
    "#入力画像の高さ、幅、および、チャネル数。画像の枚数\n",
    "H  = 4 \n",
    "W  = 5 \n",
    "C  = 2 \n",
    "N  = 2 #入力画像の枚数\n",
    "\n",
    "#poolingレイヤの基本パラメータ\n",
    "pool_h = 2\n",
    "pool_w = 2\n",
    "stride = 2\n",
    "pad    = 0\n",
    "\n",
    "#出力データ（画像）の高さと幅（自動的に計算される。）\n",
    "out_h = int(1 + (H - pool_h) / stride)\n",
    "out_w = int(1 + (W - pool_w) / stride)\n",
    "\n",
    "print(\"出力画像の高さ=%d と 幅=%d\" % (out_h ,out_w))\n",
    "\n",
    "#xの用意\n",
    "print(\"=== preparing of x===\")\n",
    "x11 = init_sample_matrix(filter_num = 1, channel=1, height=H, width=W) #filter番号(=画像番号)を識別する数値を与える(1,2~)\n",
    "x12 = init_sample_matrix(filter_num = 1, channel=2, height=H, width=W)\n",
    "x21 = init_sample_matrix(filter_num = 2, channel=1, height=H, width=W) #filter番号(=画像番号)を識別する数値を与える(1,2~)\n",
    "x22 = init_sample_matrix(filter_num = 2, channel=2, height=H, width=W)\n",
    "x = np.array([[x11,x12],[x21,x22]])\n",
    "print(x.shape)\n",
    "print(x)"
   ]
  },
  {
   "cell_type": "markdown",
   "metadata": {},
   "source": [
    "### backwardの処理をまずは実行してみる"
   ]
  },
  {
   "cell_type": "code",
   "execution_count": 4,
   "metadata": {},
   "outputs": [
    {
     "name": "stdout",
     "output_type": "stream",
     "text": [
      "[[[[1122. 1124.]\n",
      "   [1142. 1144.]]\n",
      "\n",
      "  [[1222. 1224.]\n",
      "   [1242. 1244.]]]\n",
      "\n",
      "\n",
      " [[[2122. 2124.]\n",
      "   [2142. 2144.]]\n",
      "\n",
      "  [[2222. 2224.]\n",
      "   [2242. 2244.]]]]\n"
     ]
    }
   ],
   "source": [
    "#まず、Poolingクラスを生成してforwardさせ、backwardの準備をさせる\n",
    "pool = Pooling(pool_h, pool_w)\n",
    "out = pool.forward(x)\n",
    "print(out)"
   ]
  },
  {
   "cell_type": "markdown",
   "metadata": {},
   "source": [
    "ここまでは、7.4.4_understanding_Pooling_forward_methodの\"## 1-4. [参考]  複数画像枚、複数チャンネルの場合\"の出力結果と同じになっている。ＯＫだね。pooling層の出力結果としてpoolのウインドウでフィルターした最大の要素が並んでいることもわかる。これをbackwardしたら一体どうなるのか？出力結果から先に見てみよう。"
   ]
  },
  {
   "cell_type": "code",
   "execution_count": 5,
   "metadata": {},
   "outputs": [
    {
     "name": "stdout",
     "output_type": "stream",
     "text": [
      "[[[[   0.    0.    0.    0.    0.]\n",
      "   [   0. 1122.    0. 1124.    0.]\n",
      "   [   0.    0.    0.    0.    0.]\n",
      "   [   0. 1142.    0. 1144.    0.]]\n",
      "\n",
      "  [[   0.    0.    0.    0.    0.]\n",
      "   [   0. 1222.    0. 1224.    0.]\n",
      "   [   0.    0.    0.    0.    0.]\n",
      "   [   0. 1242.    0. 1244.    0.]]]\n",
      "\n",
      "\n",
      " [[[   0.    0.    0.    0.    0.]\n",
      "   [   0. 2122.    0. 2124.    0.]\n",
      "   [   0.    0.    0.    0.    0.]\n",
      "   [   0. 2142.    0. 2144.    0.]]\n",
      "\n",
      "  [[   0.    0.    0.    0.    0.]\n",
      "   [   0. 2222.    0. 2224.    0.]\n",
      "   [   0.    0.    0.    0.    0.]\n",
      "   [   0. 2242.    0. 2244.    0.]]]]\n"
     ]
    }
   ],
   "source": [
    "dout = pool.backward(out)\n",
    "print(dout)"
   ]
  },
  {
   "cell_type": "markdown",
   "metadata": {},
   "source": [
    "なんと！forwardの出力結果を要素の１つとする、サイズがpool_h * pool_wの小行列がならび、サイズが入力xとあっている形になっていることがわかる。"
   ]
  },
  {
   "cell_type": "markdown",
   "metadata": {},
   "source": [
    "### backwardの処理をステップ・バイ・ステップで実行してみる"
   ]
  },
  {
   "cell_type": "code",
   "execution_count": 8,
   "metadata": {},
   "outputs": [
    {
     "name": "stdout",
     "output_type": "stream",
     "text": [
      "下準備\n",
      "[[[[1122. 1124.]\n",
      "   [1142. 1144.]]\n",
      "\n",
      "  [[1222. 1224.]\n",
      "   [1242. 1244.]]]\n",
      "\n",
      "\n",
      " [[[2122. 2124.]\n",
      "   [2142. 2144.]]\n",
      "\n",
      "  [[2222. 2224.]\n",
      "   [2242. 2244.]]]]\n",
      "======= forwardの出力結果 =======\n",
      "[[[[1122. 1124.]\n",
      "   [1142. 1144.]]\n",
      "\n",
      "  [[1222. 1224.]\n",
      "   [1242. 1244.]]]\n",
      "\n",
      "\n",
      " [[[2122. 2124.]\n",
      "   [2142. 2144.]]\n",
      "\n",
      "  [[2222. 2224.]\n",
      "   [2242. 2244.]]]]\n"
     ]
    }
   ],
   "source": [
    "#下準備\n",
    "print(\"下準備\")\n",
    "dout = 0\n",
    "pool = Pooling(pool_h, pool_w)\n",
    "out = pool.forward(x)\n",
    "dout = out\n",
    "print(\"======= forwardの出力結果 =======\")\n",
    "print(dout)"
   ]
  },
  {
   "cell_type": "code",
   "execution_count": 12,
   "metadata": {},
   "outputs": [
    {
     "name": "stdout",
     "output_type": "stream",
     "text": [
      "======= transposeをかけるの出力結果 =======\n",
      "doutの軸を以下のように変換する\n",
      "　０軸目→０軸（そのまま）\n",
      "　１軸目→３軸\n",
      "　２軸目→１軸\n",
      "　３軸目→２軸\n",
      "・・・つまり、以下のように座標が変わる\n",
      "dout(i,j,k,l)　→　dout_t(i,k,l,j)\n",
      "dout(0,1,0,1)<要素1124> →　dout_t(0,0,1,1)<要素1124>\n",
      "[[[[1122. 1222.]\n",
      "   [1124. 1224.]]\n",
      "\n",
      "  [[1142. 1242.]\n",
      "   [1144. 1244.]]]\n",
      "\n",
      "\n",
      " [[[2122. 2222.]\n",
      "   [2124. 2224.]]\n",
      "\n",
      "  [[2142. 2242.]\n",
      "   [2144. 2244.]]]]\n"
     ]
    }
   ],
   "source": [
    "print(\"======= transposeをかけるの出力結果 =======\")\n",
    "print(\"doutの軸を以下のように変換する\")\n",
    "print(\"　０軸目（画像インデックス...n）　　→０軸（そのまま）\")\n",
    "print(\"　１軸目（チャネルインデックス...h）→３軸\") #hはchannelのh。列のcolumnとかぶるのでhを採用\n",
    "print(\"　２軸目（行...r）　　　　　　　　　→１軸\")\n",
    "print(\"　３軸目（列...c）　　　　　　　　　→２軸\")\n",
    "print(\"・・・つまり、以下のように座標が変わる\")\n",
    "print(\"dout(n,h,r,c)　→　dout_t(n,r,c,h)\")\n",
    "print(\"dout(0,0,0,1)<要素1124> →　dout_t(0,0,1,0)<要素1124>\")\n",
    "print(\"dout(0,0,1,0)<要素1142> →　dout_t(0,1,0,0)<要素1142>\")\n",
    "dout = dout.transpose(0, 2, 3, 1)\n",
    "print(dout)"
   ]
  },
  {
   "cell_type": "markdown",
   "metadata": {},
   "source": [
    "画像毎に、チャネル毎に並んでいたものが、画像毎に列の方向にチャネルが並んでいることがわかる。"
   ]
  },
  {
   "cell_type": "code",
   "execution_count": 26,
   "metadata": {},
   "outputs": [
    {
     "name": "stdout",
     "output_type": "stream",
     "text": [
      "==== dmaxの初期化 ====\n",
      "16\n",
      "4\n",
      "(16, 4)\n"
     ]
    }
   ],
   "source": [
    "print(\"==== dmaxの初期化 ====\")\n",
    "pool_size = pool.pool_h * pool.pool_w\n",
    "dmax = np.zeros((dout.size, pool_size))\n",
    "print(dout.size)\n",
    "print(pool_size)\n",
    "print(dmax.shape)"
   ]
  },
  {
   "cell_type": "code",
   "execution_count": 27,
   "metadata": {},
   "outputs": [
    {
     "name": "stdout",
     "output_type": "stream",
     "text": [
      "[[0. 0. 0. 0.]\n",
      " [0. 0. 0. 0.]\n",
      " [0. 0. 0. 0.]\n",
      " [0. 0. 0. 0.]\n",
      " [0. 0. 0. 0.]\n",
      " [0. 0. 0. 0.]\n",
      " [0. 0. 0. 0.]\n",
      " [0. 0. 0. 0.]\n",
      " [0. 0. 0. 0.]\n",
      " [0. 0. 0. 0.]\n",
      " [0. 0. 0. 0.]\n",
      " [0. 0. 0. 0.]\n",
      " [0. 0. 0. 0.]\n",
      " [0. 0. 0. 0.]\n",
      " [0. 0. 0. 0.]\n",
      " [0. 0. 0. 0.]]\n",
      "[ 0  1  2  3  4  5  6  7  8  9 10 11 12 13 14 15]\n",
      "(16,)\n",
      "[3 3 3 3 3 3 3 3 3 3 3 3 3 3 3 3]\n",
      "[3 3 3 3 3 3 3 3 3 3 3 3 3 3 3 3]\n",
      "[[   0.    0.    0. 1122.]\n",
      " [   0.    0.    0. 1222.]\n",
      " [   0.    0.    0. 1124.]\n",
      " [   0.    0.    0. 1224.]\n",
      " [   0.    0.    0. 1142.]\n",
      " [   0.    0.    0. 1242.]\n",
      " [   0.    0.    0. 1144.]\n",
      " [   0.    0.    0. 1244.]\n",
      " [   0.    0.    0. 2122.]\n",
      " [   0.    0.    0. 2222.]\n",
      " [   0.    0.    0. 2124.]\n",
      " [   0.    0.    0. 2224.]\n",
      " [   0.    0.    0. 2142.]\n",
      " [   0.    0.    0. 2242.]\n",
      " [   0.    0.    0. 2144.]\n",
      " [   0.    0.    0. 2244.]]\n"
     ]
    }
   ],
   "source": [
    "print(\"==== dmaxへの値(dout)の代入 ===\")\n",
    "print(dmax)\n",
    "dmax[np.arange(pool.arg_max.size), pool.arg_max.flatten()] = dout.flatten()\n",
    "print(np.arange(pool.arg_max.size)) #pool出力結果の全要素数\n",
    "print(pool.arg_max.shape)\n",
    "print(pool.arg_max)\n",
    "print(pool.arg_max.flatten()) #テンソル対応？\n",
    "print(dmax)\n",
    "print(\"dmaxの各行(0~15)のforward時に最大値を示した要素のインデックス(列)に対して値を代入するのを一気にやっている\")"
   ]
  },
  {
   "cell_type": "code",
   "execution_count": 28,
   "metadata": {},
   "outputs": [
    {
     "name": "stdout",
     "output_type": "stream",
     "text": [
      "(2, 2, 2, 2)\n",
      "4\n",
      "[[[[[   0.    0.    0. 1122.]\n",
      "    [   0.    0.    0. 1222.]]\n",
      "\n",
      "   [[   0.    0.    0. 1124.]\n",
      "    [   0.    0.    0. 1224.]]]\n",
      "\n",
      "\n",
      "  [[[   0.    0.    0. 1142.]\n",
      "    [   0.    0.    0. 1242.]]\n",
      "\n",
      "   [[   0.    0.    0. 1144.]\n",
      "    [   0.    0.    0. 1244.]]]]\n",
      "\n",
      "\n",
      "\n",
      " [[[[   0.    0.    0. 2122.]\n",
      "    [   0.    0.    0. 2222.]]\n",
      "\n",
      "   [[   0.    0.    0. 2124.]\n",
      "    [   0.    0.    0. 2224.]]]\n",
      "\n",
      "\n",
      "  [[[   0.    0.    0. 2142.]\n",
      "    [   0.    0.    0. 2242.]]\n",
      "\n",
      "   [[   0.    0.    0. 2144.]\n",
      "    [   0.    0.    0. 2244.]]]]]\n"
     ]
    }
   ],
   "source": [
    "print(\"dmaxの整形処理1・・・入力xのサイズに整形する処理のはじめのほう\")\n",
    "dmax = dmax.reshape(dout.shape + (pool_size,)) \n",
    "print(dout.shape)\n",
    "print(pool_size)\n",
    "print(dmax)"
   ]
  },
  {
   "cell_type": "code",
   "execution_count": 30,
   "metadata": {},
   "outputs": [
    {
     "name": "stdout",
     "output_type": "stream",
     "text": [
      "(2, 2, 2, 2, 4)\n",
      "2\n",
      "2\n",
      "2\n",
      "8\n",
      "[[   0.    0.    0. 1122.    0.    0.    0. 1222.]\n",
      " [   0.    0.    0. 1124.    0.    0.    0. 1224.]\n",
      " [   0.    0.    0. 1142.    0.    0.    0. 1242.]\n",
      " [   0.    0.    0. 1144.    0.    0.    0. 1244.]\n",
      " [   0.    0.    0. 2122.    0.    0.    0. 2222.]\n",
      " [   0.    0.    0. 2124.    0.    0.    0. 2224.]\n",
      " [   0.    0.    0. 2142.    0.    0.    0. 2242.]\n",
      " [   0.    0.    0. 2144.    0.    0.    0. 2244.]]\n"
     ]
    }
   ],
   "source": [
    "dcol = dmax.reshape(dmax.shape[0] * dmax.shape[1] * dmax.shape[2], -1)\n",
    "print(dmax.shape)\n",
    "print(dmax.shape[0])\n",
    "print(dmax.shape[1])\n",
    "print(dmax.shape[2])\n",
    "print(dmax.shape[0] * dmax.shape[1] * dmax.shape[2])\n",
    "print(dcol)"
   ]
  },
  {
   "cell_type": "code",
   "execution_count": 31,
   "metadata": {},
   "outputs": [
    {
     "name": "stdout",
     "output_type": "stream",
     "text": [
      "[[[[   0.    0.    0.    0.    0.]\n",
      "   [   0. 1122.    0. 1124.    0.]\n",
      "   [   0.    0.    0.    0.    0.]\n",
      "   [   0. 1142.    0. 1144.    0.]]\n",
      "\n",
      "  [[   0.    0.    0.    0.    0.]\n",
      "   [   0. 1222.    0. 1224.    0.]\n",
      "   [   0.    0.    0.    0.    0.]\n",
      "   [   0. 1242.    0. 1244.    0.]]]\n",
      "\n",
      "\n",
      " [[[   0.    0.    0.    0.    0.]\n",
      "   [   0. 2122.    0. 2124.    0.]\n",
      "   [   0.    0.    0.    0.    0.]\n",
      "   [   0. 2142.    0. 2144.    0.]]\n",
      "\n",
      "  [[   0.    0.    0.    0.    0.]\n",
      "   [   0. 2222.    0. 2224.    0.]\n",
      "   [   0.    0.    0.    0.    0.]\n",
      "   [   0. 2242.    0. 2244.    0.]]]]\n"
     ]
    }
   ],
   "source": [
    "dx = col2im(dcol, pool.x.shape, pool.pool_h, pool.pool_w, pool.stride, pool.pad)\n",
    "print(dx)"
   ]
  },
  {
   "cell_type": "markdown",
   "metadata": {},
   "source": [
    "これでpoolingのbackwardの処理が見終わった。"
   ]
  }
 ],
 "metadata": {
  "kernelspec": {
   "display_name": "Python 3",
   "language": "python",
   "name": "python3"
  },
  "language_info": {
   "codemirror_mode": {
    "name": "ipython",
    "version": 3
   },
   "file_extension": ".py",
   "mimetype": "text/x-python",
   "name": "python",
   "nbconvert_exporter": "python",
   "pygments_lexer": "ipython3",
   "version": "3.8.5"
  }
 },
 "nbformat": 4,
 "nbformat_minor": 4
}
