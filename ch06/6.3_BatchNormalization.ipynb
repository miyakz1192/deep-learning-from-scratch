{
 "cells": [
  {
   "cell_type": "markdown",
   "id": "823ad5da",
   "metadata": {},
   "source": [
    "# BatchNormalizationを試してみる。\n",
    "テキストのコピペ＋自分の少しの試し\n",
    "- BatchNormalizationでの正規化を可視化\n",
    "- logのグラフを復習\n",
    "- BatchNormalizationを評価（テキストのコピペ）"
   ]
  },
  {
   "cell_type": "code",
   "execution_count": 1,
   "id": "b80d7154",
   "metadata": {},
   "outputs": [],
   "source": [
    "# coding: utf-8\n",
    "import sys, os\n",
    "sys.path.append(os.pardir)  # 親ディレクトリのファイルをインポートするための設定\n",
    "import numpy as np\n",
    "import matplotlib.pyplot as plt\n",
    "from dataset.mnist import load_mnist\n",
    "from common.multi_layer_net_extend import MultiLayerNetExtend\n",
    "from common.optimizer import SGD, Adam\n",
    "#%matplotlib notebook"
   ]
  },
  {
   "cell_type": "code",
   "execution_count": 2,
   "id": "bee60d0c",
   "metadata": {},
   "outputs": [],
   "source": [
    "#テキストのBatchNormalizationをインポート\n",
    "from common.layers import BatchNormalization"
   ]
  },
  {
   "cell_type": "markdown",
   "id": "f4005398",
   "metadata": {},
   "source": [
    "## ランダムデータをBatchNormalizationしてみる"
   ]
  },
  {
   "cell_type": "code",
   "execution_count": 3,
   "id": "b5b22865",
   "metadata": {
    "scrolled": true
   },
   "outputs": [
    {
     "data": {
      "image/png": "[encoded data removed]",
      "text/plain": [
       "<Figure size 432x288 with 1 Axes>"
      ]
     },
     "metadata": {
      "needs_background": "light"
     },
     "output_type": "display_data"
    },
    {
     "data": {
      "text/plain": [
       "<Figure size 432x288 with 0 Axes>"
      ]
     },
     "metadata": {},
     "output_type": "display_data"
    },
    {
     "data": {
      "image/png": "[encoded data removed]",
      "text/plain": [
       "<Figure size 432x288 with 1 Axes>"
      ]
     },
     "metadata": {
      "needs_background": "light"
     },
     "output_type": "display_data"
    },
    {
     "data": {
      "text/plain": [
       "<Figure size 432x288 with 0 Axes>"
      ]
     },
     "metadata": {},
     "output_type": "display_data"
    }
   ],
   "source": [
    "node_num = 100\n",
    "gamma = np.ones(node_num)\n",
    "beta  = np.zeros(node_num)\n",
    "bn = BatchNormalization(gamma, beta)\n",
    "\n",
    "in_data = np.random.randn(2, 100)\n",
    "#print(x)\n",
    "out_data = bn.forward(in_data)\n",
    "\n",
    "#print(\"=== in data ====\")\n",
    "#print(in_data)\n",
    "#print(\"=== out data ====\")\n",
    "#print(out_data)\n",
    "#y = out_data[0]\n",
    "#print(y.shape[0])\n",
    "#print(range(y.shape[0]))\n",
    "#print(np.arange(y.shape[0]))\n",
    "#print(np.arange(range(y.shape[0])))\n",
    "\n",
    "for y in out_data:\n",
    "    #plt.plot(x,y)\n",
    "    plt.hist(y, 30, range=(-1,1))\n",
    "    plt.figure()\n",
    "    plt.show()\n"
   ]
  },
  {
   "cell_type": "markdown",
   "id": "21984068",
   "metadata": {},
   "source": [
    "ランダムデータだと微妙にばらつきが極端(1と-1にデータが集中）していることがわかる。\n",
    "次に、MNISTデータでBatchNormalizationを見てみる。"
   ]
  },
  {
   "cell_type": "markdown",
   "id": "31954bf3",
   "metadata": {},
   "source": [
    "## MNISTデータをBatchNormalizationしてみる"
   ]
  },
  {
   "cell_type": "code",
   "execution_count": 8,
   "id": "55eb3978",
   "metadata": {},
   "outputs": [
    {
     "data": {
      "image/png": "[encoded data removed]",
      "text/plain": [
       "<Figure size 432x288 with 1 Axes>"
      ]
     },
     "metadata": {
      "needs_background": "light"
     },
     "output_type": "display_data"
    },
    {
     "data": {
      "image/png": "[encoded data removed]",
      "text/plain": [
       "<Figure size 432x288 with 1 Axes>"
      ]
     },
     "metadata": {
      "needs_background": "light"
     },
     "output_type": "display_data"
    },
    {
     "data": {
      "text/plain": [
       "<Figure size 432x288 with 0 Axes>"
      ]
     },
     "metadata": {},
     "output_type": "display_data"
    }
   ],
   "source": [
    "node_num = 784\n",
    "\n",
    "gamma = np.ones(node_num)\n",
    "beta  = np.zeros(node_num)\n",
    "bn = BatchNormalization(gamma, beta)\n",
    "\n",
    "(x_train, t_train), (x_test, t_test) = load_mnist(normalize=True)\n",
    "\n",
    "in_data = x_train[0:2]\n",
    "#print(x)\n",
    "out_data = bn.forward(in_data)\n",
    "\n",
    "#print(\"=== in data ====\")\n",
    "#print(in_data)\n",
    "\n",
    "#print(\"=== out data ====\")\n",
    "#print(out_data)\n",
    "\n",
    "#y = out_data[0]\n",
    "\n",
    "#print(y.shape[0])\n",
    "#print(range(y.shape[0]))\n",
    "#print(np.arange(y.shape[0]))\n",
    "\n",
    "#print(np.arange(range(y.shape[0])))\n",
    "\n",
    "for y in out_data:\n",
    "    #plt.plot(x,y)\n",
    "    plt.hist(y, 30, range=(-1,1))\n",
    "    plt.figure()\n",
    "    \n",
    "plt.show()"
   ]
  },
  {
   "cell_type": "markdown",
   "id": "c60038bd",
   "metadata": {},
   "source": [
    "## logspaceを学んでみる\n",
    "テキストのサンプルプログラムではlogspaceを使ってグラフを描画しているようで、logspaceがよくわからないので実際の動きを試してみる。\n",
    "\n",
    "> numpy.logspace(start, stop, num=50, endpoint=True, base=10.0, dtype=None)[source]\n",
    "\n",
    "> パラメータ\t概要\n",
    "\n",
    "> start\t生成される配列の最初の値。\n",
    "\n",
    "> stop\tf生成される値の最期の値。endpointにFalseが設定されている場合はこの値を含まなくなります。\n",
    "\n",
    "> num\t生成する配列(ndarray)の要素数（デフォルト50で省略可能）\n",
    "\n",
    "> endpoint\tTrueの場合、stopが最後の値となる。Falseの場合、stopの値が配列に含まれない。（デフォルトTrueで省略可能）\n",
    "\n",
    "> base\t基数(底)（デフォルト10.0で省略可能）\n",
    "\n",
    "> dtype\t出力配列の型（デフォルトfloat64で省略可能）\n",
    "\n",
    "\n",
    "以下が、実験で使う重みのスケールのために使っているlogspace。\n",
    "1.00000000e+00〜1.00000000e-04までの16個の数字を使う。"
   ]
  },
  {
   "cell_type": "code",
   "execution_count": 15,
   "id": "aac7a67e",
   "metadata": {
    "scrolled": true
   },
   "outputs": [
    {
     "name": "stdout",
     "output_type": "stream",
     "text": [
      "(16,)\n",
      "16\n",
      "[1.00000000e+00 5.41169527e-01 2.92864456e-01 1.58489319e-01\n",
      " 8.57695899e-02 4.64158883e-02 2.51188643e-02 1.35935639e-02\n",
      " 7.35642254e-03 3.98107171e-03 2.15443469e-03 1.16591440e-03\n",
      " 6.30957344e-04 3.41454887e-04 1.84784980e-04 1.00000000e-04]\n",
      "(16,)\n",
      "[ 0  1  2  3  4  5  6  7  8  9 10 11 12 13 14 15]\n"
     ]
    },
    {
     "data": {
      "image/png": "[encoded data removed]",
      "text/plain": [
       "<Figure size 432x288 with 1 Axes>"
      ]
     },
     "metadata": {
      "needs_background": "light"
     },
     "output_type": "display_data"
    },
    {
     "data": {
      "text/plain": [
       "<Figure size 432x288 with 0 Axes>"
      ]
     },
     "metadata": {},
     "output_type": "display_data"
    }
   ],
   "source": [
    "#y = np.logspace(0, 10, num=16)\n",
    "y = np.logspace(0, -4, num=16)\n",
    "\n",
    "x = np.arange(y.shape[0])\n",
    "\n",
    "print(y.shape)\n",
    "print(len(y))\n",
    "print(y)\n",
    "print(x.shape)\n",
    "print(x)\n",
    "\n",
    "plt.plot(x,y)\n",
    "plt.figure()\n",
    "plt.show()\n"
   ]
  },
  {
   "cell_type": "markdown",
   "id": "a52dab6d",
   "metadata": {},
   "source": [
    "## テキストのサンプルプログラムを動作させてみる"
   ]
  },
  {
   "cell_type": "code",
   "execution_count": 20,
   "id": "b1586dee",
   "metadata": {},
   "outputs": [
    {
     "name": "stdout",
     "output_type": "stream",
     "text": [
      "============== 1/16 ==============\n",
      "epoch:0 | 0.117 - 0.107\n"
     ]
    },
    {
     "name": "stderr",
     "output_type": "stream",
     "text": [
      "../common/multi_layer_net_extend.py:101: RuntimeWarning: overflow encountered in square\n",
      "  weight_decay += 0.5 * self.weight_decay_lambda * np.sum(W**2)\n",
      "../common/multi_layer_net_extend.py:101: RuntimeWarning: invalid value encountered in double_scalars\n",
      "  weight_decay += 0.5 * self.weight_decay_lambda * np.sum(W**2)\n"
     ]
    },
    {
     "name": "stdout",
     "output_type": "stream",
     "text": [
      "epoch:1 | 0.097 - 0.127\n",
      "epoch:2 | 0.097 - 0.144\n",
      "epoch:3 | 0.097 - 0.173\n",
      "epoch:4 | 0.097 - 0.187\n",
      "epoch:5 | 0.097 - 0.207\n",
      "epoch:6 | 0.097 - 0.233\n",
      "epoch:7 | 0.097 - 0.26\n",
      "epoch:8 | 0.097 - 0.276\n",
      "epoch:9 | 0.097 - 0.292\n",
      "epoch:10 | 0.097 - 0.314\n",
      "epoch:11 | 0.097 - 0.32\n",
      "epoch:12 | 0.097 - 0.348\n",
      "epoch:13 | 0.097 - 0.36\n",
      "epoch:14 | 0.097 - 0.378\n",
      "epoch:15 | 0.097 - 0.385\n",
      "epoch:16 | 0.097 - 0.396\n",
      "epoch:17 | 0.097 - 0.402\n",
      "epoch:18 | 0.097 - 0.434\n"
     ]
    },
    {
     "name": "stderr",
     "output_type": "stream",
     "text": [
      "No handles with labels found to put in legend.\n"
     ]
    },
    {
     "name": "stdout",
     "output_type": "stream",
     "text": [
      "epoch:19 | 0.097 - 0.438\n",
      "============== 2/16 ==============\n",
      "epoch:0 | 0.099 - 0.138\n",
      "epoch:1 | 0.097 - 0.104\n",
      "epoch:2 | 0.097 - 0.123\n",
      "epoch:3 | 0.097 - 0.161\n",
      "epoch:4 | 0.097 - 0.184\n",
      "epoch:5 | 0.097 - 0.201\n",
      "epoch:6 | 0.097 - 0.219\n",
      "epoch:7 | 0.097 - 0.237\n",
      "epoch:8 | 0.097 - 0.258\n",
      "epoch:9 | 0.097 - 0.276\n",
      "epoch:10 | 0.097 - 0.305\n",
      "epoch:11 | 0.097 - 0.322\n",
      "epoch:12 | 0.097 - 0.335\n",
      "epoch:13 | 0.097 - 0.354\n",
      "epoch:14 | 0.097 - 0.379\n",
      "epoch:15 | 0.097 - 0.405\n",
      "epoch:16 | 0.097 - 0.427\n",
      "epoch:17 | 0.097 - 0.438\n",
      "epoch:18 | 0.097 - 0.457\n"
     ]
    },
    {
     "name": "stderr",
     "output_type": "stream",
     "text": [
      "No handles with labels found to put in legend.\n"
     ]
    },
    {
     "name": "stdout",
     "output_type": "stream",
     "text": [
      "epoch:19 | 0.097 - 0.47\n",
      "============== 3/16 ==============\n",
      "epoch:0 | 0.147 - 0.12\n",
      "epoch:1 | 0.334 - 0.12\n",
      "epoch:2 | 0.48 - 0.166\n",
      "epoch:3 | 0.581 - 0.213\n",
      "epoch:4 | 0.61 - 0.245\n",
      "epoch:5 | 0.683 - 0.281\n",
      "epoch:6 | 0.735 - 0.313\n",
      "epoch:7 | 0.762 - 0.35\n",
      "epoch:8 | 0.792 - 0.368\n",
      "epoch:9 | 0.828 - 0.403\n",
      "epoch:10 | 0.846 - 0.426\n",
      "epoch:11 | 0.867 - 0.453\n",
      "epoch:12 | 0.878 - 0.482\n",
      "epoch:13 | 0.896 - 0.514\n",
      "epoch:14 | 0.918 - 0.543\n",
      "epoch:15 | 0.921 - 0.557\n",
      "epoch:16 | 0.936 - 0.577\n",
      "epoch:17 | 0.947 - 0.594\n",
      "epoch:18 | 0.95 - 0.614\n"
     ]
    },
    {
     "name": "stderr",
     "output_type": "stream",
     "text": [
      "No handles with labels found to put in legend.\n"
     ]
    },
    {
     "name": "stdout",
     "output_type": "stream",
     "text": [
      "epoch:19 | 0.959 - 0.635\n",
      "============== 4/16 ==============\n",
      "epoch:0 | 0.117 - 0.102\n",
      "epoch:1 | 0.312 - 0.098\n",
      "epoch:2 | 0.442 - 0.169\n",
      "epoch:3 | 0.548 - 0.225\n",
      "epoch:4 | 0.622 - 0.292\n",
      "epoch:5 | 0.673 - 0.355\n",
      "epoch:6 | 0.696 - 0.417\n",
      "epoch:7 | 0.743 - 0.474\n",
      "epoch:8 | 0.768 - 0.51\n",
      "epoch:9 | 0.786 - 0.546\n",
      "epoch:10 | 0.806 - 0.578\n",
      "epoch:11 | 0.808 - 0.616\n",
      "epoch:12 | 0.824 - 0.641\n",
      "epoch:13 | 0.837 - 0.678\n",
      "epoch:14 | 0.844 - 0.699\n",
      "epoch:15 | 0.86 - 0.712\n",
      "epoch:16 | 0.86 - 0.74\n",
      "epoch:17 | 0.874 - 0.743\n",
      "epoch:18 | 0.879 - 0.757\n"
     ]
    },
    {
     "name": "stderr",
     "output_type": "stream",
     "text": [
      "No handles with labels found to put in legend.\n"
     ]
    },
    {
     "name": "stdout",
     "output_type": "stream",
     "text": [
      "epoch:19 | 0.89 - 0.764\n",
      "============== 5/16 ==============\n",
      "epoch:0 | 0.096 - 0.098\n",
      "epoch:1 | 0.097 - 0.14\n",
      "epoch:2 | 0.097 - 0.304\n",
      "epoch:3 | 0.101 - 0.418\n",
      "epoch:4 | 0.109 - 0.502\n",
      "epoch:5 | 0.116 - 0.577\n",
      "epoch:6 | 0.125 - 0.629\n",
      "epoch:7 | 0.152 - 0.674\n",
      "epoch:8 | 0.156 - 0.708\n",
      "epoch:9 | 0.164 - 0.73\n",
      "epoch:10 | 0.175 - 0.744\n",
      "epoch:11 | 0.178 - 0.77\n",
      "epoch:12 | 0.181 - 0.79\n",
      "epoch:13 | 0.184 - 0.809\n",
      "epoch:14 | 0.191 - 0.828\n",
      "epoch:15 | 0.199 - 0.841\n",
      "epoch:16 | 0.201 - 0.857\n",
      "epoch:17 | 0.213 - 0.864\n",
      "epoch:18 | 0.225 - 0.871\n"
     ]
    },
    {
     "name": "stderr",
     "output_type": "stream",
     "text": [
      "No handles with labels found to put in legend.\n"
     ]
    },
    {
     "name": "stdout",
     "output_type": "stream",
     "text": [
      "epoch:19 | 0.223 - 0.873\n",
      "============== 6/16 ==============\n",
      "epoch:0 | 0.118 - 0.093\n",
      "epoch:1 | 0.098 - 0.22\n",
      "epoch:2 | 0.117 - 0.474\n",
      "epoch:3 | 0.117 - 0.654\n",
      "epoch:4 | 0.112 - 0.717\n",
      "epoch:5 | 0.115 - 0.761\n",
      "epoch:6 | 0.115 - 0.797\n",
      "epoch:7 | 0.137 - 0.815\n",
      "epoch:8 | 0.12 - 0.839\n",
      "epoch:9 | 0.119 - 0.85\n",
      "epoch:10 | 0.129 - 0.867\n",
      "epoch:11 | 0.121 - 0.878\n",
      "epoch:12 | 0.117 - 0.888\n",
      "epoch:13 | 0.12 - 0.894\n",
      "epoch:14 | 0.117 - 0.907\n",
      "epoch:15 | 0.116 - 0.91\n",
      "epoch:16 | 0.116 - 0.927\n",
      "epoch:17 | 0.116 - 0.938\n",
      "epoch:18 | 0.116 - 0.943\n"
     ]
    },
    {
     "name": "stderr",
     "output_type": "stream",
     "text": [
      "No handles with labels found to put in legend.\n"
     ]
    },
    {
     "name": "stdout",
     "output_type": "stream",
     "text": [
      "epoch:19 | 0.116 - 0.951\n",
      "============== 7/16 ==============\n",
      "epoch:0 | 0.097 - 0.139\n",
      "epoch:1 | 0.117 - 0.302\n",
      "epoch:2 | 0.117 - 0.563\n",
      "epoch:3 | 0.117 - 0.698\n",
      "epoch:4 | 0.117 - 0.743\n",
      "epoch:5 | 0.117 - 0.768\n",
      "epoch:6 | 0.117 - 0.798\n",
      "epoch:7 | 0.117 - 0.84\n",
      "epoch:8 | 0.117 - 0.87\n",
      "epoch:9 | 0.117 - 0.896\n",
      "epoch:10 | 0.117 - 0.914\n",
      "epoch:11 | 0.117 - 0.942\n",
      "epoch:12 | 0.117 - 0.956\n",
      "epoch:13 | 0.117 - 0.965\n",
      "epoch:14 | 0.117 - 0.972\n",
      "epoch:15 | 0.117 - 0.976\n",
      "epoch:16 | 0.117 - 0.981\n",
      "epoch:17 | 0.117 - 0.984\n",
      "epoch:18 | 0.117 - 0.984\n"
     ]
    },
    {
     "name": "stderr",
     "output_type": "stream",
     "text": [
      "No handles with labels found to put in legend.\n"
     ]
    },
    {
     "name": "stdout",
     "output_type": "stream",
     "text": [
      "epoch:19 | 0.117 - 0.988\n",
      "============== 8/16 ==============\n",
      "epoch:0 | 0.118 - 0.112\n",
      "epoch:1 | 0.116 - 0.355\n",
      "epoch:2 | 0.116 - 0.704\n",
      "epoch:3 | 0.116 - 0.777\n",
      "epoch:4 | 0.116 - 0.83\n",
      "epoch:5 | 0.116 - 0.884\n",
      "epoch:6 | 0.116 - 0.928\n",
      "epoch:7 | 0.116 - 0.944\n",
      "epoch:8 | 0.116 - 0.965\n",
      "epoch:9 | 0.116 - 0.972\n",
      "epoch:10 | 0.116 - 0.981\n",
      "epoch:11 | 0.116 - 0.986\n",
      "epoch:12 | 0.116 - 0.992\n",
      "epoch:13 | 0.116 - 0.993\n",
      "epoch:14 | 0.116 - 0.995\n",
      "epoch:15 | 0.116 - 0.997\n",
      "epoch:16 | 0.116 - 0.998\n",
      "epoch:17 | 0.116 - 0.998\n",
      "epoch:18 | 0.116 - 0.998\n"
     ]
    },
    {
     "name": "stderr",
     "output_type": "stream",
     "text": [
      "No handles with labels found to put in legend.\n"
     ]
    },
    {
     "name": "stdout",
     "output_type": "stream",
     "text": [
      "epoch:19 | 0.116 - 0.998\n",
      "============== 9/16 ==============\n",
      "epoch:0 | 0.097 - 0.161\n",
      "epoch:1 | 0.117 - 0.532\n",
      "epoch:2 | 0.116 - 0.69\n",
      "epoch:3 | 0.116 - 0.753\n",
      "epoch:4 | 0.116 - 0.808\n",
      "epoch:5 | 0.116 - 0.854\n",
      "epoch:6 | 0.117 - 0.882\n",
      "epoch:7 | 0.116 - 0.909\n",
      "epoch:8 | 0.116 - 0.954\n",
      "epoch:9 | 0.117 - 0.975\n",
      "epoch:10 | 0.116 - 0.989\n",
      "epoch:11 | 0.117 - 0.997\n",
      "epoch:12 | 0.117 - 0.998\n",
      "epoch:13 | 0.117 - 1.0\n",
      "epoch:14 | 0.117 - 1.0\n",
      "epoch:15 | 0.117 - 1.0\n",
      "epoch:16 | 0.117 - 1.0\n",
      "epoch:17 | 0.117 - 1.0\n",
      "epoch:18 | 0.117 - 1.0\n"
     ]
    },
    {
     "name": "stderr",
     "output_type": "stream",
     "text": [
      "No handles with labels found to put in legend.\n"
     ]
    },
    {
     "name": "stdout",
     "output_type": "stream",
     "text": [
      "epoch:19 | 0.117 - 1.0\n",
      "============== 10/16 ==============\n",
      "epoch:0 | 0.1 - 0.104\n",
      "epoch:1 | 0.117 - 0.502\n",
      "epoch:2 | 0.105 - 0.687\n",
      "epoch:3 | 0.117 - 0.85\n",
      "epoch:4 | 0.117 - 0.911\n",
      "epoch:5 | 0.116 - 0.936\n",
      "epoch:6 | 0.116 - 0.963\n",
      "epoch:7 | 0.117 - 0.978\n",
      "epoch:8 | 0.117 - 0.984\n",
      "epoch:9 | 0.117 - 0.985\n",
      "epoch:10 | 0.117 - 0.984\n",
      "epoch:11 | 0.117 - 0.988\n",
      "epoch:12 | 0.117 - 0.994\n",
      "epoch:13 | 0.116 - 0.993\n",
      "epoch:14 | 0.116 - 0.997\n",
      "epoch:15 | 0.116 - 0.997\n",
      "epoch:16 | 0.116 - 0.998\n",
      "epoch:17 | 0.116 - 0.998\n",
      "epoch:18 | 0.116 - 0.998\n"
     ]
    },
    {
     "name": "stderr",
     "output_type": "stream",
     "text": [
      "No handles with labels found to put in legend.\n"
     ]
    },
    {
     "name": "stdout",
     "output_type": "stream",
     "text": [
      "epoch:19 | 0.116 - 0.998\n",
      "============== 11/16 ==============\n",
      "epoch:0 | 0.117 - 0.134\n",
      "epoch:1 | 0.117 - 0.435\n",
      "epoch:2 | 0.117 - 0.597\n",
      "epoch:3 | 0.116 - 0.659\n",
      "epoch:4 | 0.117 - 0.684\n",
      "epoch:5 | 0.116 - 0.695\n",
      "epoch:6 | 0.116 - 0.687\n",
      "epoch:7 | 0.116 - 0.787\n",
      "epoch:8 | 0.117 - 0.751\n",
      "epoch:9 | 0.117 - 0.791\n",
      "epoch:10 | 0.117 - 0.792\n",
      "epoch:11 | 0.117 - 0.792\n",
      "epoch:12 | 0.117 - 0.815\n",
      "epoch:13 | 0.117 - 0.869\n",
      "epoch:14 | 0.117 - 0.887\n",
      "epoch:15 | 0.117 - 0.878\n",
      "epoch:16 | 0.117 - 0.882\n",
      "epoch:17 | 0.117 - 0.893\n",
      "epoch:18 | 0.117 - 0.895\n"
     ]
    },
    {
     "name": "stderr",
     "output_type": "stream",
     "text": [
      "No handles with labels found to put in legend.\n"
     ]
    },
    {
     "name": "stdout",
     "output_type": "stream",
     "text": [
      "epoch:19 | 0.117 - 0.883\n",
      "============== 12/16 ==============\n",
      "epoch:0 | 0.116 - 0.253\n",
      "epoch:1 | 0.116 - 0.6\n",
      "epoch:2 | 0.116 - 0.612\n",
      "epoch:3 | 0.116 - 0.666\n",
      "epoch:4 | 0.116 - 0.707\n",
      "epoch:5 | 0.116 - 0.757\n",
      "epoch:6 | 0.116 - 0.765\n",
      "epoch:7 | 0.116 - 0.768\n",
      "epoch:8 | 0.116 - 0.775\n",
      "epoch:9 | 0.116 - 0.783\n",
      "epoch:10 | 0.116 - 0.793\n",
      "epoch:11 | 0.116 - 0.762\n",
      "epoch:12 | 0.116 - 0.646\n",
      "epoch:13 | 0.116 - 0.775\n",
      "epoch:14 | 0.116 - 0.756\n",
      "epoch:15 | 0.116 - 0.768\n",
      "epoch:16 | 0.116 - 0.806\n",
      "epoch:17 | 0.116 - 0.811\n",
      "epoch:18 | 0.116 - 0.812\n"
     ]
    },
    {
     "name": "stderr",
     "output_type": "stream",
     "text": [
      "No handles with labels found to put in legend.\n"
     ]
    },
    {
     "name": "stdout",
     "output_type": "stream",
     "text": [
      "epoch:19 | 0.116 - 0.812\n",
      "============== 13/16 ==============\n",
      "epoch:0 | 0.105 - 0.105\n",
      "epoch:1 | 0.105 - 0.491\n",
      "epoch:2 | 0.116 - 0.586\n",
      "epoch:3 | 0.116 - 0.597\n",
      "epoch:4 | 0.117 - 0.66\n",
      "epoch:5 | 0.117 - 0.628\n",
      "epoch:6 | 0.117 - 0.647\n",
      "epoch:7 | 0.117 - 0.702\n",
      "epoch:8 | 0.116 - 0.696\n",
      "epoch:9 | 0.116 - 0.699\n",
      "epoch:10 | 0.117 - 0.69\n",
      "epoch:11 | 0.117 - 0.703\n",
      "epoch:12 | 0.117 - 0.694\n",
      "epoch:13 | 0.116 - 0.703\n",
      "epoch:14 | 0.116 - 0.718\n",
      "epoch:15 | 0.117 - 0.74\n",
      "epoch:16 | 0.117 - 0.739\n",
      "epoch:17 | 0.117 - 0.744\n",
      "epoch:18 | 0.117 - 0.736\n"
     ]
    },
    {
     "name": "stderr",
     "output_type": "stream",
     "text": [
      "No handles with labels found to put in legend.\n"
     ]
    },
    {
     "name": "stdout",
     "output_type": "stream",
     "text": [
      "epoch:19 | 0.117 - 0.73\n",
      "============== 14/16 ==============\n",
      "epoch:0 | 0.105 - 0.114\n",
      "epoch:1 | 0.116 - 0.41\n",
      "epoch:2 | 0.116 - 0.513\n",
      "epoch:3 | 0.117 - 0.534\n",
      "epoch:4 | 0.117 - 0.6\n",
      "epoch:5 | 0.116 - 0.599\n",
      "epoch:6 | 0.116 - 0.449\n",
      "epoch:7 | 0.117 - 0.607\n",
      "epoch:8 | 0.117 - 0.612\n",
      "epoch:9 | 0.117 - 0.606\n",
      "epoch:10 | 0.117 - 0.613\n",
      "epoch:11 | 0.116 - 0.614\n",
      "epoch:12 | 0.116 - 0.615\n",
      "epoch:13 | 0.116 - 0.616\n",
      "epoch:14 | 0.116 - 0.616\n",
      "epoch:15 | 0.116 - 0.618\n",
      "epoch:16 | 0.116 - 0.617\n",
      "epoch:17 | 0.116 - 0.615\n",
      "epoch:18 | 0.116 - 0.617\n"
     ]
    },
    {
     "name": "stderr",
     "output_type": "stream",
     "text": [
      "No handles with labels found to put in legend.\n"
     ]
    },
    {
     "name": "stdout",
     "output_type": "stream",
     "text": [
      "epoch:19 | 0.117 - 0.622\n",
      "============== 15/16 ==============\n",
      "epoch:0 | 0.105 - 0.131\n",
      "epoch:1 | 0.105 - 0.312\n",
      "epoch:2 | 0.105 - 0.343\n",
      "epoch:3 | 0.117 - 0.399\n",
      "epoch:4 | 0.117 - 0.368\n",
      "epoch:5 | 0.117 - 0.229\n",
      "epoch:6 | 0.117 - 0.394\n",
      "epoch:7 | 0.117 - 0.419\n",
      "epoch:8 | 0.117 - 0.419\n",
      "epoch:9 | 0.116 - 0.418\n",
      "epoch:10 | 0.116 - 0.421\n",
      "epoch:11 | 0.116 - 0.431\n",
      "epoch:12 | 0.116 - 0.42\n",
      "epoch:13 | 0.116 - 0.426\n",
      "epoch:14 | 0.116 - 0.432\n",
      "epoch:15 | 0.116 - 0.433\n",
      "epoch:16 | 0.116 - 0.432\n",
      "epoch:17 | 0.116 - 0.443\n",
      "epoch:18 | 0.116 - 0.512\n"
     ]
    },
    {
     "name": "stderr",
     "output_type": "stream",
     "text": [
      "No handles with labels found to put in legend.\n"
     ]
    },
    {
     "name": "stdout",
     "output_type": "stream",
     "text": [
      "epoch:19 | 0.116 - 0.523\n",
      "============== 16/16 ==============\n",
      "epoch:0 | 0.097 - 0.097\n",
      "epoch:1 | 0.116 - 0.297\n",
      "epoch:2 | 0.117 - 0.317\n",
      "epoch:3 | 0.117 - 0.399\n",
      "epoch:4 | 0.117 - 0.406\n",
      "epoch:5 | 0.117 - 0.415\n",
      "epoch:6 | 0.117 - 0.418\n",
      "epoch:7 | 0.117 - 0.414\n",
      "epoch:8 | 0.117 - 0.417\n",
      "epoch:9 | 0.117 - 0.41\n",
      "epoch:10 | 0.117 - 0.418\n",
      "epoch:11 | 0.117 - 0.41\n",
      "epoch:12 | 0.117 - 0.461\n",
      "epoch:13 | 0.117 - 0.422\n",
      "epoch:14 | 0.117 - 0.42\n",
      "epoch:15 | 0.117 - 0.42\n",
      "epoch:16 | 0.117 - 0.445\n",
      "epoch:17 | 0.117 - 0.475\n",
      "epoch:18 | 0.117 - 0.437\n",
      "epoch:19 | 0.117 - 0.437\n"
     ]
    },
    {
     "data": {
      "image/png": "[encoded data removed]",
      "text/plain": [
       "<Figure size 432x288 with 16 Axes>"
      ]
     },
     "metadata": {
      "needs_background": "light"
     },
     "output_type": "display_data"
    }
   ],
   "source": [
    "# coding: utf-8\n",
    "import sys, os\n",
    "sys.path.append(os.pardir)  # 親ディレクトリのファイルをインポートするための設定\n",
    "import numpy as np\n",
    "import matplotlib.pyplot as plt\n",
    "from dataset.mnist import load_mnist\n",
    "from common.multi_layer_net_extend import MultiLayerNetExtend\n",
    "from common.optimizer import SGD, Adam\n",
    "\n",
    "(x_train, t_train), (x_test, t_test) = load_mnist(normalize=True)\n",
    "\n",
    "# 学習データを削減\n",
    "x_train = x_train[:1000]\n",
    "t_train = t_train[:1000]\n",
    "\n",
    "max_epochs = 20\n",
    "train_size = x_train.shape[0]\n",
    "batch_size = 100\n",
    "learning_rate = 0.01\n",
    "\n",
    "\n",
    "def __train(weight_init_std):\n",
    "    bn_network = MultiLayerNetExtend(input_size=784, hidden_size_list=[100, 100, 100, 100, 100], output_size=10, \n",
    "                                    weight_init_std=weight_init_std, use_batchnorm=True)\n",
    "    network = MultiLayerNetExtend(input_size=784, hidden_size_list=[100, 100, 100, 100, 100], output_size=10,\n",
    "                                weight_init_std=weight_init_std)\n",
    "    optimizer = SGD(lr=learning_rate)\n",
    "    \n",
    "    train_acc_list = []\n",
    "    bn_train_acc_list = []\n",
    "    \n",
    "    iter_per_epoch = max(train_size / batch_size, 1)\n",
    "    epoch_cnt = 0\n",
    "    \n",
    "    for i in range(1000000000):\n",
    "        batch_mask = np.random.choice(train_size, batch_size)\n",
    "        x_batch = x_train[batch_mask]\n",
    "        t_batch = t_train[batch_mask]\n",
    "    \n",
    "        for _network in (bn_network, network):\n",
    "            grads = _network.gradient(x_batch, t_batch)\n",
    "            optimizer.update(_network.params, grads)\n",
    "    \n",
    "        if i % iter_per_epoch == 0:\n",
    "            train_acc = network.accuracy(x_train, t_train)\n",
    "            bn_train_acc = bn_network.accuracy(x_train, t_train)\n",
    "            train_acc_list.append(train_acc)\n",
    "            bn_train_acc_list.append(bn_train_acc)\n",
    "    \n",
    "            print(\"epoch:\" + str(epoch_cnt) + \" | \" + str(train_acc) + \" - \" + str(bn_train_acc))\n",
    "    \n",
    "            epoch_cnt += 1\n",
    "            if epoch_cnt >= max_epochs:\n",
    "                break\n",
    "                \n",
    "    return train_acc_list, bn_train_acc_list\n",
    "\n",
    "\n",
    "# 3.グラフの描画==========\n",
    "weight_scale_list = np.logspace(0, -4, num=16)\n",
    "x = np.arange(max_epochs)\n",
    "\n",
    "#logspaceを使って適当に重みのスケールを生成して(16個の数字)、それぞれBatchNormalizationを使った学習を行い、\n",
    "#結果を合計16枚のグラフとして描画する。\n",
    "for i, w in enumerate(weight_scale_list):\n",
    "    print( \"============== \" + str(i+1) + \"/16\" + \" ==============\")\n",
    "    train_acc_list, bn_train_acc_list = __train(w) #BatchNormalizationを使ったニューラルネットワーク\n",
    "    \n",
    "    #4 * 4に描画領域を分割して、描画対象の領域を指定する\n",
    "    plt.subplot(4,4,i+1)\n",
    "    plt.title(\"W:\" + str(w))\n",
    "    if i == 15:\n",
    "        #16枚目（最後）のグラフにlabelをつける\n",
    "        plt.plot(x, bn_train_acc_list, label='Batch Normalization', markevery=2)\n",
    "        plt.plot(x, train_acc_list, linestyle = \"--\", label='Normal(without BatchNorm)', markevery=2)\n",
    "    else:     \n",
    "        plt.plot(x, bn_train_acc_list, markevery=2)\n",
    "        plt.plot(x, train_acc_list, linestyle=\"--\", markevery=2)\n",
    "        #以下のようなコードを書くと、書くグラフにlabelが乗り、非常に見難くなる\n",
    "#        plt.plot(x, bn_train_acc_list, label='Batch Normalization', markevery=2)\n",
    "#        plt.plot(x, train_acc_list, linestyle = \"--\", label='Normal(without BatchNorm)', markevery=2)\n",
    "\n",
    "    #xticks/yticksの使い方\n",
    "    #https://tech-market.org/matplotlib-memori-mozi/\n",
    "    plt.ylim(0, 1.0)\n",
    "    if i % 4:\n",
    "        plt.yticks([]) # 目盛りを消すのに[]を渡す。\n",
    "    else:\n",
    "        plt.ylabel(\"accuracy\") #グラフ4つごとにラベルを設定\n",
    "    if i < 12:\n",
    "        plt.xticks([])# 目盛りを消すのに[]を渡す。\n",
    "    else:\n",
    "        plt.xlabel(\"epochs\") #一番下の段のグラフにラベルを設定\n",
    "    plt.legend(loc='lower right')\n"
   ]
  },
  {
   "cell_type": "code",
   "execution_count": null,
   "id": "65c12639",
   "metadata": {},
   "outputs": [],
   "source": []
  }
 ],
 "metadata": {
  "kernelspec": {
   "display_name": "Python 3",
   "language": "python",
   "name": "python3"
  },
  "language_info": {
   "codemirror_mode": {
    "name": "ipython",
    "version": 3
   },
   "file_extension": ".py",
   "mimetype": "text/x-python",
   "name": "python",
   "nbconvert_exporter": "python",
   "pygments_lexer": "ipython3",
   "version": "3.8.8"
  }
 },
 "nbformat": 4,
 "nbformat_minor": 5
}
