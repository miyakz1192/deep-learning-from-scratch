{
 "cells": [
  {
   "cell_type": "markdown",
   "metadata": {},
   "source": [
    "# レイヤの実装と練習\n",
    "## おしながき\n",
    "- 乗算レイヤ\n",
    "- 加算レイヤ\n",
    "- Affineレイヤ\n",
    "- Softmaxレイヤ\n",
    "- 誤差逆伝搬法"
   ]
  },
  {
   "cell_type": "markdown",
   "metadata": {},
   "source": [
    "## 乗算レイヤの写経"
   ]
  },
  {
   "cell_type": "code",
   "execution_count": 1,
   "metadata": {},
   "outputs": [],
   "source": [
    "#乗算レイヤ\n",
    "class MulLayer:\n",
    "    def __init__(self):\n",
    "        self.x = None\n",
    "        self.y = None\n",
    "    \n",
    "    def forward(self, x, y):\n",
    "        self.x = x\n",
    "        self.y = y\n",
    "        return x * y\n",
    "    \n",
    "    def backward(self, z):\n",
    "        return z * self.y, z * self.x"
   ]
  },
  {
   "cell_type": "markdown",
   "metadata": {},
   "source": [
    "## りんご２個の買い物の計算グラフ〜の写経"
   ]
  },
  {
   "cell_type": "code",
   "execution_count": 2,
   "metadata": {},
   "outputs": [
    {
     "name": "stdout",
     "output_type": "stream",
     "text": [
      "===forward 結果===\n",
      "200\n",
      "220.00000000000003\n",
      "=== backward 結果===\n",
      "tax_layerの微分\n",
      "taxの微分\n",
      "200\n",
      "apple_layerの微分\n",
      "appleの微分\n",
      "2.2\n",
      "num_of_appleの微分\n",
      "110.00000000000001\n"
     ]
    }
   ],
   "source": [
    "apple         = 100 #りんごが100円\n",
    "num_of_apples = 2  #りんごの個数\n",
    "tax           = 1.1#消費税\n",
    "\n",
    "apple_layer = MulLayer()\n",
    "tax_layer   = MulLayer()\n",
    "\n",
    "apple_layer_result = apple_layer.forward(apple, num_of_apples)\n",
    "tax_layer_result   = tax_layer.forward(apple_layer_result, tax)\n",
    "\n",
    "print(\"===forward 結果===\")\n",
    "print(apple_layer_result)\n",
    "print(tax_layer_result)\n",
    "\n",
    "print(\"=== backward 結果===\")\n",
    "tax_layer_back = tax_layer.backward(1)\n",
    "\n",
    "print(\"tax_layerの微分\")\n",
    "print(\"taxの微分\")\n",
    "upper, lower = tax_layer_back\n",
    "print(lower)\n",
    "\n",
    "print(\"apple_layerの微分\")\n",
    "upper, lower = apple_layer.backward(upper)\n",
    "\n",
    "print(\"appleの微分\")\n",
    "print(upper)\n",
    "print(\"num_of_appleの微分\")\n",
    "print(lower)"
   ]
  },
  {
   "cell_type": "markdown",
   "metadata": {},
   "source": [
    "## 加算レイヤの実装の写経"
   ]
  },
  {
   "cell_type": "code",
   "execution_count": 3,
   "metadata": {},
   "outputs": [],
   "source": [
    "class AddLayer:\n",
    "    def __init__(self):\n",
    "        pass\n",
    "    \n",
    "    def forward(self, x, y):\n",
    "        return x + y\n",
    "    \n",
    "    def backward(self, z):\n",
    "        return z, z"
   ]
  },
  {
   "cell_type": "markdown",
   "metadata": {},
   "source": [
    "## 複雑な例（りんご２個と、みかん３個の買い物）の計算グラフ〜の写経"
   ]
  },
  {
   "cell_type": "code",
   "execution_count": 4,
   "metadata": {},
   "outputs": [
    {
     "name": "stdout",
     "output_type": "stream",
     "text": [
      "==== forward ====\n",
      "715.0000000000001\n",
      "==== backward ====\n",
      "== taxの微分 ==\n",
      "650\n",
      "== りんご、りんごの個数、みかん、みかんの個数の微分 == \n",
      "== りんごの微分==\n",
      "2.2\n",
      "== りんごの個数の微分\n",
      "110.00000000000001\n",
      "== みかんの微分==\n",
      "3.3000000000000003\n",
      "== みかんの個数の微分\n",
      "165.0\n"
     ]
    }
   ],
   "source": [
    "apple         = 100 #りんごの値段\n",
    "num_of_apples = 2   #りんごの個数\n",
    "\n",
    "orange        = 150 #みかんの値段\n",
    "num_of_oranges= 3   #みかんの個数\n",
    "\n",
    "tax           = 1.1 #消費税率\n",
    "\n",
    "apple_layer            = MulLayer()\n",
    "orange_layer           = MulLayer()\n",
    "apple_and_orange_layer = AddLayer()\n",
    "tax_layer              = MulLayer()\n",
    "\n",
    "print(\"==== forward ====\")\n",
    "apple_layer_res            = apple_layer.forward(apple, num_of_apples)\n",
    "orange_layer_res           = orange_layer.forward(orange, num_of_oranges)\n",
    "apple_and_orange_layer_res = apple_and_orange_layer.forward(apple_layer_res, orange_layer_res)\n",
    "forward_res                = tax_layer.forward(apple_and_orange_layer_res, tax)\n",
    "\n",
    "print(forward_res)\n",
    "\n",
    "print(\"==== backward ====\")\n",
    "upper, lower = tax_layer.backward(1)\n",
    "print(\"== taxの微分 ==\")\n",
    "print(lower)\n",
    "\n",
    "print(\"== りんご、りんごの個数、みかん、みかんの個数の微分 == \")\n",
    "dx_apple, dx_orange = apple_and_orange_layer.backward(upper)\n",
    "upper, lower = apple_layer.backward(dx_apple)\n",
    "print(\"== りんごの微分==\")\n",
    "print(upper)\n",
    "print(\"== りんごの個数の微分\")\n",
    "print(lower)\n",
    "\n",
    "upper, lower = orange_layer.backward(dx_orange)\n",
    "print(\"== みかんの微分==\")\n",
    "print(upper)\n",
    "print(\"== みかんの個数の微分\")\n",
    "print(lower)\n",
    "\n",
    "\n",
    "\n"
   ]
  },
  {
   "cell_type": "code",
   "execution_count": null,
   "metadata": {},
   "outputs": [],
   "source": []
  }
 ],
 "metadata": {
  "kernelspec": {
   "display_name": "Python 3",
   "language": "python",
   "name": "python3"
  },
  "language_info": {
   "codemirror_mode": {
    "name": "ipython",
    "version": 3
   },
   "file_extension": ".py",
   "mimetype": "text/x-python",
   "name": "python",
   "nbconvert_exporter": "python",
   "pygments_lexer": "ipython3",
   "version": "3.8.5"
  }
 },
 "nbformat": 4,
 "nbformat_minor": 4
}
