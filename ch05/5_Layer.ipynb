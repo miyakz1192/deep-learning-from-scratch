{
 "cells": [
  {
   "cell_type": "markdown",
   "metadata": {},
   "source": [
    "# レイヤの実装と練習\n",
    "## おしながき\n",
    "- 乗算レイヤ\n",
    "- 加算レイヤ\n",
    "- sigmoidレイヤ\n",
    "- Affineレイヤ\n",
    "- Softmax-with-lossレイヤ\n",
    "- 誤差逆伝搬法"
   ]
  },
  {
   "cell_type": "code",
   "execution_count": 1,
   "metadata": {},
   "outputs": [],
   "source": [
    "#最初のお約束の設定\n",
    "import sys, os\n",
    "sys.path.append(os.pardir)  # 親ディレクトリのファイルをインポートするための設定\n",
    "#import common.gradient as g #例えば、本書の共通ライブラリを読み込む場合の設定\n",
    "import numpy as np\n",
    "import matplotlib.pylab as plt\n",
    "######################################################"
   ]
  },
  {
   "cell_type": "markdown",
   "metadata": {},
   "source": [
    "## 乗算レイヤの写経"
   ]
  },
  {
   "cell_type": "code",
   "execution_count": 2,
   "metadata": {},
   "outputs": [],
   "source": [
    "#乗算レイヤ\n",
    "class MulLayer:\n",
    "    def __init__(self):\n",
    "        self.x = None\n",
    "        self.y = None\n",
    "    \n",
    "    def forward(self, x, y):\n",
    "        self.x = x\n",
    "        self.y = y\n",
    "        return x * y\n",
    "    \n",
    "    def backward(self, z):\n",
    "        return z * self.y, z * self.x"
   ]
  },
  {
   "cell_type": "markdown",
   "metadata": {},
   "source": [
    "## りんご２個の買い物の計算グラフ〜の写経"
   ]
  },
  {
   "cell_type": "code",
   "execution_count": 3,
   "metadata": {},
   "outputs": [
    {
     "name": "stdout",
     "output_type": "stream",
     "text": [
      "===forward 結果===\n",
      "200\n",
      "220.00000000000003\n",
      "=== backward 結果===\n",
      "tax_layerの微分\n",
      "taxの微分\n",
      "200\n",
      "apple_layerの微分\n",
      "appleの微分\n",
      "2.2\n",
      "num_of_appleの微分\n",
      "110.00000000000001\n"
     ]
    }
   ],
   "source": [
    "apple         = 100 #りんごが100円\n",
    "num_of_apples = 2  #りんごの個数\n",
    "tax           = 1.1#消費税\n",
    "\n",
    "apple_layer = MulLayer()\n",
    "tax_layer   = MulLayer()\n",
    "\n",
    "apple_layer_result = apple_layer.forward(apple, num_of_apples)\n",
    "tax_layer_result   = tax_layer.forward(apple_layer_result, tax)\n",
    "\n",
    "print(\"===forward 結果===\")\n",
    "print(apple_layer_result)\n",
    "print(tax_layer_result)\n",
    "\n",
    "print(\"=== backward 結果===\")\n",
    "tax_layer_back = tax_layer.backward(1)\n",
    "\n",
    "print(\"tax_layerの微分\")\n",
    "print(\"taxの微分\")\n",
    "upper, lower = tax_layer_back\n",
    "print(lower)\n",
    "\n",
    "print(\"apple_layerの微分\")\n",
    "upper, lower = apple_layer.backward(upper)\n",
    "\n",
    "print(\"appleの微分\")\n",
    "print(upper)\n",
    "print(\"num_of_appleの微分\")\n",
    "print(lower)"
   ]
  },
  {
   "cell_type": "markdown",
   "metadata": {},
   "source": [
    "## 加算レイヤの実装の写経"
   ]
  },
  {
   "cell_type": "code",
   "execution_count": 4,
   "metadata": {},
   "outputs": [],
   "source": [
    "class AddLayer:\n",
    "    def __init__(self):\n",
    "        pass\n",
    "    \n",
    "    def forward(self, x, y):\n",
    "        return x + y\n",
    "    \n",
    "    def backward(self, z):\n",
    "        return z, z"
   ]
  },
  {
   "cell_type": "markdown",
   "metadata": {},
   "source": [
    "## 複雑な例（りんご２個と、みかん３個の買い物）の計算グラフ〜の写経"
   ]
  },
  {
   "cell_type": "code",
   "execution_count": 5,
   "metadata": {},
   "outputs": [
    {
     "name": "stdout",
     "output_type": "stream",
     "text": [
      "==== forward ====\n",
      "715.0000000000001\n",
      "==== backward ====\n",
      "== taxの微分 ==\n",
      "650\n",
      "== りんご、りんごの個数、みかん、みかんの個数の微分 == \n",
      "== りんごの微分==\n",
      "2.2\n",
      "== りんごの個数の微分\n",
      "110.00000000000001\n",
      "== みかんの微分==\n",
      "3.3000000000000003\n",
      "== みかんの個数の微分\n",
      "165.0\n"
     ]
    }
   ],
   "source": [
    "apple         = 100 #りんごの値段\n",
    "num_of_apples = 2   #りんごの個数\n",
    "\n",
    "orange        = 150 #みかんの値段\n",
    "num_of_oranges= 3   #みかんの個数\n",
    "\n",
    "tax           = 1.1 #消費税率\n",
    "\n",
    "apple_layer            = MulLayer()\n",
    "orange_layer           = MulLayer()\n",
    "apple_and_orange_layer = AddLayer()\n",
    "tax_layer              = MulLayer()\n",
    "\n",
    "print(\"==== forward ====\")\n",
    "apple_layer_res            = apple_layer.forward(apple, num_of_apples)\n",
    "orange_layer_res           = orange_layer.forward(orange, num_of_oranges)\n",
    "apple_and_orange_layer_res = apple_and_orange_layer.forward(apple_layer_res, orange_layer_res)\n",
    "forward_res                = tax_layer.forward(apple_and_orange_layer_res, tax)\n",
    "\n",
    "print(forward_res)\n",
    "\n",
    "print(\"==== backward ====\")\n",
    "upper, lower = tax_layer.backward(1)\n",
    "print(\"== taxの微分 ==\")\n",
    "print(lower)\n",
    "\n",
    "print(\"== りんご、りんごの個数、みかん、みかんの個数の微分 == \")\n",
    "dx_apple, dx_orange = apple_and_orange_layer.backward(upper)\n",
    "upper, lower = apple_layer.backward(dx_apple)\n",
    "print(\"== りんごの微分==\")\n",
    "print(upper)\n",
    "print(\"== りんごの個数の微分\")\n",
    "print(lower)\n",
    "\n",
    "upper, lower = orange_layer.backward(dx_orange)\n",
    "print(\"== みかんの微分==\")\n",
    "print(upper)\n",
    "print(\"== みかんの個数の微分\")\n",
    "print(lower)"
   ]
  },
  {
   "cell_type": "markdown",
   "metadata": {},
   "source": [
    "## ★ReLUレイヤの実装の写経\n",
    "### その前に、ReLU関数とはなにか"
   ]
  },
  {
   "cell_type": "markdown",
   "metadata": {},
   "source": [
    "$$\n",
    "    ReLU(x) =\n",
    "        \\begin{cases}\n",
    "            x \\quad x > 0 \\\\\n",
    "            0 \\quad x \\leqq 0 \\\\\n",
    "        \\end{cases}\n",
    "$$\n",
    "\n",
    "その微分は以下。\n",
    "\n",
    "$$\n",
    "    ReLU(x)' =\n",
    "        \\begin{cases}\n",
    "            1 \\quad x > 0 \\\\\n",
    "            0 \\quad x \\leqq 0 \\\\\n",
    "        \\end{cases}\n",
    "$$"
   ]
  },
  {
   "cell_type": "markdown",
   "metadata": {},
   "source": [
    "## ReLUレイヤの実装"
   ]
  },
  {
   "cell_type": "markdown",
   "metadata": {},
   "source": [
    "### 間違った実装から\n",
    "#### なぜ勘違いしたのか？\n",
    "入力が関数の形を見て、スカラー的に判断してしまった。\n",
    "入力がベクトルの時、ベクトルのそれぞれの要素に対して演算を行う必要がある。\n",
    "以下の実装は、入力がスカラーの場合は良いが、ベクトルの場合に対応していない。"
   ]
  },
  {
   "cell_type": "code",
   "execution_count": 6,
   "metadata": {},
   "outputs": [],
   "source": [
    "class ReluBad:\n",
    "    def __init__(self):\n",
    "        self.x = None\n",
    "        pass\n",
    "    \n",
    "    def forward(self, x):\n",
    "        self.x = x\n",
    "        if x > 0:\n",
    "            return x\n",
    "        else:\n",
    "            return 0\n",
    "        \n",
    "    def backward(self):\n",
    "        if self.x > 0:\n",
    "            return 1\n",
    "        else:\n",
    "            return 0"
   ]
  },
  {
   "cell_type": "markdown",
   "metadata": {},
   "source": [
    "### 正しい実装"
   ]
  },
  {
   "cell_type": "markdown",
   "metadata": {},
   "source": [
    "### numpyの機能をあまり使わない素朴な実装(さらなる間違いも発覚、根本的な理解不足）\n",
    "配列操作周りは改善したが、そもそもの根本的な理解不足があり。"
   ]
  },
  {
   "cell_type": "code",
   "execution_count": 7,
   "metadata": {},
   "outputs": [],
   "source": [
    "class ReluNaive:\n",
    "    def __init__(self):\n",
    "        #forward時に正の要素は通し、負のものは通さない。backward時も同様に正は通して、負は通さない。\n",
    "        #この時、forward時に通したもの（インデックス）を覚えておく必要があるので、そもそも、クラスのインスタンス変数として\n",
    "        #記憶しておくものは、xではなく、maskである。\n",
    "        self.x = None\n",
    "        pass\n",
    "    \n",
    "    def forward(self, x):\n",
    "        self.x = x\n",
    "        y = x.copy()\n",
    "        for idx in range(y.shape[0]):\n",
    "            if y[idx] <= 0:\n",
    "                y[idx] = 0\n",
    "        return y\n",
    "        \n",
    "    def backward(self): #ここも間違い。逆伝搬してきた値に、自分自身の微分を掛けたものを復帰値とする必要がある。\n",
    "                        #このため、まず、引数を１つ受け取る必要があるが、設定されていない間違い\n",
    "        y = x.copy()\n",
    "        for idx in range(y.shape[0]):\n",
    "            if y[idx] > 0:\n",
    "                y[idx] = 1 #正のものは、逆伝搬してきた値に1を掛けるのが正しい実装。\n",
    "            else:\n",
    "                y[idx] = 0 #ゼロ以下のものを０にするだけ。\n",
    "        return y"
   ]
  },
  {
   "cell_type": "markdown",
   "metadata": {},
   "source": [
    "### numpyの機能を使った実装および、Reluへの正しい理解での実装\n",
    "テキストの実装の通り、numpyを使うとこの辺の実装が大変スマートになる。\n",
    "ブロードキャストとマスク機能を使う。\n",
    "\n",
    "機械学習のプログラミングではベクトルや行列が頻出であり、この辺をしっかり抑えることが肝要。\n",
    "\n",
    "#### ブロードキャストを使った比較と、マスク機能の練習"
   ]
  },
  {
   "cell_type": "code",
   "execution_count": 8,
   "metadata": {},
   "outputs": [
    {
     "name": "stdout",
     "output_type": "stream",
     "text": [
      "[[ 1.  -0.5]\n",
      " [-2.   3. ]]\n",
      "[[ 1.  -0.5]\n",
      " [-2.   3. ]]\n",
      "[[False  True]\n",
      " [ True False]]\n",
      "[[1. 0.]\n",
      " [0. 3.]]\n",
      "range(0, 2)\n"
     ]
    }
   ],
   "source": [
    "x = np.array([[1.0, -0.5],[-2.0, 3.0]])\n",
    "y = x.copy()\n",
    "\n",
    "print(x)\n",
    "print(y)\n",
    "\n",
    "mask = (x <= 0) #ブロードキャスト機能により、配列の各要素を比較した結果の配列を作ることができる\n",
    "print(mask)\n",
    "\n",
    "y[mask] = 0 # mask機能を使うと、Trueとなるindexの要素に値（この場合は０）を代入できる\n",
    "print(y)\n",
    "\n",
    "#y[[True]] = 0 # Error\n",
    "#print(y)      # Error\n",
    "\n",
    "print(range(y.shape[0]))"
   ]
  },
  {
   "cell_type": "markdown",
   "metadata": {},
   "source": [
    "### numpyの機能を使った効率的な実装(テキストの写経)　〜　完成版\n",
    "以下、修正点\n",
    "- インプットをベクトルを意識したものにした\n",
    "- numpyのマスク機能を使って効率的に\n",
    "- Relu関数の微分（forwardで通したものを記憶して、backwardに反映)をした。つまり、インスタンス変数としてmaskを記憶するようにした"
   ]
  },
  {
   "cell_type": "code",
   "execution_count": 9,
   "metadata": {},
   "outputs": [],
   "source": [
    "class ReluMy:\n",
    "    def __init__(self):\n",
    "        self.mask = None\n",
    "    \n",
    "    def forward(self, x):\n",
    "        y = x.copy()\n",
    "        mask = (x <= 0)\n",
    "        y[mask] = 0\n",
    "        self.mask = mask\n",
    "        return y\n",
    "        \n",
    "    def backward(self, dout):\n",
    "        dout[self.mask] = 0\n",
    "        return dout"
   ]
  },
  {
   "cell_type": "markdown",
   "metadata": {},
   "source": [
    "# ★sigmoidレイヤの実装（テキストの写経)\n",
    "## まずは数式から（テキストP145)\n",
    "\n",
    "計算グラフを自力で書いて求めるのは別途練習するとして、ここでは実装に重きを置くため、テキストをさっと読んで、結論だけを利用する。\n",
    "つまり、テキストＰ１４５を見ると、sigmoidレイヤのforwardとbackward（微分)は以下。\n",
    "\n",
    "まず、forward方向（すでにsigmoid関数として実装していることを思い出そう）。\n",
    "以下、yとxはベクトルであることに注意する。数式としてはやや正確ではないと思うが、numpyのブロードキャストを想像しながら数式を見るとわかりやすい。詳しくは実装にて。\n",
    "$$\n",
    "    y = \\frac{1}{1+exp^(-x)} \\\\\n",
    "$$\n",
    "\n",
    "以下、backward方向\n",
    "\n",
    "$$\n",
    "      y' = \\frac{\\partial L}{\\partial y} y^2 exp(-x) \\\\\n",
    "$$\n",
    "\n",
    "なお、以下は、sigmoidレイヤに最初に逆伝搬で入ってきた、隣のレイヤからの値である。yはsigmoidレイヤで出力した値であり、実装ではインスタンスに保持しておくべき値であろうことに注意しておこう。xも同様に記録しておく必要あり。\n",
    "\n",
    "### 自力で実装してみる。"
   ]
  },
  {
   "cell_type": "code",
   "execution_count": 10,
   "metadata": {},
   "outputs": [],
   "source": [
    "class SigmoidMy:\n",
    "    def __init__(self):\n",
    "        self.x = None\n",
    "        self.y = None\n",
    "        pass\n",
    "    \n",
    "    #入力xはnumpyのベクトルであることに注意。\n",
    "    def forward(self, x):\n",
    "        y = 1 / (1 + np.exp(-x))\n",
    "        self.x = x\n",
    "        self.y = y\n",
    "        return y\n",
    "    \n",
    "    def backward(self, dout):\n",
    "        return dout * (self.y*self.y) * np.exp(-self.x)"
   ]
  },
  {
   "cell_type": "markdown",
   "metadata": {},
   "source": [
    "テキストではＰ１４６で導出される式から、出力yのみで効率よく実装されているが、自力版はそうしていない。\n",
    "テキスト版と自力版のsigmoidレイヤでテストデータを試してみよう。"
   ]
  },
  {
   "cell_type": "code",
   "execution_count": 11,
   "metadata": {},
   "outputs": [
    {
     "name": "stdout",
     "output_type": "stream",
     "text": [
      "[-5. -4. -3. -2. -1.  0.  1.  2.  3.  4.]\n",
      "[0.00669285 0.01798621 0.04742587 0.11920292 0.26894142 0.5\n",
      " 0.73105858 0.88079708 0.95257413 0.98201379]\n",
      "[0.00669285 0.01798621 0.04742587 0.11920292 0.26894142 0.5\n",
      " 0.73105858 0.88079708 0.95257413 0.98201379]\n",
      "[0.00664806 0.01766271 0.04517666 0.10499359 0.19661193 0.25\n",
      " 0.19661193 0.10499359 0.04517666 0.01766271]\n",
      "[0.00664806 0.01766271 0.04517666 0.10499359 0.19661193 0.25\n",
      " 0.19661193 0.10499359 0.04517666 0.01766271]\n"
     ]
    }
   ],
   "source": [
    "from common.layers import Sigmoid\n",
    "\n",
    "t = Sigmoid()\n",
    "m = SigmoidMy()\n",
    "\n",
    "X = np.arange(-5.0, 5.0, 1)\n",
    "print(X)\n",
    "\n",
    "t1 = t.forward(X)\n",
    "print(t1)\n",
    "\n",
    "m1 = m.forward(X)\n",
    "print(m1)\n",
    "\n",
    "t2 = t.backward(1)\n",
    "print(t2)\n",
    "\n",
    "m2 = m.backward(1)\n",
    "print(m2)"
   ]
  },
  {
   "cell_type": "markdown",
   "metadata": {},
   "source": [
    "自力版とテキスト版の出力はあっていそうなので、自力版の実装も正しいと思う。"
   ]
  },
  {
   "cell_type": "markdown",
   "metadata": {},
   "source": [
    "# ★Affineレイヤの実装（テキストの写経)\n",
    "## まずは数式から\n",
    "\n",
    "forward方向。行列Yは次のレイヤへの出力。行列Xは入力、行列Wは重み。ベクトルbはバイアス。\n",
    "\n",
    "$$\n",
    "    \\boldsymbol{Y} =  \\boldsymbol{X}\\boldsymbol{W} + \\boldsymbol{b}\n",
    "$$\n",
    "\n",
    "ここで、バイアスの加算については、注意が必要で、XWのそれぞれの行に対して、bが加算されていくことに注意（バイアスの微分で再び登場するので頭の片隅に入れておく）\n",
    "\n",
    "backward方向。行列Xの微分と行列Wの微分の２つがある。なお、行列Lはネットワークから出力された値で、一番最初に逆伝搬する値（このAffineレイヤに逆伝搬してくる値ではないことに注意。テキストＰ１３３を参照）。\n",
    "\n",
    "$$\n",
    "    \\frac{\\partial L}{\\partial \\boldsymbol{X}} = \\frac{\\partial L}{\\partial \\boldsymbol{Y}} \\boldsymbol{W}^T  \\\\\n",
    "$$\n",
    "\n",
    "なお、以下は、Affineレイヤに最初に逆伝搬で入ってくる値であることに注意。\n",
    "\n",
    "$$\n",
    "    \\frac{\\partial L}{\\partial \\boldsymbol{Y}}\\\\\n",
    "$$\n",
    "\n",
    "行列Wの微分は以下。\n",
    "\n",
    "\n",
    "$$\n",
    "    \\frac{\\partial L}{\\partial \\boldsymbol{W}} = \\boldsymbol{X}^T \\frac{\\partial L}{\\partial \\boldsymbol{Y}}   \\\\\n",
    "$$\n",
    "\n",
    "次に、バイアスの微分を考える必要がある。\n",
    "forwardでのバイアスの加算は、それぞれのデータ（１行目のデータ、２行目のデータ・・・）に対して加算が行われる。このため、バイアスの微分では、逆伝搬の値がバイアスの要素に集約される必要がある。つまり、Affineレイヤに最初に逆伝搬してきた値であるdY(複数行、複数列）を列の要素毎に合計したものを要素にもつベクトルがバイアスの微分になる。\n",
    "\n",
    "これが、Affineレイヤのforwardとbackwardのすべてである。以下、この数式を頼りにまずは、自力で実装してみる。\n"
   ]
  },
  {
   "cell_type": "markdown",
   "metadata": {},
   "source": [
    "### 自力での実装(→少し誤っている)"
   ]
  },
  {
   "cell_type": "code",
   "execution_count": 12,
   "metadata": {},
   "outputs": [],
   "source": [
    "class AffineMy1:\n",
    "    def __init__(self, X, W, b):\n",
    "        self.X = X\n",
    "        self.W = W\n",
    "        self.b = b\n",
    "        pass\n",
    "    \n",
    "    def forward(self):\n",
    "        return np.dot(self.X,self.W) + self.b\n",
    "    \n",
    "    def backward(self, dout):\n",
    "        dX = np.dot(dout, self.W.T)\n",
    "        dW = np.dot(self.X.T, dout)\n",
    "        db = np.sum(dout, axis=0) #列要素毎にsumしたベクトルを作る\n",
    "        \n",
    "        return dX, dW, db"
   ]
  },
  {
   "cell_type": "markdown",
   "metadata": {},
   "source": [
    "テキストの正解とは異なる部分がおおい。\n",
    "ただし、あまり本質的な誤りではなく、おそらく、AffineLayerMyをAffineLayerとしてプログラミングしやすくする際の差分だと思う。\n",
    "- AffineLayerMyではコンストラクタの引数にXがあるが、テキストのAffineでは無い\n",
    "- AffineLayerMyではforwardにXは無いが、テキストのAffineにはある。\n",
    "- backwardではdXのみ返却して、dWやdbはインスタンス変数に保持したまま\n",
    "\n",
    "つまり、入力値Ｘについては、コンストラクタで覚えるのではなく、forwardで都度覚えるという形のほうが良いということだろう。\n",
    "考えてみれば、コンストラクタ時にはまだ、入力Ｘは決まっていない気がする。\n",
    "backwardでdXのみ返却するのも、プログラミングのしやすさを重視したものだと想像する（テキストを読み進めるなかで、この予想が正しいかを検証する）"
   ]
  },
  {
   "cell_type": "markdown",
   "metadata": {},
   "source": [
    "### テキストでの実装（そのまま、上記写経に合わせる）"
   ]
  },
  {
   "cell_type": "code",
   "execution_count": 13,
   "metadata": {},
   "outputs": [],
   "source": [
    "class AffineMy:\n",
    "    def __init__(self, W, b):\n",
    "        self.W  = W\n",
    "        self.b  = b\n",
    "        self.X  = None\n",
    "        self.dW = None\n",
    "        self.db = None\n",
    "    \n",
    "    def forward(self,X):\n",
    "        #forwardのつど、Xを記憶\n",
    "        self.X = X\n",
    "        return np.dot(self.X,self.W) + self.b\n",
    "    \n",
    "    def backward(self, dout):\n",
    "        dX = np.dot(dout, self.W.T)\n",
    "        #dW, dbはインスタンス変数に覚えるのみ。\n",
    "        self.dW = np.dot(self.X.T, dout) \n",
    "        self.db = np.sum(dout, axis=0) #列要素毎にsumしたベクトルを作る\n",
    "        \n",
    "        return dX #dXのみ返却するようにした。"
   ]
  },
  {
   "cell_type": "markdown",
   "metadata": {},
   "source": [
    "# ★ softmax-with-lossレイヤの実装\n",
    "## 数式から\n",
    "\n",
    "計算グラフからの導出はテキストに詳しい。詳細はまだ理解していないが、実装を優先したいため、Ｐ１５４の図５−３０を参照する。\n",
    "これによれば、softmax-with-lossレイヤのforward方向はsoftmax関数を通したもの、backward方向は、forward方向で得たベクトルの要素から対応する教師データのラベルに対応する値を引けば良い。詳しくは前述の図を参照。\n",
    "\n",
    "## 自力で実装してみる（誤り=テキストと異なる点が幾つか存在）。"
   ]
  },
  {
   "cell_type": "code",
   "execution_count": 14,
   "metadata": {},
   "outputs": [],
   "source": [
    "from common.functions import cross_entropy_error, softmax\n",
    "\n",
    "class SoftmaxWithLossMy1:\n",
    "    def __init__(self):\n",
    "        self.y = None\n",
    "        self.t = None\n",
    "        pass\n",
    "    \n",
    "    #x: 入力データ（ベクトル）\n",
    "    #t: 教師データ(ベクトル/one hot表現)\n",
    "    #出力：softmaxされたニューラルネットワークの推論結果\n",
    "    def forward(self, x, t):\n",
    "        self.t = t\n",
    "        self.y = softmax(x)\n",
    "        res = cross_entropy_error(self.y , t)\n",
    "        return res\n",
    "    \n",
    "    def backward(self):\n",
    "        return self.y - self.t #ブロードキャストを利用"
   ]
  },
  {
   "cell_type": "markdown",
   "metadata": {},
   "source": [
    "テキストと異なる点は以下。\n",
    "- cross_entropy_errorの結果がインスタンス変数に記録されていない。ただし、これは記録されていなくてもloss自体はbackwardの計算にあらわれてこないため。lossを記録するのは単にプログラミングの利便性を上げるためのものだと想像。\n",
    "- backwardでbatch_sizeで割った値を復帰していない。これは盲点だった。ミニバッチへの考慮が必要。tの行数(ミニバッチに含まれる画像などの枚数（ピクセル数ではない数）でself.y - self.tの各要素を割ることで、データあたり（例：画像あたり）の誤差を逆伝搬するというもの\n",
    "\n",
    "### ミニバッチ対応版"
   ]
  },
  {
   "cell_type": "code",
   "execution_count": 15,
   "metadata": {},
   "outputs": [],
   "source": [
    "class SoftmaxWithLossMy:\n",
    "    def __init__(self):\n",
    "        self.y = None\n",
    "        self.t = None\n",
    "        self.loss = None #softmaxの出力結果\n",
    "        pass\n",
    "    \n",
    "    #x: 入力データ（ベクトル）\n",
    "    #t: 教師データ(ベクトル/one hot表現)\n",
    "    #出力：softmaxされたニューラルネットワークの推論結果\n",
    "    def forward(self, x, t):\n",
    "        self.t = t\n",
    "        self.y = softmax(x)\n",
    "        self.loss = cross_entropy_error(self.y , t)\n",
    "        return self.loss\n",
    "    \n",
    "    def backward(self, dout=1): #backward関数群のインタフェースの整合性のため、ダミーでdoutを追加している。\n",
    "        batch_size = self.t.shape[0]\n",
    "        return (self.y - self.t) / batch_size #ブロードキャストを利用"
   ]
  },
  {
   "cell_type": "markdown",
   "metadata": {},
   "source": [
    "# ★誤差逆伝搬法の実装\n",
    "## 概要から\n",
    "\n",
    "テキストのＰ１５７に記載があるように、ニューラルネットワークの手順は以下。詳細はテキストを参照。\n",
    "\n",
    "- ステップ1(ミニバッチ)\n",
    "- ステップ2(勾配の算出)\n",
    "- ステップ3(パラメータの更新)\n",
    "- ステップ4(繰り返す)\n",
    "\n",
    "そこで、TwoLayerNetMyを更新する。"
   ]
  },
  {
   "cell_type": "markdown",
   "metadata": {},
   "source": [
    "## TwoLayerNetMy2\n",
    "誤差逆伝搬法に対応したTwoLayerNetMy2を作る。差分は最初にレイヤを作る、init_layersメソッド、および、forward_layers_for_predictionメソッド、\n",
    "誤差逆伝搬法そのものである、gradientメソッドの追加である。"
   ]
  },
  {
   "cell_type": "code",
   "execution_count": 16,
   "metadata": {},
   "outputs": [],
   "source": [
    "from collections import OrderedDict\n",
    "\n",
    "class TwoLayerNetMy:\n",
    "    def __init__(self, input_size, hidden_size, output_size, weight_init_std=0.01):\n",
    "        # 重みの初期化\n",
    "        self.params = {}\n",
    "        ## 【W1層】\n",
    "        ## インプットは、(１行、インプット列)の行列。それに対して、W1層は、\n",
    "        ## （インプット行、hidden_size列）の行列で、インプットの列数と同じ行数で受ける必要がある。\n",
    "        self.params['W1'] = weight_init_std * np.random.randn(input_size, hidden_size)\n",
    "        self.params['b1'] = np.zeros(hidden_size)\n",
    "        \n",
    "        ## 【W2層】\n",
    "        ## W1層の出力が（インプット行、hidden_size列）の行列になる。これがそのまま、W2層へのインプットとなる。\n",
    "        ## それに対して、アウトプットを(１行、output_size列)の行列に変換する必要があるから、自ずと、W2は、\n",
    "        ## (hidden_size行、output_size列)の行列になる。\n",
    "        self.params['W2'] = weight_init_std * np.random.randn(hidden_size, output_size)\n",
    "        self.params['b2'] = np.zeros(output_size)\n",
    "        \n",
    "        #レイヤの初期化\n",
    "        self.init_layers()\n",
    "        \n",
    "    #誤差逆伝搬法で対応した新規の関数\n",
    "    def init_layers(self): #商用実装などではprotected相当にするべきだろう。けど、実験用なのでpublicでよいや\n",
    "        self.layers = OrderedDict()\n",
    "        self.layers[\"Affine1\"] = AffineMy(self.params[\"W1\"], self.params[\"b1\"])\n",
    "        self.layers[\"Relu1\"]   = ReluMy()\n",
    "        self.layers[\"Affine2\"] = AffineMy(self.params[\"W2\"], self.params[\"b2\"])\n",
    "        \n",
    "        self.lastLayer = SoftmaxWithLossMy()\n",
    "\n",
    "    #誤差逆伝搬法で対応した新規の関数\n",
    "    def forward_layers_for_prediction(self, x):\n",
    "        for layer in self.layers.values():\n",
    "            x = layer.forward(x)\n",
    "        return x\n",
    "\n",
    "    def predict(self, x):\n",
    "        return self.forward_layers_for_prediction(x) #誤差逆伝搬法で対応したものに実装を置き換え\n",
    "        \n",
    "        #以下の２行はレイヤ構成に対応する前の古いインプリ\n",
    "        #temp = sigmoid(np.dot(x, self.params['W1']) + self.params['b1'])\n",
    "        #return  softmax(np.dot(temp, self.params['W2']) + self.params['b2'])\n",
    "    \n",
    "    def gradient(self, x, t):\n",
    "        #forward\n",
    "        self.loss(x,t)\n",
    "        \n",
    "        #backward\n",
    "        dout = 1\n",
    "        dout = self.lastLayer.backward(dout)\n",
    "        \n",
    "        layers = list(self.layers.values())\n",
    "        layers.reverse()\n",
    "        \n",
    "        for layer in layers:\n",
    "            dout = layer.backward(dout)\n",
    "    \n",
    "        grads = {}\n",
    "        \n",
    "        grads['W1'] = self.layers[\"Affine1\"].dW\n",
    "        grads['b1'] = self.layers[\"Affine1\"].db\n",
    "        grads['W2'] = self.layers[\"Affine2\"].dW\n",
    "        grads['b2'] = self.layers[\"Affine2\"].db\n",
    "        \n",
    "        return grads\n",
    "        \n",
    "    #x: 入力データ、 t:教師データ\n",
    "    def loss(self, x, t):\n",
    "        return self.lastLayer.forward(self.predict(x), t)\n",
    "        #以下、誤差逆伝搬法に対応する前の古い実装。\n",
    "        #return cross_entropy_error(self.predict(x), t)\n",
    "    \n",
    "    def accuracy(self, x, t):\n",
    "        y = self.predict(x)\n",
    "        #最も確率の高い要素のインデックスを取得。ただし、複数行になるため、行毎(axis=1)にＭＡＸなインデックスを得る\n",
    "        #このため、zの要素数はy.shape[0]になる。\n",
    "        y1 = np.argmax(y, axis=1)\n",
    "        t1 = np.argmax(t, axis=1)\n",
    "        \n",
    "        accuracy = np.sum( y == t ) #予測のインデックス==教師データの正解インデックスとなる要素をブロードキャストで計算する。\n",
    "        return accuracy\n",
    "    \n",
    "    def numerical_gradient(self, x, t):\n",
    "        loss_W = lambda W: self.loss(x, t)\n",
    "        \n",
    "        grads = {}\n",
    "        \n",
    "        grads['W1'] = numerical_gradient(loss_W, self.params['W1'])\n",
    "        grads['b1'] = numerical_gradient(loss_W, self.params['b1'])\n",
    "        grads['W2'] = numerical_gradient(loss_W, self.params['W2'])\n",
    "        grads['b2'] = numerical_gradient(loss_W, self.params['b2'])\n",
    "        \n",
    "        return grads"
   ]
  },
  {
   "cell_type": "markdown",
   "metadata": {},
   "source": [
    "## 写経終了。誤差逆伝搬法バージョンを試していく"
   ]
  },
  {
   "cell_type": "code",
   "execution_count": 17,
   "metadata": {},
   "outputs": [
    {
     "name": "stdout",
     "output_type": "stream",
     "text": [
      "show grads\n",
      "(784, 100)\n",
      "(100,)\n",
      "(100, 10)\n",
      "(10,)\n",
      "===========\n"
     ]
    }
   ],
   "source": [
    "net = TwoLayerNetMy(input_size = 784, hidden_size = 100, output_size = 10)\n",
    "\n",
    "\n",
    "#傾きのパラメータサイズの確認\n",
    "x = np.random.rand(100, 784) # ダミーの入力データ(784ピクセルの画像が100枚分)\n",
    "t = np.random.rand(100, 10)  # ダミーの正解ラベルが100枚分\n",
    "\n",
    "grads = net.gradient(x,t)\n",
    "\n",
    "print(\"show grads\")\n",
    "print(grads[\"W1\"].shape)\n",
    "print(grads[\"b1\"].shape)\n",
    "print(grads[\"W2\"].shape)\n",
    "print(grads[\"b2\"].shape)\n",
    "print(\"===========\")"
   ]
  },
  {
   "cell_type": "code",
   "execution_count": 18,
   "metadata": {},
   "outputs": [
    {
     "name": "stdout",
     "output_type": "stream",
     "text": [
      "batch 0 done\n",
      "batch 1000 done\n",
      "batch 2000 done\n",
      "batch 3000 done\n",
      "batch 4000 done\n",
      "batch 5000 done\n",
      "batch 6000 done\n",
      "batch 7000 done\n",
      "batch 8000 done\n",
      "batch 9000 done\n",
      "done\n"
     ]
    }
   ],
   "source": [
    "import numpy as np\n",
    "from dataset.mnist import load_mnist\n",
    "from two_layer_net import TwoLayerNet #せっかくなので、テキストのTwoLayerNetを使ってしまおう\n",
    "\n",
    "#テキストのTwoLayerNetとTwoLayerNetMyを比べてみる\n",
    "\n",
    "def one_train(network = None):\n",
    "    (x_train, t_train), (x_test, t_test) = load_mnist(normalize=True, one_hot_label=True)\n",
    "\n",
    "    train_loss_list = []\n",
    "\n",
    "    #ハイパーパラメータの設定\n",
    "    iters_num     = 10000\n",
    "    train_size    = x_train.shape[0] #訓練データの個数(画像の枚数)\n",
    "    batch_size    = 100\n",
    "    learning_rate = 0.1\n",
    "\n",
    "    #network = TwoLayerNet(input_size=784, hidden_size=100, output_size=10)\n",
    "\n",
    "    for i in range(iters_num):\n",
    "        #バッチの状況をiters_numの10%毎に報告する\n",
    "        #print(\"batch %d done\"%(i) )\n",
    "        if ((i / iters_num) * 100) % 10 == 0:\n",
    "            print(\"batch %d done\"%(i) )\n",
    "\n",
    "        #ミニバッチの取得\n",
    "        batch_mask = np.random.choice(train_size, batch_size) #0~train_size未満の整数の中からランダムにbatch_size個の整数を生成\n",
    "        x_batch = x_train[batch_mask] #batch_maskで指定した訓練データを取得する\n",
    "        t_batch = t_train[batch_mask] #正解ラベルも同様に実施\n",
    "\n",
    "        #勾配の計算\n",
    "        #print(\"calc grad\")\n",
    "        #grad = network.numerical_gradient(x_batch, t_batch)\n",
    "        #誤差逆伝搬法のほうがずっと高速になるらしい！ →　めちゃくちゃ速い\n",
    "        grad = network.gradient(x_batch, t_batch)\n",
    "\n",
    "        #パラメータの更新\n",
    "        #print(\"update params\")\n",
    "        for key in ('W1', 'b1', 'W2', 'b2'):\n",
    "            network.params[key] -= learning_rate * grad[key]\n",
    "\n",
    "        #学習経過の記録\n",
    "        loss = network.loss(x_batch, t_batch)\n",
    "        train_loss_list.append(loss)\n",
    "    \n",
    "    print(\"done\")\n",
    "    return train_loss_list\n",
    "        \n",
    "\n",
    "#試すフェーズ\n",
    "network = TwoLayerNet(input_size=784, hidden_size=100, output_size=10)\n",
    "train_loss_list = one_train(network)\n"
   ]
  },
  {
   "cell_type": "code",
   "execution_count": 19,
   "metadata": {},
   "outputs": [
    {
     "data": {
      "image/png": "[encoded data removed]",
      "text/plain": [
       "<Figure size 432x288 with 1 Axes>"
      ]
     },
     "metadata": {
      "needs_background": "light"
     },
     "output_type": "display_data"
    }
   ],
   "source": [
    "import matplotlib.pylab as plt\n",
    "\n",
    "x = np.arange(len(train_loss_list))\n",
    "plt.plot(x, train_loss_list)\n",
    "plt.show()"
   ]
  },
  {
   "cell_type": "markdown",
   "metadata": {},
   "source": [
    "すばらしい！学習が進む度にロス率が下がっているコトが確認できた。"
   ]
  },
  {
   "cell_type": "code",
   "execution_count": 20,
   "metadata": {},
   "outputs": [
    {
     "name": "stdout",
     "output_type": "stream",
     "text": [
      "batch 0 done\n",
      "batch 1000 done\n",
      "batch 2000 done\n",
      "batch 3000 done\n",
      "batch 4000 done\n",
      "batch 5000 done\n",
      "batch 6000 done\n",
      "batch 7000 done\n",
      "batch 8000 done\n",
      "batch 9000 done\n",
      "done\n"
     ]
    },
    {
     "data": {
      "image/png": "[encoded data removed]",
      "text/plain": [
       "<Figure size 432x288 with 1 Axes>"
      ]
     },
     "metadata": {
      "needs_background": "light"
     },
     "output_type": "display_data"
    }
   ],
   "source": [
    "#自分のネットワークを試すフェーズ\n",
    "network = TwoLayerNetMy(input_size=784, hidden_size=100, output_size=10)\n",
    "train_loss_list = one_train(network)\n",
    "\n",
    "x = np.arange(len(train_loss_list))\n",
    "plt.plot(x, train_loss_list)\n",
    "plt.show()"
   ]
  },
  {
   "cell_type": "markdown",
   "metadata": {},
   "source": [
    "自分のネットについても同じ結果となって嬉しい！"
   ]
  }
 ],
 "metadata": {
  "kernelspec": {
   "display_name": "Python 3",
   "language": "python",
   "name": "python3"
  },
  "language_info": {
   "codemirror_mode": {
    "name": "ipython",
    "version": 3
   },
   "file_extension": ".py",
   "mimetype": "text/x-python",
   "name": "python",
   "nbconvert_exporter": "python",
   "pygments_lexer": "ipython3",
   "version": "3.8.5"
  }
 },
 "nbformat": 4,
 "nbformat_minor": 4
}
