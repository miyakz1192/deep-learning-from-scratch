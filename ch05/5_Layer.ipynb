{
 "cells": [
  {
   "cell_type": "markdown",
   "metadata": {},
   "source": [
    "# レイヤの実装と練習\n",
    "## おしながき\n",
    "- 乗算レイヤ\n",
    "- 加算レイヤ\n",
    "- Affineレイヤ\n",
    "- Softmaxレイヤ\n",
    "- 誤差逆伝搬法"
   ]
  },
  {
   "cell_type": "code",
   "execution_count": 1,
   "metadata": {},
   "outputs": [],
   "source": [
    "#最初のお約束の設定\n",
    "import sys, os\n",
    "sys.path.append(os.pardir)  # 親ディレクトリのファイルをインポートするための設定\n",
    "#import common.gradient as g #例えば、本書の共通ライブラリを読み込む場合の設定\n",
    "import numpy as np\n",
    "import matplotlib.pylab as plt\n",
    "######################################################"
   ]
  },
  {
   "cell_type": "markdown",
   "metadata": {},
   "source": [
    "## 乗算レイヤの写経"
   ]
  },
  {
   "cell_type": "code",
   "execution_count": 2,
   "metadata": {},
   "outputs": [],
   "source": [
    "#乗算レイヤ\n",
    "class MulLayer:\n",
    "    def __init__(self):\n",
    "        self.x = None\n",
    "        self.y = None\n",
    "    \n",
    "    def forward(self, x, y):\n",
    "        self.x = x\n",
    "        self.y = y\n",
    "        return x * y\n",
    "    \n",
    "    def backward(self, z):\n",
    "        return z * self.y, z * self.x"
   ]
  },
  {
   "cell_type": "markdown",
   "metadata": {},
   "source": [
    "## りんご２個の買い物の計算グラフ〜の写経"
   ]
  },
  {
   "cell_type": "code",
   "execution_count": 3,
   "metadata": {},
   "outputs": [
    {
     "name": "stdout",
     "output_type": "stream",
     "text": [
      "===forward 結果===\n",
      "200\n",
      "220.00000000000003\n",
      "=== backward 結果===\n",
      "tax_layerの微分\n",
      "taxの微分\n",
      "200\n",
      "apple_layerの微分\n",
      "appleの微分\n",
      "2.2\n",
      "num_of_appleの微分\n",
      "110.00000000000001\n"
     ]
    }
   ],
   "source": [
    "apple         = 100 #りんごが100円\n",
    "num_of_apples = 2  #りんごの個数\n",
    "tax           = 1.1#消費税\n",
    "\n",
    "apple_layer = MulLayer()\n",
    "tax_layer   = MulLayer()\n",
    "\n",
    "apple_layer_result = apple_layer.forward(apple, num_of_apples)\n",
    "tax_layer_result   = tax_layer.forward(apple_layer_result, tax)\n",
    "\n",
    "print(\"===forward 結果===\")\n",
    "print(apple_layer_result)\n",
    "print(tax_layer_result)\n",
    "\n",
    "print(\"=== backward 結果===\")\n",
    "tax_layer_back = tax_layer.backward(1)\n",
    "\n",
    "print(\"tax_layerの微分\")\n",
    "print(\"taxの微分\")\n",
    "upper, lower = tax_layer_back\n",
    "print(lower)\n",
    "\n",
    "print(\"apple_layerの微分\")\n",
    "upper, lower = apple_layer.backward(upper)\n",
    "\n",
    "print(\"appleの微分\")\n",
    "print(upper)\n",
    "print(\"num_of_appleの微分\")\n",
    "print(lower)"
   ]
  },
  {
   "cell_type": "markdown",
   "metadata": {},
   "source": [
    "## 加算レイヤの実装の写経"
   ]
  },
  {
   "cell_type": "code",
   "execution_count": 4,
   "metadata": {},
   "outputs": [],
   "source": [
    "class AddLayer:\n",
    "    def __init__(self):\n",
    "        pass\n",
    "    \n",
    "    def forward(self, x, y):\n",
    "        return x + y\n",
    "    \n",
    "    def backward(self, z):\n",
    "        return z, z"
   ]
  },
  {
   "cell_type": "markdown",
   "metadata": {},
   "source": [
    "## 複雑な例（りんご２個と、みかん３個の買い物）の計算グラフ〜の写経"
   ]
  },
  {
   "cell_type": "code",
   "execution_count": 5,
   "metadata": {},
   "outputs": [
    {
     "name": "stdout",
     "output_type": "stream",
     "text": [
      "==== forward ====\n",
      "715.0000000000001\n",
      "==== backward ====\n",
      "== taxの微分 ==\n",
      "650\n",
      "== りんご、りんごの個数、みかん、みかんの個数の微分 == \n",
      "== りんごの微分==\n",
      "2.2\n",
      "== りんごの個数の微分\n",
      "110.00000000000001\n",
      "== みかんの微分==\n",
      "3.3000000000000003\n",
      "== みかんの個数の微分\n",
      "165.0\n"
     ]
    }
   ],
   "source": [
    "apple         = 100 #りんごの値段\n",
    "num_of_apples = 2   #りんごの個数\n",
    "\n",
    "orange        = 150 #みかんの値段\n",
    "num_of_oranges= 3   #みかんの個数\n",
    "\n",
    "tax           = 1.1 #消費税率\n",
    "\n",
    "apple_layer            = MulLayer()\n",
    "orange_layer           = MulLayer()\n",
    "apple_and_orange_layer = AddLayer()\n",
    "tax_layer              = MulLayer()\n",
    "\n",
    "print(\"==== forward ====\")\n",
    "apple_layer_res            = apple_layer.forward(apple, num_of_apples)\n",
    "orange_layer_res           = orange_layer.forward(orange, num_of_oranges)\n",
    "apple_and_orange_layer_res = apple_and_orange_layer.forward(apple_layer_res, orange_layer_res)\n",
    "forward_res                = tax_layer.forward(apple_and_orange_layer_res, tax)\n",
    "\n",
    "print(forward_res)\n",
    "\n",
    "print(\"==== backward ====\")\n",
    "upper, lower = tax_layer.backward(1)\n",
    "print(\"== taxの微分 ==\")\n",
    "print(lower)\n",
    "\n",
    "print(\"== りんご、りんごの個数、みかん、みかんの個数の微分 == \")\n",
    "dx_apple, dx_orange = apple_and_orange_layer.backward(upper)\n",
    "upper, lower = apple_layer.backward(dx_apple)\n",
    "print(\"== りんごの微分==\")\n",
    "print(upper)\n",
    "print(\"== りんごの個数の微分\")\n",
    "print(lower)\n",
    "\n",
    "upper, lower = orange_layer.backward(dx_orange)\n",
    "print(\"== みかんの微分==\")\n",
    "print(upper)\n",
    "print(\"== みかんの個数の微分\")\n",
    "print(lower)\n",
    "\n",
    "\n",
    "\n"
   ]
  },
  {
   "cell_type": "markdown",
   "metadata": {},
   "source": [
    "## ★ReLUレイヤの実装の写経\n",
    "### その前に、ReLU関数とはなにか"
   ]
  },
  {
   "cell_type": "markdown",
   "metadata": {},
   "source": [
    "$$\n",
    "    ReLU(x) =\n",
    "        \\begin{cases}\n",
    "            x \\quad x > 0 \\\\\n",
    "            0 \\quad x \\leqq 0 \\\\\n",
    "        \\end{cases}\n",
    "$$\n",
    "\n",
    "その微分は以下。\n",
    "\n",
    "$$\n",
    "    ReLU(x)' =\n",
    "        \\begin{cases}\n",
    "            1 \\quad x > 0 \\\\\n",
    "            0 \\quad x \\leqq 0 \\\\\n",
    "        \\end{cases}\n",
    "$$"
   ]
  },
  {
   "cell_type": "markdown",
   "metadata": {},
   "source": [
    "## ReLUレイヤの実装"
   ]
  },
  {
   "cell_type": "markdown",
   "metadata": {},
   "source": [
    "### 間違った実装から\n",
    "#### なぜ勘違いしたのか？\n",
    "入力が関数の形を見て、スカラー的に判断してしまった。\n",
    "入力がベクトルの時、ベクトルのそれぞれの要素に対して演算を行う必要がある。\n",
    "以下の実装は、入力がスカラーの場合は良いが、ベクトルの場合に対応していない。"
   ]
  },
  {
   "cell_type": "code",
   "execution_count": 6,
   "metadata": {},
   "outputs": [],
   "source": [
    "class ReluBad:\n",
    "    def __init__(self):\n",
    "        self.x = None\n",
    "        pass\n",
    "    \n",
    "    def forward(self, x):\n",
    "        self.x = x\n",
    "        if x > 0:\n",
    "            return x\n",
    "        else:\n",
    "            return 0\n",
    "        \n",
    "    def backward(self):\n",
    "        if self.x > 0:\n",
    "            return 1\n",
    "        else:\n",
    "            return 0"
   ]
  },
  {
   "cell_type": "markdown",
   "metadata": {},
   "source": [
    "### 正しい実装"
   ]
  },
  {
   "cell_type": "markdown",
   "metadata": {},
   "source": [
    "### numpyの機能をあまり使わない素朴な実装(さらなる間違いも発覚、根本的な理解不足）\n",
    "配列操作周りは改善したが、そもそもの根本的な理解不足があり。"
   ]
  },
  {
   "cell_type": "code",
   "execution_count": 7,
   "metadata": {},
   "outputs": [],
   "source": [
    "class ReluNaive:\n",
    "    def __init__(self):\n",
    "        #forward時に正の要素は通し、負のものは通さない。backward時も同様に正は通して、負は通さない。\n",
    "        #この時、forward時に通したもの（インデックス）を覚えておく必要があるので、そもそも、クラスのインスタンス変数として\n",
    "        #記憶しておくものは、xではなく、maskである。\n",
    "        self.x = None\n",
    "        pass\n",
    "    \n",
    "    def forward(self, x):\n",
    "        self.x = x\n",
    "        y = x.copy()\n",
    "        for idx in range(y.shape[0]):\n",
    "            if y[idx] <= 0:\n",
    "                y[idx] = 0\n",
    "        return y\n",
    "        \n",
    "    def backward(self): #ここも間違い。逆伝搬してきた値に、自分自身の微分を掛けたものを復帰値とする必要がある。\n",
    "                        #このため、まず、引数を１つ受け取る必要があるが、設定されていない間違い\n",
    "        y = x.copy()\n",
    "        for idx in range(y.shape[0]):\n",
    "            if y[idx] > 0:\n",
    "                y[idx] = 1 #正のものは、逆伝搬してきた値に1を掛けるのが正しい実装。\n",
    "            else:\n",
    "                y[idx] = 0 #ゼロ以下のものを０にするだけ。\n",
    "        return y"
   ]
  },
  {
   "cell_type": "markdown",
   "metadata": {},
   "source": [
    "### numpyの機能を使った実装および、Reluへの正しい理解での実装\n",
    "テキストの実装の通り、numpyを使うとこの辺の実装が大変スマートになる。\n",
    "ブロードキャストとマスク機能を使う。\n",
    "\n",
    "機械学習のプログラミングではベクトルや行列が頻出であり、この辺をしっかり抑えることが肝要。\n",
    "\n",
    "#### ブロードキャストを使った比較と、マスク機能の練習"
   ]
  },
  {
   "cell_type": "code",
   "execution_count": 8,
   "metadata": {},
   "outputs": [
    {
     "name": "stdout",
     "output_type": "stream",
     "text": [
      "[[ 1.  -0.5]\n",
      " [-2.   3. ]]\n",
      "[[ 1.  -0.5]\n",
      " [-2.   3. ]]\n",
      "[[False  True]\n",
      " [ True False]]\n",
      "[[1. 0.]\n",
      " [0. 3.]]\n",
      "range(0, 2)\n"
     ]
    }
   ],
   "source": [
    "x = np.array([[1.0, -0.5],[-2.0, 3.0]])\n",
    "y = x.copy()\n",
    "\n",
    "print(x)\n",
    "print(y)\n",
    "\n",
    "mask = (x <= 0) #ブロードキャスト機能により、配列の各要素を比較した結果の配列を作ることができる\n",
    "print(mask)\n",
    "\n",
    "y[mask] = 0 # mask機能を使うと、Trueとなるindexの要素に値（この場合は０）を代入できる\n",
    "print(y)\n",
    "\n",
    "#y[[True]] = 0 # Error\n",
    "#print(y)      # Error\n",
    "\n",
    "print(range(y.shape[0]))"
   ]
  },
  {
   "cell_type": "markdown",
   "metadata": {},
   "source": [
    "### numpyの機能を使った効率的な実装(テキストの写経)　〜　完成版\n",
    "以下、修正点\n",
    "- インプットをベクトルを意識したものにした\n",
    "- numpyのマスク機能を使って効率的に\n",
    "- Relu関数の微分（forwardで通したものを記憶して、backwardに反映)をした。つまり、インスタンス変数としてmaskを記憶するようにした"
   ]
  },
  {
   "cell_type": "code",
   "execution_count": 9,
   "metadata": {},
   "outputs": [],
   "source": [
    "class Relu:\n",
    "    def __init__(self):\n",
    "        self.mask = None\n",
    "    \n",
    "    def forward(self, x):\n",
    "        y = x.copy()\n",
    "        mask = (x <= 0)\n",
    "        y[mask] = 0\n",
    "        self.mask = mask\n",
    "        return y\n",
    "        \n",
    "    def backward(self, dout):\n",
    "        dout[self.mask] = 0\n",
    "        return dout"
   ]
  },
  {
   "cell_type": "markdown",
   "metadata": {},
   "source": [
    "## ★sigmoidレイヤの実装（テキストの写経)\n",
    "### まずは数式から（テキストP145)\n",
    "\n",
    "計算グラフを自力で書いて求めるのは別途練習するとして、ここでは実装に重きを置くため、テキストをさっと読んで、結論だけを利用する。\n",
    "つまり、テキストＰ１４５を見ると、sigmoidレイヤのforwardとbackward（微分)は以下。\n",
    "\n",
    "まず、forward方向（すでにsigmoid関数として実装していることを思い出そう）。\n",
    "以下、yとxはベクトルであることに注意する。数式としてはやや正確ではないと思うが、numpyのブロードキャストを想像しながら数式を見るとわかりやすい。詳しくは実装にて。\n",
    "$$\n",
    "    y = \\frac{1}{1+exp^(-x)} \\\\\n",
    "$$\n",
    "\n",
    "以下、backward方向\n",
    "\n",
    "$$\n",
    "      y' = \\frac{\\partial L}{\\partial y} y^2 exp(-x) \\\\\n",
    "$$\n",
    "\n",
    "なお、以下は、sigmoidレイヤに最初に逆伝搬で入ってきた、隣のレイヤからの値である。yはsigmoidレイヤで出力した値であり、実装ではインスタンスに保持しておくべき値であろうことに注意しておこう。xも同様に記録しておく必要あり。\n",
    "\n",
    "### 自力で実装してみる。"
   ]
  },
  {
   "cell_type": "code",
   "execution_count": 10,
   "metadata": {},
   "outputs": [],
   "source": [
    "class SigmoidMy:\n",
    "    def __init__(self):\n",
    "        self.x = None\n",
    "        self.y = None\n",
    "        pass\n",
    "    \n",
    "    #入力xはnumpyのベクトルであることに注意。\n",
    "    def forward(self, x):\n",
    "        y = 1 / (1 + np.exp(-x))\n",
    "        self.x = x\n",
    "        self.y = y\n",
    "        return y\n",
    "    \n",
    "    def backward(self, dout):\n",
    "        return dout * (self.y*self.y) * np.exp(-self.x)"
   ]
  },
  {
   "cell_type": "markdown",
   "metadata": {},
   "source": [
    "テキストではＰ１４６で導出される式から、出力yのみで効率よく実装されているが、自力版はそうしていない。\n",
    "テキスト版と自力版のsigmoidレイヤでテストデータを試してみよう。"
   ]
  },
  {
   "cell_type": "code",
   "execution_count": 11,
   "metadata": {},
   "outputs": [
    {
     "name": "stdout",
     "output_type": "stream",
     "text": [
      "[-5. -4. -3. -2. -1.  0.  1.  2.  3.  4.]\n",
      "[0.00669285 0.01798621 0.04742587 0.11920292 0.26894142 0.5\n",
      " 0.73105858 0.88079708 0.95257413 0.98201379]\n",
      "[0.00669285 0.01798621 0.04742587 0.11920292 0.26894142 0.5\n",
      " 0.73105858 0.88079708 0.95257413 0.98201379]\n",
      "[0.00664806 0.01766271 0.04517666 0.10499359 0.19661193 0.25\n",
      " 0.19661193 0.10499359 0.04517666 0.01766271]\n",
      "[0.00664806 0.01766271 0.04517666 0.10499359 0.19661193 0.25\n",
      " 0.19661193 0.10499359 0.04517666 0.01766271]\n"
     ]
    }
   ],
   "source": [
    "from common.layers import Sigmoid\n",
    "\n",
    "t = Sigmoid()\n",
    "m = SigmoidMy()\n",
    "\n",
    "X = np.arange(-5.0, 5.0, 1)\n",
    "print(X)\n",
    "\n",
    "t1 = t.forward(X)\n",
    "print(t1)\n",
    "\n",
    "m1 = m.forward(X)\n",
    "print(m1)\n",
    "\n",
    "t2 = t.backward(1)\n",
    "print(t2)\n",
    "\n",
    "m2 = m.backward(1)\n",
    "print(m2)"
   ]
  },
  {
   "cell_type": "markdown",
   "metadata": {},
   "source": [
    "自力版とテキスト版の出力はあっていそうなので、自力版の実装も正しいと思う。"
   ]
  },
  {
   "cell_type": "markdown",
   "metadata": {},
   "source": [
    "## ★Affineレイヤの実装（テキストの写経)\n",
    "### まずは数式から\n",
    "\n",
    "forward方向。行列Yは次のレイヤへの出力。行列Xは入力、行列Wは重み。ベクトルbはバイアス。\n",
    "\n",
    "$$\n",
    "    \\boldsymbol{Y} =  \\boldsymbol{X}\\boldsymbol{W} + \\boldsymbol{b}\n",
    "$$\n",
    "\n",
    "ここで、バイアスの加算については、注意が必要で、XWのそれぞれの行に対して、bが加算されていくことに注意（バイアスの微分で再び登場するので頭の片隅に入れておく）\n",
    "\n",
    "backward方向。行列Xの微分と行列Wの微分の２つがある。なお、行列Lはネットワークから出力された値で、一番最初に逆伝搬する値（このAffineレイヤに逆伝搬してくる値ではないことに注意。テキストＰ１３３を参照）。\n",
    "\n",
    "$$\n",
    "    \\frac{\\partial L}{\\partial \\boldsymbol{X}} = \\frac{\\partial L}{\\partial \\boldsymbol{Y}} \\boldsymbol{W}^T  \\\\\n",
    "$$\n",
    "\n",
    "なお、以下は、Affineレイヤに最初に逆伝搬で入ってくる値であることに注意。\n",
    "\n",
    "$$\n",
    "    \\frac{\\partial L}{\\partial \\boldsymbol{Y}}\\\\\n",
    "$$\n",
    "\n",
    "行列Wの微分は以下。\n",
    "\n",
    "\n",
    "$$\n",
    "    \\frac{\\partial L}{\\partial \\boldsymbol{W}} = \\boldsymbol{X}^T \\frac{\\partial L}{\\partial \\boldsymbol{Y}}   \\\\\n",
    "$$\n",
    "\n",
    "次に、バイアスの微分を考える必要がある。\n",
    "forwardでのバイアスの加算は、それぞれのデータ（１行目のデータ、２行目のデータ・・・）に対して加算が行われる。このため、バイアスの微分では、逆伝搬の値がバイアスの要素に集約される必要がある。つまり、Affineレイヤに最初に逆伝搬してきた値であるdY(複数行、複数列）を列の要素毎に合計したものを要素にもつベクトルがバイアスの微分になる。\n",
    "\n",
    "これが、Affineレイヤのforwardとbackwardのすべてである。以下、この数式を頼りにまずは、自力で実装してみる。\n"
   ]
  },
  {
   "cell_type": "markdown",
   "metadata": {},
   "source": [
    "### 自力での実装(→少し誤っている)"
   ]
  },
  {
   "cell_type": "code",
   "execution_count": 12,
   "metadata": {},
   "outputs": [],
   "source": [
    "class AffineLayerMy:\n",
    "    def __init__(self, X, W, b):\n",
    "        self.X = X\n",
    "        self.W = W\n",
    "        self.b = b\n",
    "        pass\n",
    "    \n",
    "    def forward(self):\n",
    "        return np.dot(self.X,self.W) + self.b\n",
    "    \n",
    "    def backward(self, dout):\n",
    "        dX = np.dot(dout, self.W.T)\n",
    "        dW = np.dot(self.X.T, dout)\n",
    "        db = np.sum(dout, axis=0) #列要素毎にsumしたベクトルを作る\n",
    "        \n",
    "        return dX, dW, db"
   ]
  },
  {
   "cell_type": "markdown",
   "metadata": {},
   "source": [
    "テキストの正解とは異なる部分がおおい。\n",
    "ただし、あまり本質的な誤りではなく、おそらく、AffineLayerMyをAffineLayerとしてプログラミングしやすくする際の差分だと思う。\n",
    "- AffineLayerMyではコンストラクタの引数にXがあるが、テキストのAffineでは無い\n",
    "- AffineLayerMyではforwardにXは無いが、テキストのAffineにはある。\n",
    "- backwardではdXのみ返却して、dWやdbはインスタンス変数に保持したまま\n",
    "\n",
    "つまり、入力値Ｘについては、コンストラクタで覚えるのではなく、forwardで都度覚えるという形のほうが良いということだろう。\n",
    "考えてみれば、コンストラクタ時にはまだ、入力Ｘは決まっていない気がする。\n",
    "backwardでdXのみ返却するのも、プログラミングのしやすさを重視したものだと想像する（テキストを読み進めるなかで、この予想が正しいかを検証する）"
   ]
  },
  {
   "cell_type": "markdown",
   "metadata": {},
   "source": [
    "### テキストでの実装（そのまま、上記写経に合わせる）"
   ]
  },
  {
   "cell_type": "code",
   "execution_count": 13,
   "metadata": {},
   "outputs": [],
   "source": [
    "class AffineMy:\n",
    "    def __init__(self, W, b):\n",
    "        self.W  = W\n",
    "        self.b  = b\n",
    "        self.X  = None\n",
    "        self.dW = None\n",
    "        self.db = None\n",
    "    \n",
    "    def forward(self,X):\n",
    "        #forwardのつど、Xを記憶\n",
    "        self.X = X\n",
    "        return np.dot(self.X,self.W) + self.b\n",
    "    \n",
    "    def backward(self, dout):\n",
    "        dX = np.dot(dout, self.W.T)\n",
    "        #dW, dbはインスタンス変数に覚えるのみ。\n",
    "        self.dW = np.dot(self.X.T, dout) \n",
    "        self.db = np.sum(dout, axis=0) #列要素毎にsumしたベクトルを作る\n",
    "        \n",
    "        return dX #dXのみ返却するようにした。"
   ]
  },
  {
   "cell_type": "code",
   "execution_count": null,
   "metadata": {},
   "outputs": [],
   "source": []
  }
 ],
 "metadata": {
  "kernelspec": {
   "display_name": "Python 3",
   "language": "python",
   "name": "python3"
  },
  "language_info": {
   "codemirror_mode": {
    "name": "ipython",
    "version": 3
   },
   "file_extension": ".py",
   "mimetype": "text/x-python",
   "name": "python",
   "nbconvert_exporter": "python",
   "pygments_lexer": "ipython3",
   "version": "3.8.5"
  }
 },
 "nbformat": 4,
 "nbformat_minor": 4
}
